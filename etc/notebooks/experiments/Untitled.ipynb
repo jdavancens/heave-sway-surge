{
 "cells": [
  {
   "cell_type": "code",
   "execution_count": 9,
   "metadata": {},
   "outputs": [],
   "source": [
    "import abjad\n",
    "from surge.materials.segment_i.time_signatures import time_signatures"
   ]
  },
  {
   "cell_type": "code",
   "execution_count": 14,
   "metadata": {},
   "outputs": [
    {
     "data": {
      "text/plain": [
       "Sequence([TimeSignature((6, 8)), TimeSignature((4, 8)), TimeSignature((5, 8)), TimeSignature((3, 8)), TimeSignature((5, 8)), TimeSignature((4, 8)), TimeSignature((4, 8)), TimeSignature((3, 8)), TimeSignature((5, 8)), TimeSignature((4, 8)), TimeSignature((5, 8)), TimeSignature((3, 8)), TimeSignature((5, 8)), TimeSignature((3, 8)), TimeSignature((4, 8)), TimeSignature((3, 8)), TimeSignature((4, 8)), TimeSignature((3, 8)), TimeSignature((6, 8)), TimeSignature((6, 8)), TimeSignature((5, 8)), TimeSignature((4, 8)), TimeSignature((3, 8)), TimeSignature((5, 8)), TimeSignature((6, 8)), TimeSignature((5, 8)), TimeSignature((4, 8)), TimeSignature((3, 8)), TimeSignature((6, 8)), TimeSignature((6, 8)), TimeSignature((5, 8)), TimeSignature((4, 8)), TimeSignature((3, 8)), TimeSignature((5, 8)), TimeSignature((6, 8)), TimeSignature((4, 8)), TimeSignature((5, 8)), TimeSignature((3, 8)), TimeSignature((4, 8)), TimeSignature((3, 8)), TimeSignature((4, 8)), TimeSignature((3, 8)), TimeSignature((6, 8)), TimeSignature((5, 8)), TimeSignature((3, 8)), TimeSignature((6, 8)), TimeSignature((4, 8)), TimeSignature((3, 8)), TimeSignature((6, 8)), TimeSignature((4, 8)), TimeSignature((3, 8)), TimeSignature((5, 8)), TimeSignature((6, 8)), TimeSignature((4, 8)), TimeSignature((6, 8)), TimeSignature((5, 8)), TimeSignature((5, 8)), TimeSignature((4, 8)), TimeSignature((5, 8)), TimeSignature((4, 8)), TimeSignature((5, 8)), TimeSignature((3, 8)), TimeSignature((5, 8)), TimeSignature((3, 8)), TimeSignature((4, 8)), TimeSignature((3, 8)), TimeSignature((5, 8)), TimeSignature((4, 8)), TimeSignature((4, 8)), TimeSignature((3, 8)), TimeSignature((5, 8)), TimeSignature((3, 8)), TimeSignature((4, 8)), TimeSignature((3, 8)), TimeSignature((6, 8)), TimeSignature((5, 8)), TimeSignature((3, 8)), TimeSignature((5, 16)), TimeSignature((5, 8)), TimeSignature((6, 8)), TimeSignature((5, 8)), TimeSignature((6, 8)), TimeSignature((4, 8)), TimeSignature((5, 8)), TimeSignature((3, 8)), TimeSignature((4, 8)), TimeSignature((3, 8)), TimeSignature((5, 8)), TimeSignature((3, 8)), TimeSignature((6, 8)), TimeSignature((5, 8)), TimeSignature((3, 8)), TimeSignature((6, 8)), TimeSignature((4, 8)), TimeSignature((3, 8)), TimeSignature((6, 8)), TimeSignature((5, 8)), TimeSignature((3, 8)), TimeSignature((6, 8)), TimeSignature((4, 8)), TimeSignature((3, 8)), TimeSignature((5, 8)), TimeSignature((4, 8)), TimeSignature((3, 8)), TimeSignature((6, 8)), TimeSignature((4, 8)), TimeSignature((3, 8)), TimeSignature((5, 8)), TimeSignature((5, 8)), TimeSignature((3, 8)), TimeSignature((4, 8)), TimeSignature((3, 8)), TimeSignature((5, 8)), TimeSignature((3, 8)), TimeSignature((6, 8)), TimeSignature((5, 8)), TimeSignature((3, 8)), TimeSignature((6, 8)), TimeSignature((4, 8)), TimeSignature((3, 8)), TimeSignature((6, 8)), TimeSignature((4, 8)), TimeSignature((3, 8)), TimeSignature((5, 8)), TimeSignature((6, 8)), TimeSignature((4, 8)), TimeSignature((6, 8)), TimeSignature((5, 8)), TimeSignature((5, 8)), TimeSignature((4, 8)), TimeSignature((4, 8)), TimeSignature((3, 8)), TimeSignature((7, 16)), TimeSignature((3, 8)), TimeSignature((4, 8)), TimeSignature((3, 8)), TimeSignature((6, 8)), TimeSignature((5, 8)), TimeSignature((3, 8)), TimeSignature((6, 8)), TimeSignature((4, 8)), TimeSignature((3, 8)), TimeSignature((5, 8)), TimeSignature((5, 8)), TimeSignature((4, 8)), TimeSignature((5, 8)), TimeSignature((3, 8)), TimeSignature((5, 8)), TimeSignature((4, 8)), TimeSignature((4, 8)), TimeSignature((3, 8)), TimeSignature((6, 8)), TimeSignature((5, 8)), TimeSignature((5, 8)), TimeSignature((4, 8)), TimeSignature((6, 8)), TimeSignature((4, 8)), TimeSignature((5, 8)), TimeSignature((4, 8)), TimeSignature((6, 8)), TimeSignature((4, 8)), TimeSignature((5, 8)), TimeSignature((5, 16)), TimeSignature((2, 8)), TimeSignature((6, 8)), TimeSignature((4, 8)), TimeSignature((5, 8)), TimeSignature((4, 8)), TimeSignature((6, 8)), TimeSignature((4, 8)), TimeSignature((5, 8)), TimeSignature((3, 8)), TimeSignature((5, 8)), TimeSignature((4, 8)), TimeSignature((4, 8)), TimeSignature((3, 8)), TimeSignature((5, 8)), TimeSignature((4, 8)), TimeSignature((5, 8)), TimeSignature((3, 8)), TimeSignature((5, 8)), TimeSignature((3, 8)), TimeSignature((4, 8)), TimeSignature((3, 8))])"
      ]
     },
     "execution_count": 14,
     "metadata": {},
     "output_type": "execute_result"
    }
   ],
   "source": [
    "time_signatures = abjad.Sequence(items=time_signatures)\n",
    "time_signatures.flatten()"
   ]
  },
  {
   "cell_type": "code",
   "execution_count": null,
   "metadata": {},
   "outputs": [],
   "source": []
  }
 ],
 "metadata": {
  "kernelspec": {
   "display_name": "Python 3",
   "language": "python",
   "name": "python3"
  },
  "language_info": {
   "codemirror_mode": {
    "name": "ipython",
    "version": 3
   },
   "file_extension": ".py",
   "mimetype": "text/x-python",
   "name": "python",
   "nbconvert_exporter": "python",
   "pygments_lexer": "ipython3",
   "version": "3.6.3"
  }
 },
 "nbformat": 4,
 "nbformat_minor": 2
}
