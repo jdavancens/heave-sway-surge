{
 "cells": [
  {
   "cell_type": "code",
   "execution_count": 175,
   "metadata": {
    "collapsed": false
   },
   "outputs": [
    {
     "name": "stdout",
     "output_type": "stream",
     "text": [
      "The abjad.ext.ipython extension is already loaded. To reload it, use:\n",
      "  %reload_ext abjad.ext.ipython\n"
     ]
    }
   ],
   "source": [
    "\n",
    "%load_ext abjad.ext.ipython"
   ]
  },
  {
   "cell_type": "code",
   "execution_count": 176,
   "metadata": {
    "collapsed": false
   },
   "outputs": [],
   "source": [
    "voice = Voice(\"c'4 ~ c'16 c'8. r4 r16 c'8.\")"
   ]
  },
  {
   "cell_type": "code",
   "execution_count": 177,
   "metadata": {
    "collapsed": false
   },
   "outputs": [
    {
     "data": {
      "image/png": "[encoded data removed]"
     },
     "metadata": {},
     "output_type": "display_data"
    }
   ],
   "source": [
    "show(voice)"
   ]
  },
  {
   "cell_type": "code",
   "execution_count": 199,
   "metadata": {
    "collapsed": false
   },
   "outputs": [],
   "source": [
    "def print_ties(music):\n",
    "    fused_notes = Voice()\n",
    "    for logical_tie in iterate(music).by_logical_tie():\n",
    "        print(logical_tie)\n",
    "        \n",
    "def fuse_notes(music):\n",
    "    fused_notes = Voice()\n",
    "    for logical_tie in iterate(music).by_logical_tie():\n",
    "        if isinstance(logical_tie[0], Note):\n",
    "            multiplier = Multiplier(logical_tie.written_duration)\n",
    "            pitch = logical_tie[0].written_pitch\n",
    "            note = Note(pitch, (1,1))\n",
    "            attach(multiplier, note)\n",
    "            fused_notes.append(note)\n",
    "        elif isinstance(logical_tie[0], Chord):\n",
    "            multiplier = Multiplier(logical_tie.written_duration)\n",
    "            pitches = logical_tie[0].note_heads\n",
    "            chord = Chord(pitches, (1,1))\n",
    "            attach(multiplier, chord)\n",
    "            fused_notes.append(chord)\n",
    "        elif isinstance(logical_tie[0], Rest):\n",
    "            duration = logical_tie.written_duration\n",
    "            rest = Rest(duration)\n",
    "            fused_notes.append(rest)\n",
    "    return fused_notes\n",
    "\n",
    "def fuse_rests(music):\n",
    "    for run in iterate(music).by_run((Rest)):\n",
    "        print(run)\n",
    "        selection = Selection(run)\n",
    "        print(selection)"
   ]
  },
  {
   "cell_type": "code",
   "execution_count": 200,
   "metadata": {
    "collapsed": true
   },
   "outputs": [],
   "source": [
    "voice = fuse_notes(voice)"
   ]
  },
  {
   "cell_type": "code",
   "execution_count": 201,
   "metadata": {
    "collapsed": false
   },
   "outputs": [
    {
     "name": "stdout",
     "output_type": "stream",
     "text": [
      "\\new Voice {\n",
      "    c'1 * 1\n",
      "    c'1 * 1\n",
      "    r4\n",
      "    r16\n",
      "    c'1 * 1\n",
      "}\n"
     ]
    }
   ],
   "source": [
    "f(voice)"
   ]
  },
  {
   "cell_type": "code",
   "execution_count": null,
   "metadata": {
    "collapsed": true
   },
   "outputs": [],
   "source": []
  },
  {
   "cell_type": "code",
   "execution_count": null,
   "metadata": {
    "collapsed": true
   },
   "outputs": [],
   "source": []
  }
 ],
 "metadata": {
  "kernelspec": {
   "display_name": "Python 3",
   "language": "python",
   "name": "python3"
  },
  "language_info": {
   "codemirror_mode": {
    "name": "ipython",
    "version": 3
   },
   "file_extension": ".py",
   "mimetype": "text/x-python",
   "name": "python",
   "nbconvert_exporter": "python",
   "pygments_lexer": "ipython3",
   "version": "3.5.0"
  }
 },
 "nbformat": 4,
 "nbformat_minor": 0
}
