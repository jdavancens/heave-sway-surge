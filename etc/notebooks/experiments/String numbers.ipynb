{
 "cells": [
  {
   "cell_type": "code",
   "execution_count": 69,
   "metadata": {
    "collapsed": false
   },
   "outputs": [
    {
     "name": "stdout",
     "output_type": "stream",
     "text": [
      "The abjad.ext.ipython extension is already loaded. To reload it, use:\n",
      "  %reload_ext abjad.ext.ipython\n"
     ]
    }
   ],
   "source": [
    "\n",
    "%load_ext abjad.ext.ipython"
   ]
  },
  {
   "cell_type": "markdown",
   "metadata": {},
   "source": [
    "## String number as markup as note head"
   ]
  },
  {
   "cell_type": "code",
   "execution_count": 223,
   "metadata": {
    "collapsed": false
   },
   "outputs": [
    {
     "data": {
      "image/png": "[encoded data removed]"
     },
     "metadata": {},
     "output_type": "display_data"
    }
   ],
   "source": [
    "n = Note(\"f'4\")\n",
    "m = Markup('G').fontsize(-4)\n",
    "m = m.raise_(-0.5)\n",
    "m = m.box()\n",
    "override(n).note_head.stencil = 'ly:text-interface::print'\n",
    "override(n).note_head.text = m\n",
    "override(n).note_head.extra_offset= (0,-2)\n",
    "n2 = Note(\"e''4\")\n",
    "m = Markup('D').fontsize(-4)\n",
    "m = m.raise_(-0.5)\n",
    "m = m.box()\n",
    "override(n2).note_head.stencil = 'ly:text-interface::print'\n",
    "override(n2).note_head.text = m\n",
    "override(n).note_head.extra_offset= (0,-2)\n",
    "staff = Staff([n,n2])\n",
    "g = Glissando()\n",
    "attach(g, staff[:])\n",
    "show(staff)"
   ]
  },
  {
   "cell_type": "code",
   "execution_count": 214,
   "metadata": {
    "collapsed": false
   },
   "outputs": [
    {
     "data": {
      "image/png": "[encoded data removed]"
     },
     "metadata": {},
     "output_type": "display_data"
    }
   ],
   "source": [
    "n = Note(\"f'4\")\n",
    "m = Markup('G').fontsize(-4)\n",
    "m = m.raise_(-0.5)\n",
    "m = m.box()\n",
    "m = m.with_dimensions((0,0.667),(0,0))\n",
    "override(n).note_head.stencil = 'ly:text-interface::print'\n",
    "override(n).note_head.text = m\n",
    "n2 = Note(\"e''4\")\n",
    "m = Markup('D').fontsize(-4)\n",
    "# flat = Markup.flat().fontsize(-4)\n",
    "# m = Markup.concat([m, flat])\n",
    "m = m.raise_(-0.5)\n",
    "m = m.box()\n",
    "override(n2).note_head.stencil = 'ly:text-interface::print'\n",
    "override(n2).note_head.text = m\n",
    "staff = Staff([n,n2])\n",
    "g = Glissando()\n",
    "attach(g, staff[:])\n",
    "#f(staff)\n",
    "show(staff)"
   ]
  },
  {
   "cell_type": "markdown",
   "metadata": {},
   "source": [
    "## String number as column markup as note head"
   ]
  },
  {
   "cell_type": "code",
   "execution_count": 164,
   "metadata": {
    "collapsed": false
   },
   "outputs": [
    {
     "name": "stdout",
     "output_type": "stream",
     "text": [
      "\\new Staff {\n",
      "    \\once \\override NoteHead #'stencil = #ly:text-interface::print\n",
      "    \\once \\override NoteHead #'text = \\markup {\n",
      "        \\whiteout\n",
      "            \\box\n",
      "                \\fontsize\n",
      "                    #-4\n",
      "                    \\column\n",
      "                        {\n",
      "                            D\n",
      "                            G\n",
      "                        }\n",
      "        }\n",
      "    \\once \\override Stem #'stencil = ##f\n",
      "    f'4\n",
      "}\n"
     ]
    },
    {
     "data": {
      "image/png": "[encoded data removed]"
     },
     "metadata": {},
     "output_type": "display_data"
    }
   ],
   "source": [
    "n = Note(\"f'4\")\n",
    "m = Markup('D')\n",
    "m2 = Markup('G')\n",
    "m = Markup.column([m,m2],direction=None)\n",
    "m = m.fontsize(-4)\n",
    "#m = m.raise_(-1)\n",
    "m = m.box()\n",
    "#m = m.filled_box((-1,1),(-1,1),0.)\n",
    "m = m.whiteout()\n",
    "override(n).note_head.stencil = 'ly:text-interface::print'\n",
    "override(n).note_head.text = m\n",
    "override(n).stem.stencil = False\n",
    "staff = Staff([n])\n",
    "f(staff)\n",
    "show(staff)"
   ]
  },
  {
   "cell_type": "markdown",
   "metadata": {},
   "source": [
    "## String number as articulation"
   ]
  },
  {
   "cell_type": "code",
   "execution_count": 138,
   "metadata": {
    "collapsed": false
   },
   "outputs": [
    {
     "name": "stdout",
     "output_type": "stream",
     "text": [
      "_\\staccato\n",
      "\\new Staff {\n",
      "    \\once \\override Script #'extra-offset = #'(0 . 0)\n",
      "    \\once \\override Stem #'stencil = ##f\n",
      "    e''4 _\\staccato\n",
      "}\n"
     ]
    },
    {
     "data": {
      "image/png": "[encoded data removed]"
     },
     "metadata": {},
     "output_type": "display_data"
    }
   ],
   "source": [
    "n = Note(\"e''\")\n",
    "#a = indicatortools.LilyPondCommand('markup {g}', format_slot='right')\n",
    "#a = indicatortools.Articulation('g')\n",
    "a = indicatortools.Articulation('staccato', direction=Down)\n",
    "f(a)\n",
    "attach(a, n)\n",
    "staff = Staff([n])\n",
    "override(n).script.extra_offset = schemetools.SchemePair(0, 0)\n",
    "override(n).stem.stencil = False\n",
    "f(staff)\n",
    "show(n)"
   ]
  },
  {
   "cell_type": "markdown",
   "metadata": {
    "collapsed": true
   },
   "source": [
    "## Markup"
   ]
  },
  {
   "cell_type": "code",
   "execution_count": 221,
   "metadata": {
    "collapsed": false
   },
   "outputs": [
    {
     "name": "stdout",
     "output_type": "stream",
     "text": [
      "\\once \\override Stem #'stencil = ##f\n",
      "\\once \\override TextScript #'Y-offset = #'(0 . 3)\n",
      "c'''4\n",
      "    _ \\markup {\n",
      "        \\whiteout\n",
      "            g\n",
      "        }\n"
     ]
    },
    {
     "data": {
      "image/png": "[encoded data removed]"
     },
     "metadata": {},
     "output_type": "display_data"
    }
   ],
   "source": [
    "n = Note(\"c'''\")\n",
    "m = Markup('g', direction=Down)\n",
    "m = m.whiteout()\n",
    "override\n",
    "override(n).stem.stencil = False\n",
    "override(n).text_script.Y_offset = schemetools.SchemePair(0,3)\n",
    "attach(m,n)\n",
    "f(n)\n",
    "show(n)"
   ]
  },
  {
   "cell_type": "markdown",
   "metadata": {},
   "source": [
    "## LilyPond Command"
   ]
  },
  {
   "cell_type": "code",
   "execution_count": 114,
   "metadata": {
    "collapsed": false
   },
   "outputs": [
    {
     "name": "stdout",
     "output_type": "stream",
     "text": [
      "\\once \\override Stem #'stencil = ##f\n",
      "e''4 \\markup { g }\n"
     ]
    },
    {
     "data": {
      "image/png": "[encoded data removed]"
     },
     "metadata": {},
     "output_type": "display_data"
    }
   ],
   "source": [
    "n = Note(\"e''\")\n",
    "override(n).stem.stencil = False\n",
    "m = indicatortools.LilyPondCommand('markup { g }', format_slot='right')\n",
    "attach(m,n)\n",
    "f(n)\n",
    "show(n)"
   ]
  },
  {
   "cell_type": "code",
   "execution_count": null,
   "metadata": {
    "collapsed": true
   },
   "outputs": [],
   "source": []
  }
 ],
 "metadata": {
  "kernelspec": {
   "display_name": "Python 3",
   "language": "python",
   "name": "python3"
  },
  "language_info": {
   "codemirror_mode": {
    "name": "ipython",
    "version": 3
   },
   "file_extension": ".py",
   "mimetype": "text/x-python",
   "name": "python",
   "nbconvert_exporter": "python",
   "pygments_lexer": "ipython3",
   "version": "3.5.0"
  }
 },
 "nbformat": 4,
 "nbformat_minor": 0
}
