{
 "cells": [
  {
   "cell_type": "code",
   "execution_count": 3,
   "metadata": {},
   "outputs": [],
   "source": [
    "import abjad\n",
    "%load_ext abjad.ext.ipython"
   ]
  },
  {
   "cell_type": "code",
   "execution_count": 14,
   "metadata": {},
   "outputs": [],
   "source": [
    "divisions = [(i, 8) for i in range(3, 8)]\n",
    "ratios = [(1,)]"
   ]
  },
  {
   "cell_type": "code",
   "execution_count": 17,
   "metadata": {},
   "outputs": [
    {
     "data": {
      "text/plain": [
       "Measure((5, 8), \"{ 5/6 c'2. }\")"
      ]
     },
     "execution_count": 17,
     "metadata": {},
     "output_type": "execute_result"
    }
   ],
   "source": [
    "tuplet_spelling_specifier = abjad.rhythmmakertools.TupletSpellingSpecifier(\n",
    "    flatten_trivial_tuplets=True,\n",
    "    rewrite_rest_filled_tuplets=True,\n",
    "    simplify_redundant_tuplets=True\n",
    ")\n",
    "rhythm_maker = abjad.rhythmmakertools.TupletRhythmMaker(\n",
    "    tuplet_ratios=ratios,\n",
    "    tuplet_spelling_specifier=tuplet_spelling_specifier\n",
    ")\n",
    "selections = rhythm_maker(divisions)\n",
    "lilypond_file = abjad.LilyPondFile.rhythm(selections, divisions)\n",
    "lilypond_file.score_block.items[0][1][2]\n"
   ]
  },
  {
   "cell_type": "code",
   "execution_count": 18,
   "metadata": {},
   "outputs": [
    {
     "data": {
      "text/plain": [
       "Measure((5, 8), \"{ 5/6 c'2. }\")"
      ]
     },
     "execution_count": 18,
     "metadata": {},
     "output_type": "execute_result"
    }
   ],
   "source": [
    "tuplet_spelling_specifier = abjad.rhythmmakertools.TupletSpellingSpecifier(\n",
    "    flatten_trivial_tuplets=True,\n",
    "    rewrite_rest_filled_tuplets=True,\n",
    "    simplify_redundant_tuplets=False\n",
    ")\n",
    "rhythm_maker = abjad.rhythmmakertools.TupletRhythmMaker(\n",
    "    tuplet_ratios=ratios,\n",
    "    tuplet_spelling_specifier=tuplet_spelling_specifier\n",
    ")\n",
    "selections = rhythm_maker(divisions)\n",
    "lilypond_file = abjad.LilyPondFile.rhythm(selections, divisions)\n",
    "lilypond_file.score_block.items[0][1][2]"
   ]
  },
  {
   "cell_type": "code",
   "execution_count": 19,
   "metadata": {},
   "outputs": [
    {
     "data": {
      "text/plain": [
       "Measure((5, 8), \"{ 5/6 c'2. }\")"
      ]
     },
     "execution_count": 19,
     "metadata": {},
     "output_type": "execute_result"
    }
   ],
   "source": [
    "tuplet_spelling_specifier = abjad.rhythmmakertools.TupletSpellingSpecifier(\n",
    "    flatten_trivial_tuplets=True,\n",
    "    rewrite_rest_filled_tuplets=False,\n",
    "    simplify_redundant_tuplets=True\n",
    ")\n",
    "rhythm_maker = abjad.rhythmmakertools.TupletRhythmMaker(\n",
    "    tuplet_ratios=ratios,\n",
    "    tuplet_spelling_specifier=tuplet_spelling_specifier\n",
    ")\n",
    "selections = rhythm_maker(divisions)\n",
    "lilypond_file = abjad.LilyPondFile.rhythm(selections, divisions)\n",
    "lilypond_file.score_block.items[0][1][2]"
   ]
  },
  {
   "cell_type": "code",
   "execution_count": 20,
   "metadata": {},
   "outputs": [
    {
     "data": {
      "text/plain": [
       "Measure((5, 8), \"{ 5/6 c'2. }\")"
      ]
     },
     "execution_count": 20,
     "metadata": {},
     "output_type": "execute_result"
    }
   ],
   "source": [
    "tuplet_spelling_specifier = abjad.rhythmmakertools.TupletSpellingSpecifier(\n",
    "    flatten_trivial_tuplets=False,\n",
    "    rewrite_rest_filled_tuplets=True,\n",
    "    simplify_redundant_tuplets=True\n",
    ")\n",
    "rhythm_maker = abjad.rhythmmakertools.TupletRhythmMaker(\n",
    "    tuplet_ratios=ratios,\n",
    "    tuplet_spelling_specifier=tuplet_spelling_specifier\n",
    ")\n",
    "selections = rhythm_maker(divisions)\n",
    "lilypond_file = abjad.LilyPondFile.rhythm(selections, divisions)\n",
    "lilypond_file.score_block.items[0][1][2]"
   ]
  },
  {
   "cell_type": "code",
   "execution_count": 21,
   "metadata": {},
   "outputs": [
    {
     "data": {
      "text/plain": [
       "Measure((5, 8), \"{ 5/6 c'2. }\")"
      ]
     },
     "execution_count": 21,
     "metadata": {},
     "output_type": "execute_result"
    }
   ],
   "source": [
    "tuplet_spelling_specifier = abjad.rhythmmakertools.TupletSpellingSpecifier(\n",
    "    flatten_trivial_tuplets=False,\n",
    "    rewrite_rest_filled_tuplets=False,\n",
    "    simplify_redundant_tuplets=True\n",
    ")\n",
    "rhythm_maker = abjad.rhythmmakertools.TupletRhythmMaker(\n",
    "    tuplet_ratios=ratios,\n",
    "    tuplet_spelling_specifier=tuplet_spelling_specifier\n",
    ")\n",
    "selections = rhythm_maker(divisions)\n",
    "lilypond_file = abjad.LilyPondFile.rhythm(selections, divisions)\n",
    "lilypond_file.score_block.items[0][1][2]"
   ]
  },
  {
   "cell_type": "code",
   "execution_count": 22,
   "metadata": {},
   "outputs": [
    {
     "data": {
      "text/plain": [
       "Measure((5, 8), \"{ 5/6 c'2. }\")"
      ]
     },
     "execution_count": 22,
     "metadata": {},
     "output_type": "execute_result"
    }
   ],
   "source": [
    "tuplet_spelling_specifier = abjad.rhythmmakertools.TupletSpellingSpecifier(\n",
    "    flatten_trivial_tuplets=False,\n",
    "    rewrite_rest_filled_tuplets=True,\n",
    "    simplify_redundant_tuplets=False\n",
    ")\n",
    "rhythm_maker = abjad.rhythmmakertools.TupletRhythmMaker(\n",
    "    tuplet_ratios=ratios,\n",
    "    tuplet_spelling_specifier=tuplet_spelling_specifier\n",
    ")\n",
    "selections = rhythm_maker(divisions)\n",
    "lilypond_file = abjad.LilyPondFile.rhythm(selections, divisions)\n",
    "lilypond_file.score_block.items[0][1][2]"
   ]
  },
  {
   "cell_type": "code",
   "execution_count": 23,
   "metadata": {},
   "outputs": [
    {
     "data": {
      "text/plain": [
       "Measure((5, 8), \"{ 5/6 c'2. }\")"
      ]
     },
     "execution_count": 23,
     "metadata": {},
     "output_type": "execute_result"
    }
   ],
   "source": [
    "tuplet_spelling_specifier = abjad.rhythmmakertools.TupletSpellingSpecifier(\n",
    "    flatten_trivial_tuplets=True,\n",
    "    rewrite_rest_filled_tuplets=False,\n",
    "    simplify_redundant_tuplets=False\n",
    ")\n",
    "rhythm_maker = abjad.rhythmmakertools.TupletRhythmMaker(\n",
    "    tuplet_ratios=ratios,\n",
    "    tuplet_spelling_specifier=tuplet_spelling_specifier\n",
    ")\n",
    "selections = rhythm_maker(divisions)\n",
    "lilypond_file = abjad.LilyPondFile.rhythm(selections, divisions)\n",
    "lilypond_file.score_block.items[0][1][2]"
   ]
  },
  {
   "cell_type": "code",
   "execution_count": 24,
   "metadata": {},
   "outputs": [
    {
     "data": {
      "text/plain": [
       "Measure((5, 8), \"{ 5/6 c'2. }\")"
      ]
     },
     "execution_count": 24,
     "metadata": {},
     "output_type": "execute_result"
    }
   ],
   "source": [
    "tuplet_spelling_specifier = abjad.rhythmmakertools.TupletSpellingSpecifier(\n",
    "    flatten_trivial_tuplets=False,\n",
    "    rewrite_rest_filled_tuplets=False,\n",
    "    simplify_redundant_tuplets=False\n",
    ")\n",
    "rhythm_maker = abjad.rhythmmakertools.TupletRhythmMaker(\n",
    "    tuplet_ratios=ratios,\n",
    "    tuplet_spelling_specifier=tuplet_spelling_specifier\n",
    ")\n",
    "selections = rhythm_maker(divisions)\n",
    "lilypond_file = abjad.LilyPondFile.rhythm(selections, divisions)\n",
    "lilypond_file.score_block.items[0][1][2]"
   ]
  },
  {
   "cell_type": "code",
   "execution_count": null,
   "metadata": {},
   "outputs": [],
   "source": []
  },
  {
   "cell_type": "code",
   "execution_count": null,
   "metadata": {},
   "outputs": [],
   "source": []
  }
 ],
 "metadata": {
  "kernelspec": {
   "display_name": "Python 3",
   "language": "python",
   "name": "python3"
  },
  "language_info": {
   "codemirror_mode": {
    "name": "ipython",
    "version": 3
   },
   "file_extension": ".py",
   "mimetype": "text/x-python",
   "name": "python",
   "nbconvert_exporter": "python",
   "pygments_lexer": "ipython3",
   "version": "3.6.3"
  }
 },
 "nbformat": 4,
 "nbformat_minor": 2
}
