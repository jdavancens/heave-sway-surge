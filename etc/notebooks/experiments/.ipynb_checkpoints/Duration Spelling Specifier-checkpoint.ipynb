{
 "cells": [
  {
   "cell_type": "code",
   "execution_count": 3,
   "metadata": {},
   "outputs": [
    {
     "name": "stdout",
     "output_type": "stream",
     "text": [
      "The abjad.ext.ipython extension is already loaded. To reload it, use:\n",
      "  %reload_ext abjad.ext.ipython\n"
     ]
    }
   ],
   "source": [
    "import abjad\n",
    "from abjad import rhythmmakertools\n",
    "%load_ext abjad.ext.ipython"
   ]
  },
  {
   "cell_type": "code",
   "execution_count": 5,
   "metadata": {},
   "outputs": [],
   "source": [
    "def test_forbidden_duration(forbidden_written_duration):\n",
    "    divisions = [(6, 8)]\n",
    "    duration_spelling_specifier = rhythmmakertools.DurationSpellingSpecifier(\n",
    "        decrease_durations_monotonically=True,\n",
    "        forbid_meter_rewriting=False,\n",
    "        forbidden_written_duration=forbidden_written_duration,\n",
    "        rewrite_meter=True,\n",
    "        spell_metrically='unassignable',\n",
    "    )\n",
    "    maker = rhythmmakertools.NoteRhythmMaker(duration_spelling_specifier=duration_spelling_specifier)\n",
    "    selections = maker(divisions)\n",
    "    lilypond_file = abjad.LilyPondFile.rhythm(\n",
    "        selections,\n",
    "        divisions,\n",
    "        )\n",
    "    show(lilypond_file) "
   ]
  },
  {
   "cell_type": "code",
   "execution_count": 7,
   "metadata": {},
   "outputs": [
    {
     "data": {
      "image/png": "[encoded data removed]"
     },
     "metadata": {},
     "output_type": "display_data"
    }
   ],
   "source": [
    "test_forbidden_duration((1, 2))"
   ]
  },
  {
   "cell_type": "code",
   "execution_count": null,
   "metadata": {},
   "outputs": [],
   "source": []
  }
 ],
 "metadata": {
  "kernelspec": {
   "display_name": "Python 3",
   "language": "python",
   "name": "python3"
  },
  "language_info": {
   "codemirror_mode": {
    "name": "ipython",
    "version": 3
   },
   "file_extension": ".py",
   "mimetype": "text/x-python",
   "name": "python",
   "nbconvert_exporter": "python",
   "pygments_lexer": "ipython3",
   "version": "3.6.3"
  }
 },
 "nbformat": 4,
 "nbformat_minor": 2
}
