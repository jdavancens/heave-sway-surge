{
 "cells": [
  {
   "cell_type": "code",
   "execution_count": 1,
   "metadata": {
    "collapsed": true
   },
   "outputs": [],
   "source": [
    "import numpy as np\n",
    "\n",
    "import matplotlib.pyplot as plt\n",
    "%matplotlib inline\n",
    "res = 2000"
   ]
  },
  {
   "cell_type": "code",
   "execution_count": 2,
   "metadata": {
    "collapsed": false
   },
   "outputs": [
    {
     "ename": "SyntaxError",
     "evalue": "invalid syntax (<ipython-input-2-87a7fe8dfeb8>, line 15)",
     "output_type": "error",
     "traceback": [
      "\u001b[0;36m  File \u001b[0;32m\"<ipython-input-2-87a7fe8dfeb8>\"\u001b[0;36m, line \u001b[0;32m15\u001b[0m\n\u001b[0;31m    path_stage_3.set_interpolater(SineInterpolater(freq=30, amp=1.5))\u001b[0m\n\u001b[0m               ^\u001b[0m\n\u001b[0;31mSyntaxError\u001b[0m\u001b[0;31m:\u001b[0m invalid syntax\n"
     ]
    }
   ],
   "source": [
    "path_stage_3 = surge.bezzie.Path(\n",
    "    # 3-1\n",
    "    BezierCurve((0, 0), (5, 0)),\n",
    "    BezierCurve((5, 0), (9, 0.1)),\n",
    "    # 3-2\n",
    "    BezierCurve((9, 0), (20, 0)),\n",
    "    BezierCurve((20, 0), (22, 0.2)),\n",
    "    # 3-3\n",
    "    BezierCurve((22, 0), (32, 0)),\n",
    "    BezierCurve((32, 0), 34, 0.3),\n",
    "    # 3-4\n",
    "    BezierCurve((34, 0), (45, 0)),\n",
    "    BezierCurve((45, 0), (47, 0.4)),\n",
    ")\n",
    "path_stage_3.set_interpolater(SineInterpolater(freq=30, amp=1.5))\n",
    "X = [x/float(res) for x in range(res)]\n",
    "Y = [path_stage_3(x) for x in X]\n",
    "fig, ax = plt.subplots(1, 1, figsize=(16, 4))\n",
    "ax.set_autoscale_on(False)\n",
    "plt.plot(X,Y, 'r.-')"
   ]
  },
  {
   "cell_type": "code",
   "execution_count": null,
   "metadata": {
    "collapsed": true
   },
   "outputs": [],
   "source": []
  }
 ],
 "metadata": {
  "kernelspec": {
   "display_name": "Python 2",
   "language": "python",
   "name": "python2"
  },
  "language_info": {
   "codemirror_mode": {
    "name": "ipython",
    "version": 2
   },
   "file_extension": ".py",
   "mimetype": "text/x-python",
   "name": "python",
   "nbconvert_exporter": "python",
   "pygments_lexer": "ipython2",
   "version": "2.7.11"
  }
 },
 "nbformat": 4,
 "nbformat_minor": 0
}
