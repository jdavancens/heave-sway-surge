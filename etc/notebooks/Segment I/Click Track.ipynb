{
 "cells": [
  {
   "cell_type": "code",
   "execution_count": 1,
   "metadata": {},
   "outputs": [],
   "source": [
    "import abjad\n",
    "import surge\n",
    "%load_ext abjad.ext.ipython"
   ]
  },
  {
   "cell_type": "code",
   "execution_count": 2,
   "metadata": {},
   "outputs": [],
   "source": [
    "time_signatures = surge.materials.segment_i.time_signatures\n",
    "tempo_map = surge.materials.segment_i.tempo_map"
   ]
  },
  {
   "cell_type": "code",
   "execution_count": 3,
   "metadata": {},
   "outputs": [],
   "source": [
    "time_signatures = abjad.Sequence(time_signatures).flatten().items\n",
    "durations = list(map(lambda x: x.duration, time_signatures))"
   ]
  },
  {
   "cell_type": "code",
   "execution_count": 4,
   "metadata": {},
   "outputs": [],
   "source": [
    "measure_maker = abjad.MeasureMaker()\n",
    "measures = measure_maker(time_signatures)\n",
    "note_maker = abjad.NoteMaker()"
   ]
  },
  {
   "cell_type": "code",
   "execution_count": 27,
   "metadata": {},
   "outputs": [
    {
     "name": "stdout",
     "output_type": "stream",
     "text": [
      "1 8=108\n",
      "17 8=162\n",
      "37 8=136\n",
      "50 8=108\n",
      "59 8=162\n",
      "75 8=136\n",
      "84 8=94\n",
      "97 8=162\n",
      "109 8=144\n",
      "122 8=108\n",
      "131 8=136\n",
      "144 8=162\n",
      "152 8=136\n",
      "169 8=108\n"
     ]
    }
   ],
   "source": [
    "rhythm_maker = abjad.rhythmmakertools.NoteRhythmMaker()\n",
    "selections = rhythm_maker(time_signatures)\n",
    "for tempo in tempo_map:\n",
    "    index = tempo[0]\n",
    "    indicator = tempo[1]\n",
    "    note = selections[0][0]\n",
    "    abjad.attach(indicator, note)\n",
    "    print(index+1, indicator)"
   ]
  },
  {
   "cell_type": "code",
   "execution_count": 22,
   "metadata": {
    "scrolled": true
   },
   "outputs": [],
   "source": [
    "lilypond_file = abjad.LilyPondFile.rhythm(selections, time_signatures)"
   ]
  },
  {
   "cell_type": "code",
   "execution_count": 23,
   "metadata": {},
   "outputs": [
    {
     "data": {
      "text/plain": [
       "('/Users/josephdavancens/Dropbox/Music/click.midi',\n",
       " 2.367493152618408,\n",
       " 0.7280769348144531)"
      ]
     },
     "execution_count": 23,
     "metadata": {},
     "output_type": "execute_result"
    }
   ],
   "source": [
    "abjad.persist(lilypond_file).as_midi('/Users/josephdavancens/Dropbox/Music/click.mid')"
   ]
  },
  {
   "cell_type": "code",
   "execution_count": null,
   "metadata": {},
   "outputs": [],
   "source": []
  }
 ],
 "metadata": {
  "kernelspec": {
   "display_name": "Python 3",
   "language": "python",
   "name": "python3"
  },
  "language_info": {
   "codemirror_mode": {
    "name": "ipython",
    "version": 3
   },
   "file_extension": ".py",
   "mimetype": "text/x-python",
   "name": "python",
   "nbconvert_exporter": "python",
   "pygments_lexer": "ipython3",
   "version": "3.6.3"
  }
 },
 "nbformat": 4,
 "nbformat_minor": 2
}
