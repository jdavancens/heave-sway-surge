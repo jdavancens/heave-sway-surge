{
 "cells": [
  {
   "cell_type": "code",
   "execution_count": 1,
   "metadata": {},
   "outputs": [],
   "source": [
    "import abjad\n",
    "%load_ext abjad.ext.ipython\n",
    "from surge.materials.segment_i.time_signatures import time_signatures"
   ]
  },
  {
   "cell_type": "code",
   "execution_count": 4,
   "metadata": {},
   "outputs": [
    {
     "name": "stdout",
     "output_type": "stream",
     "text": [
      "[TimeSignature((6, 8)), TimeSignature((4, 8)), TimeSignature((5, 8)), TimeSignature((3, 8)), TimeSignature((5, 8)), TimeSignature((4, 8)), TimeSignature((4, 8)), TimeSignature((3, 8)), TimeSignature((5, 8)), TimeSignature((4, 8)), TimeSignature((5, 8)), TimeSignature((3, 8)), TimeSignature((5, 8)), TimeSignature((3, 8)), TimeSignature((4, 8)), TimeSignature((3, 8))]\n"
     ]
    }
   ],
   "source": [
    "print(time_signatures[0][0])"
   ]
  },
  {
   "cell_type": "code",
   "execution_count": null,
   "metadata": {},
   "outputs": [],
   "source": []
  }
 ],
 "metadata": {
  "kernelspec": {
   "display_name": "Python 3",
   "language": "python",
   "name": "python3"
  },
  "language_info": {
   "codemirror_mode": {
    "name": "ipython",
    "version": 3
   },
   "file_extension": ".py",
   "mimetype": "text/x-python",
   "name": "python",
   "nbconvert_exporter": "python",
   "pygments_lexer": "ipython3",
   "version": "3.6.3"
  }
 },
 "nbformat": 4,
 "nbformat_minor": 2
}
