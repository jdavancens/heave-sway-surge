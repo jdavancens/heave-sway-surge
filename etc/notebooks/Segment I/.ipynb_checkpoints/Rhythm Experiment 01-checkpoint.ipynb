{
 "cells": [
  {
   "cell_type": "code",
   "execution_count": 1,
   "metadata": {},
   "outputs": [],
   "source": [
    "import abjad\n",
    "import surge\n",
    "%load_ext abjad.ext.ipython"
   ]
  },
  {
   "cell_type": "code",
   "execution_count": 2,
   "metadata": {},
   "outputs": [],
   "source": [
    "from surge.tools.makers.RatioMaker import RatioMaker\n",
    "from surge.tools.rhythmtools.MultiDiffProlater import MultiDiffProlater\n",
    "from surge.tools.rhythmtools.EvenSubdivider import EvenSubdivider"
   ]
  },
  {
   "cell_type": "code",
   "execution_count": 3,
   "metadata": {},
   "outputs": [],
   "source": [
    "time_signatures = surge.materials.segment_i.time_signatures\n",
    "tempo_map = surge.materials.segment_i.tempo_map\n",
    "time_signatures = abjad.Sequence(time_signatures).flatten().items\n",
    "measure_durations = list(map(lambda x: x.duration, time_signatures))"
   ]
  },
  {
   "cell_type": "code",
   "execution_count": 4,
   "metadata": {},
   "outputs": [],
   "source": [
    "ratio_maker = RatioMaker(\n",
    "    time_signatures=time_signatures,\n",
    "    rest_indices=[],\n",
    "    prolater=MultiDiffProlater(\n",
    "        multiplier_cycle=[1],\n",
    "        difference_cycle=[1, 0, -1],\n",
    "        unit=16\n",
    "    ),\n",
    "#     subdivider=EvenSubdivider([2, 3], rotation_cycle=[0, 1, 2])\n",
    ")\n",
    "ratios = ratio_maker()"
   ]
  },
  {
   "cell_type": "code",
   "execution_count": 5,
   "metadata": {},
   "outputs": [],
   "source": [
    "rhythm_maker = abjad.rhythmmakertools.TupletRhythmMaker(ratios)"
   ]
  },
  {
   "cell_type": "code",
   "execution_count": 6,
   "metadata": {},
   "outputs": [],
   "source": [
    "selections = rhythm_maker(time_signatures)"
   ]
  },
  {
   "cell_type": "code",
   "execution_count": null,
   "metadata": {},
   "outputs": [],
   "source": [
    "lilypond_file = abjad.LilyPondFile.rhythm(\n",
    "    selections,\n",
    "    time_signatures,\n",
    ")\n",
    "abjad.show(lilypond_file) "
   ]
  }
 ],
 "metadata": {
  "kernelspec": {
   "display_name": "Python 3",
   "language": "python",
   "name": "python3"
  },
  "language_info": {
   "codemirror_mode": {
    "name": "ipython",
    "version": 3
   },
   "file_extension": ".py",
   "mimetype": "text/x-python",
   "name": "python",
   "nbconvert_exporter": "python",
   "pygments_lexer": "ipython3",
   "version": "3.6.3"
  }
 },
 "nbformat": 4,
 "nbformat_minor": 2
}
