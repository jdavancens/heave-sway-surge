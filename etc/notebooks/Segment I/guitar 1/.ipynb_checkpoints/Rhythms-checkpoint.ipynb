{
 "cells": [
  {
   "cell_type": "code",
   "execution_count": 1,
   "metadata": {},
   "outputs": [],
   "source": [
    "import abjad\n",
    "import surge\n",
    "%load_ext abjad.ext.ipython"
   ]
  },
  {
   "cell_type": "code",
   "execution_count": 9,
   "metadata": {},
   "outputs": [],
   "source": [
    "from surge.materials.segment_i.time_signatures import time_signatures"
   ]
  },
  {
   "cell_type": "code",
   "execution_count": 22,
   "metadata": {},
   "outputs": [
    {
     "ename": "TypeError",
     "evalue": "can not initialize container from [Voice(\"c'4. ~ c'4. ~ c'4 ~ c'4 c'4 ~ c'4 r8 c'4. c'4 ~ c'4 r8 c'4 ~ c'4 ~ c'4 ~ c'4 ~ c'4. ~ c'4 ~ c'4 r8 c'4 ~ c'4 c'4 ~ c'4 ~ c'8 ~ c'4 r8 c'4 ~ c'4 ~ c'8 ~ c'4. c'4 ~ c'4 ~ c'4 r8\"), <Voice{16}>]. try using mutate().wrap()?",
     "output_type": "error",
     "traceback": [
      "\u001b[0;31m---------------------------------------------------------------------------\u001b[0m",
      "\u001b[0;31mTypeError\u001b[0m                                 Traceback (most recent call last)",
      "\u001b[0;32m<ipython-input-22-3a9ff3598aea>\u001b[0m in \u001b[0;36m<module>\u001b[0;34m()\u001b[0m\n\u001b[1;32m     32\u001b[0m \u001b[0mmeasures\u001b[0m \u001b[0;34m=\u001b[0m \u001b[0mmaker\u001b[0m\u001b[0;34m(\u001b[0m\u001b[0mtime_signatures\u001b[0m\u001b[0;34m[\u001b[0m\u001b[0;36m0\u001b[0m\u001b[0;34m]\u001b[0m\u001b[0;34m[\u001b[0m\u001b[0;36m0\u001b[0m\u001b[0;34m]\u001b[0m\u001b[0;34m)\u001b[0m\u001b[0;34m\u001b[0m\u001b[0m\n\u001b[1;32m     33\u001b[0m \u001b[0mvoice2\u001b[0m \u001b[0;34m=\u001b[0m \u001b[0mabjad\u001b[0m\u001b[0;34m.\u001b[0m\u001b[0mVoice\u001b[0m\u001b[0;34m(\u001b[0m\u001b[0mmeasures\u001b[0m\u001b[0;34m)\u001b[0m\u001b[0;34m\u001b[0m\u001b[0m\n\u001b[0;32m---> 34\u001b[0;31m \u001b[0mguitar_1\u001b[0m \u001b[0;34m=\u001b[0m \u001b[0mabjad\u001b[0m\u001b[0;34m.\u001b[0m\u001b[0mStaff\u001b[0m\u001b[0;34m(\u001b[0m\u001b[0;34m[\u001b[0m\u001b[0mvoice1\u001b[0m\u001b[0;34m,\u001b[0m \u001b[0mvoice2\u001b[0m\u001b[0;34m]\u001b[0m\u001b[0;34m,\u001b[0m \u001b[0mis_simultaneous\u001b[0m\u001b[0;34m=\u001b[0m\u001b[0;32mTrue\u001b[0m\u001b[0;34m)\u001b[0m\u001b[0;34m\u001b[0m\u001b[0m\n\u001b[0m",
      "\u001b[0;32m~/.virtualenvs/surge/lib/python3.6/site-packages/abjad/tools/scoretools/Staff.py\u001b[0m in \u001b[0;36m__init__\u001b[0;34m(self, music, context_name, is_simultaneous, name)\u001b[0m\n\u001b[1;32m     52\u001b[0m             \u001b[0mcontext_name\u001b[0m\u001b[0;34m=\u001b[0m\u001b[0mcontext_name\u001b[0m\u001b[0;34m,\u001b[0m\u001b[0;34m\u001b[0m\u001b[0m\n\u001b[1;32m     53\u001b[0m             \u001b[0mis_simultaneous\u001b[0m\u001b[0;34m=\u001b[0m\u001b[0mis_simultaneous\u001b[0m\u001b[0;34m,\u001b[0m\u001b[0;34m\u001b[0m\u001b[0m\n\u001b[0;32m---> 54\u001b[0;31m             \u001b[0mname\u001b[0m\u001b[0;34m=\u001b[0m\u001b[0mname\u001b[0m\u001b[0;34m,\u001b[0m\u001b[0;34m\u001b[0m\u001b[0m\n\u001b[0m\u001b[1;32m     55\u001b[0m             )\n",
      "\u001b[0;32m~/.virtualenvs/surge/lib/python3.6/site-packages/abjad/tools/scoretools/Context.py\u001b[0m in \u001b[0;36m__init__\u001b[0;34m(self, music, context_name, is_simultaneous, name)\u001b[0m\n\u001b[1;32m     59\u001b[0m             \u001b[0mis_simultaneous\u001b[0m\u001b[0;34m=\u001b[0m\u001b[0mis_simultaneous\u001b[0m\u001b[0;34m,\u001b[0m\u001b[0;34m\u001b[0m\u001b[0m\n\u001b[1;32m     60\u001b[0m             \u001b[0mmusic\u001b[0m\u001b[0;34m=\u001b[0m\u001b[0mmusic\u001b[0m\u001b[0;34m,\u001b[0m\u001b[0;34m\u001b[0m\u001b[0m\n\u001b[0;32m---> 61\u001b[0;31m             \u001b[0mname\u001b[0m\u001b[0;34m=\u001b[0m\u001b[0mname\u001b[0m\u001b[0;34m,\u001b[0m\u001b[0;34m\u001b[0m\u001b[0m\n\u001b[0m\u001b[1;32m     62\u001b[0m             )\n\u001b[1;32m     63\u001b[0m         \u001b[0mself\u001b[0m\u001b[0;34m.\u001b[0m\u001b[0mcontext_name\u001b[0m \u001b[0;34m=\u001b[0m \u001b[0mcontext_name\u001b[0m\u001b[0;34m\u001b[0m\u001b[0m\n",
      "\u001b[0;32m~/.virtualenvs/surge/lib/python3.6/site-packages/abjad/tools/scoretools/Container.py\u001b[0m in \u001b[0;36m__init__\u001b[0;34m(self, music, is_simultaneous, name)\u001b[0m\n\u001b[1;32m    161\u001b[0m         \u001b[0mself\u001b[0m\u001b[0;34m.\u001b[0m\u001b[0m_named_children\u001b[0m \u001b[0;34m=\u001b[0m \u001b[0;34m{\u001b[0m\u001b[0;34m}\u001b[0m\u001b[0;34m\u001b[0m\u001b[0m\n\u001b[1;32m    162\u001b[0m         \u001b[0mself\u001b[0m\u001b[0;34m.\u001b[0m\u001b[0m_is_simultaneous\u001b[0m \u001b[0;34m=\u001b[0m \u001b[0;32mNone\u001b[0m\u001b[0;34m\u001b[0m\u001b[0m\n\u001b[0;32m--> 163\u001b[0;31m         \u001b[0mself\u001b[0m\u001b[0;34m.\u001b[0m\u001b[0m_initialize_music\u001b[0m\u001b[0;34m(\u001b[0m\u001b[0mmusic\u001b[0m\u001b[0;34m)\u001b[0m\u001b[0;34m\u001b[0m\u001b[0m\n\u001b[0m\u001b[1;32m    164\u001b[0m         \u001b[0mself\u001b[0m\u001b[0;34m.\u001b[0m\u001b[0mis_simultaneous\u001b[0m \u001b[0;34m=\u001b[0m \u001b[0mis_simultaneous\u001b[0m\u001b[0;34m\u001b[0m\u001b[0m\n\u001b[1;32m    165\u001b[0m \u001b[0;34m\u001b[0m\u001b[0m\n",
      "\u001b[0;32m~/.virtualenvs/surge/lib/python3.6/site-packages/abjad/tools/scoretools/Container.py\u001b[0m in \u001b[0;36m_initialize_music\u001b[0;34m(self, music)\u001b[0m\n\u001b[1;32m    768\u001b[0m             \u001b[0mmessage\u001b[0m \u001b[0;34m+=\u001b[0m \u001b[0;34m' try using mutate().wrap()?'\u001b[0m\u001b[0;34m\u001b[0m\u001b[0m\n\u001b[1;32m    769\u001b[0m             \u001b[0mmessage\u001b[0m \u001b[0;34m=\u001b[0m \u001b[0mmessage\u001b[0m\u001b[0;34m.\u001b[0m\u001b[0mformat\u001b[0m\u001b[0;34m(\u001b[0m\u001b[0mmusic\u001b[0m\u001b[0;34m)\u001b[0m\u001b[0;34m\u001b[0m\u001b[0m\n\u001b[0;32m--> 770\u001b[0;31m             \u001b[0;32mraise\u001b[0m \u001b[0mTypeError\u001b[0m\u001b[0;34m(\u001b[0m\u001b[0mmessage\u001b[0m\u001b[0;34m)\u001b[0m\u001b[0;34m\u001b[0m\u001b[0m\n\u001b[0m\u001b[1;32m    771\u001b[0m \u001b[0;34m\u001b[0m\u001b[0m\n\u001b[1;32m    772\u001b[0m     \u001b[0;32mdef\u001b[0m \u001b[0m_is_one_of_my_first_leaves\u001b[0m\u001b[0;34m(\u001b[0m\u001b[0mself\u001b[0m\u001b[0;34m,\u001b[0m \u001b[0mleaf\u001b[0m\u001b[0;34m)\u001b[0m\u001b[0;34m:\u001b[0m\u001b[0;34m\u001b[0m\u001b[0m\n",
      "\u001b[0;31mTypeError\u001b[0m: can not initialize container from [Voice(\"c'4. ~ c'4. ~ c'4 ~ c'4 c'4 ~ c'4 r8 c'4. c'4 ~ c'4 r8 c'4 ~ c'4 ~ c'4 ~ c'4 ~ c'4. ~ c'4 ~ c'4 r8 c'4 ~ c'4 c'4 ~ c'4 ~ c'8 ~ c'4 r8 c'4 ~ c'4 ~ c'8 ~ c'4. c'4 ~ c'4 ~ c'4 r8\"), <Voice{16}>]. try using mutate().wrap()?"
     ]
    }
   ],
   "source": [
    "# 1-1\n",
    "markup = '''\n",
    "c'4. ~ c'4. ~\n",
    "c'4 ~ c'4\n",
    "c'4 ~ c'4 r8\n",
    "c'4.\n",
    "c'4 ~ c'4 r8\n",
    "c'4 ~ c'4 ~\n",
    "c'4 ~ c'4 ~\n",
    "c'4. ~\n",
    "c'4 ~ c'4 r8\n",
    "c'4 ~ c'4\n",
    "c'4 ~ c'4 ~ c'8 ~\n",
    "c'4 r8\n",
    "c'4 ~ c'4 ~ c'8 ~\n",
    "c'4.\n",
    "c'4 ~ c'4 ~\n",
    "c'4 r8\n",
    "'''\n",
    "voice_1 = abjad.Voice(markup)\n",
    "maker = abjad.MeasureMaker()\n",
    "measures = maker(time_signatures[0][0])\n",
    "voice2 = abjad.Voice(measures)\n",
    "guitar_1 = abjad.Staff([voice1, voice2], is_simultaneous=True)"
   ]
  },
  {
   "cell_type": "code",
   "execution_count": null,
   "metadata": {},
   "outputs": [],
   "source": [
    "markup = '''\n",
    "c'4. ~ c'4.\n",
    "c'4 ~ c'4 ~\n",
    "c'4 ~ c'4 r8\n",
    "\n",
    "\n",
    "'''"
   ]
  }
 ],
 "metadata": {
  "kernelspec": {
   "display_name": "Python 3",
   "language": "python",
   "name": "python3"
  },
  "language_info": {
   "codemirror_mode": {
    "name": "ipython",
    "version": 3
   },
   "file_extension": ".py",
   "mimetype": "text/x-python",
   "name": "python",
   "nbconvert_exporter": "python",
   "pygments_lexer": "ipython3",
   "version": "3.6.3"
  }
 },
 "nbformat": 4,
 "nbformat_minor": 2
}
