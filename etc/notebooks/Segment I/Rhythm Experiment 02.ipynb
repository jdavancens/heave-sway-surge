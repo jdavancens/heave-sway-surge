{
 "cells": [
  {
   "cell_type": "code",
   "execution_count": 6,
   "metadata": {},
   "outputs": [
    {
     "name": "stdout",
     "output_type": "stream",
     "text": [
      "The abjad.ext.ipython extension is already loaded. To reload it, use:\n",
      "  %reload_ext abjad.ext.ipython\n"
     ]
    }
   ],
   "source": [
    "import abjad\n",
    "import surge\n",
    "%load_ext abjad.ext.ipython"
   ]
  },
  {
   "cell_type": "code",
   "execution_count": 7,
   "metadata": {},
   "outputs": [],
   "source": [
    "from surge.tools.makers.RatioMaker import RatioMaker\n",
    "from surge.tools.rhythmtools.MultiDiffProlater import MultiDiffProlater\n",
    "from surge.tools.rhythmtools.EvenSubdivider import EvenSubdivider"
   ]
  },
  {
   "cell_type": "code",
   "execution_count": 8,
   "metadata": {},
   "outputs": [],
   "source": [
    "time_signatures = surge.materials.segment_i.time_signatures\n",
    "tempo_map = surge.materials.segment_i.tempo_map\n",
    "time_signatures = abjad.Sequence(time_signatures).flatten().items\n",
    "measure_durations = list(map(lambda x: x.duration, time_signatures))"
   ]
  },
  {
   "cell_type": "code",
   "execution_count": 11,
   "metadata": {},
   "outputs": [
    {
     "data": {
      "text/plain": [
       "('/Users/josephdavancens/Dropbox/music/diff_neg2_to_2_slow.midi',\n",
       " 5.980503082275391,\n",
       " 0.9968738555908203)"
      ]
     },
     "execution_count": 11,
     "metadata": {},
     "output_type": "execute_result"
    }
   ],
   "source": [
    "score = abjad.Score()\n",
    "differences = [-2, -1, 0, 1, 2]\n",
    "for i in range(len(differences)):\n",
    "    ratio_maker = RatioMaker(\n",
    "        time_signatures=time_signatures,\n",
    "        rest_indices=[],\n",
    "        prolater=MultiDiffProlater(\n",
    "            multiplier_cycle=[1],\n",
    "            difference_cycle=[differences[i]],\n",
    "            unit=16\n",
    "        ),\n",
    "    )\n",
    "    ratios = ratio_maker()\n",
    "    rhythm_maker = abjad.rhythmmakertools.TupletRhythmMaker(ratios)\n",
    "    selections = rhythm_maker(time_signatures)\n",
    "    staff = abjad.Staff(selections)\n",
    "    score.append(staff)\n",
    "abjad.persist(score).as_midi('/Users/josephdavancens/Dropbox/music/diff_neg2_to_2_slow.mid', True)"
   ]
  },
  {
   "cell_type": "code",
   "execution_count": 12,
   "metadata": {},
   "outputs": [
    {
     "data": {
      "text/plain": [
       "('/Users/josephdavancens/Dropbox/music/diff_neg2_to_2_fast.midi',\n",
       " 13.146037101745605,\n",
       " 1.3330159187316895)"
      ]
     },
     "execution_count": 12,
     "metadata": {},
     "output_type": "execute_result"
    }
   ],
   "source": [
    "score = abjad.Score()\n",
    "differences = [-2, -1, 0, 1, 2]\n",
    "for i in range(len(differences)):\n",
    "    ratio_maker = RatioMaker(\n",
    "        time_signatures=time_signatures,\n",
    "        rest_indices=[],\n",
    "        prolater=MultiDiffProlater(\n",
    "            multiplier_cycle=[2],\n",
    "            difference_cycle=[differences[i]],\n",
    "            unit=16\n",
    "        ),\n",
    "    )\n",
    "    ratios = ratio_maker()\n",
    "    rhythm_maker = abjad.rhythmmakertools.TupletRhythmMaker(ratios)\n",
    "    selections = rhythm_maker(time_signatures)\n",
    "    staff = abjad.Staff(selections)\n",
    "    score.append(staff) \n",
    "abjad.persist(score).as_midi('/Users/josephdavancens/Dropbox/music/diff_neg2_to_2_fast.mid', True)"
   ]
  },
  {
   "cell_type": "code",
   "execution_count": null,
   "metadata": {},
   "outputs": [],
   "source": []
  }
 ],
 "metadata": {
  "kernelspec": {
   "display_name": "Python 3",
   "language": "python",
   "name": "python3"
  },
  "language_info": {
   "codemirror_mode": {
    "name": "ipython",
    "version": 3
   },
   "file_extension": ".py",
   "mimetype": "text/x-python",
   "name": "python",
   "nbconvert_exporter": "python",
   "pygments_lexer": "ipython3",
   "version": "3.6.3"
  }
 },
 "nbformat": 4,
 "nbformat_minor": 2
}
