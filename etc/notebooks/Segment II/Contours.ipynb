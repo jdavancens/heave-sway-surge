{
 "cells": [
  {
   "cell_type": "code",
   "execution_count": 1,
   "metadata": {
    "scrolled": true
   },
   "outputs": [],
   "source": [
    "import abjad\n",
    "\n",
    "# enumerate combinations and permutations of three basic contours\n",
    "\n",
    "meta_intervals = abjad.Enumerator([0, 1, -1])\n",
    "\n",
    "meta_interval_permutations = []\n",
    "\n",
    "for combination in meta_intervals.yield_combinations(minimum_length=1):\n",
    "    for permutation in abjad.Enumerator(combination).yield_permutations():\n",
    "        meta_interval_permutations.append(permutation.items)"
   ]
  },
  {
   "cell_type": "code",
   "execution_count": 2,
   "metadata": {},
   "outputs": [],
   "source": [
    "def apply_contour(contour):\n",
    "    next_ = 0\n",
    "    X = [next_]\n",
    "    for x in contour:\n",
    "        next_ += x\n",
    "        X.append(next_)\n",
    "    return X\n",
    "\n",
    "def normalize(l):\n",
    "    assert(all(isinstance(item, (int, float)) for item in l))\n",
    "    min_ = min(l)\n",
    "    max_ = max(l)\n",
    "    diff = min_ - max_\n",
    "    if min_ - max_ == 0:\n",
    "        diff = 1\n",
    "    return [(item - min_) / diff for item in l]\n",
    "\n",
    "def scale(l, low, high):  \n",
    "    assert(all(isinstance(item, (int, float)) for item in l))\n",
    "    l = normalize(l)\n",
    "    "
   ]
  },
  {
   "cell_type": "code",
   "execution_count": 3,
   "metadata": {},
   "outputs": [
    {
     "name": "stdout",
     "output_type": "stream",
     "text": [
      "contour (0,) | sum 0 | weight 0 | applied [0, 0] | normalized [0.0, 0.0]\n",
      "contour (1,) | sum 1 | weight 1 | applied [0, 1] | normalized [-0.0, -1.0]\n",
      "contour (0, 1) | sum 1 | weight 1 | applied [0, 0, 1] | normalized [-0.0, -0.0, -1.0]\n",
      "contour (1, 0) | sum 1 | weight 1 | applied [0, 1, 1] | normalized [-0.0, -1.0, -1.0]\n",
      "contour (-1,) | sum -1 | weight 1 | applied [0, -1] | normalized [-1.0, -0.0]\n",
      "contour (0, -1) | sum -1 | weight 1 | applied [0, 0, -1] | normalized [-1.0, -1.0, -0.0]\n",
      "contour (-1, 0) | sum -1 | weight 1 | applied [0, -1, -1] | normalized [-1.0, -0.0, -0.0]\n",
      "contour (1, -1) | sum 0 | weight 2 | applied [0, 1, 0] | normalized [-0.0, -1.0, -0.0]\n",
      "contour (-1, 1) | sum 0 | weight 2 | applied [0, -1, 0] | normalized [-1.0, -0.0, -1.0]\n",
      "contour (0, 1, -1) | sum 0 | weight 2 | applied [0, 0, 1, 0] | normalized [-0.0, -0.0, -1.0, -0.0]\n",
      "contour (0, -1, 1) | sum 0 | weight 2 | applied [0, 0, -1, 0] | normalized [-1.0, -1.0, -0.0, -1.0]\n",
      "contour (1, 0, -1) | sum 0 | weight 2 | applied [0, 1, 1, 0] | normalized [-0.0, -1.0, -1.0, -0.0]\n",
      "contour (1, -1, 0) | sum 0 | weight 2 | applied [0, 1, 0, 0] | normalized [-0.0, -1.0, -0.0, -0.0]\n",
      "contour (-1, 0, 1) | sum 0 | weight 2 | applied [0, -1, -1, 0] | normalized [-1.0, -0.0, -0.0, -1.0]\n",
      "contour (-1, 1, 0) | sum 0 | weight 2 | applied [0, -1, 0, 0] | normalized [-1.0, -0.0, -1.0, -1.0]\n"
     ]
    }
   ],
   "source": [
    "for contour in meta_interval_permutations:\n",
    "    print(\n",
    "        'contour', contour,\n",
    "        '| sum', sum(contour),\n",
    "        '| weight', abjad.mathtools.weight(contour),\n",
    "        '| applied', apply_contour(contour),\n",
    "        '| normalized', normalize(apply_contour(contour))\n",
    "    )  "
   ]
  },
  {
   "cell_type": "code",
   "execution_count": 56,
   "metadata": {},
   "outputs": [],
   "source": [
    "# set up a dictionary of contours per instrument\n",
    "\n",
    "instruments = [\n",
    "    abjad.instrumenttools.Violin(), \n",
    "    abjad.instrumenttools.Viola(),\n",
    "    abjad.instrumenttools.Cello(),\n",
    "    abjad.instrumenttools.Contrabass()\n",
    "]\n",
    "\n",
    "contours = {}\n",
    "\n",
    "for instrument in instruments:\n",
    "    contours[instrument] = []"
   ]
  },
  {
   "cell_type": "code",
   "execution_count": 57,
   "metadata": {},
   "outputs": [],
   "source": [
    "# distrubute permutations amongst instruments\n",
    "contour_permutations = abjad.CyclicTuple(contour_permutations)\n",
    "instruments = abjad.CyclicTuple(instruments)\n",
    "for i in range(len(contour_permutations) * len(instruments)):\n",
    "    instrument = instruments[i]\n",
    "    permutation = contour_permutations[i]\n",
    "    contours[instrument].append(permutation)"
   ]
  },
  {
   "cell_type": "code",
   "execution_count": 58,
   "metadata": {},
   "outputs": [],
   "source": [
    "finger_height_low = 0.1\n",
    "finger_height_high = 0.4"
   ]
  },
  {
   "cell_type": "code",
   "execution_count": 59,
   "metadata": {},
   "outputs": [],
   "source": [
    "def map_contour_to_height(contour, low, high):\n",
    "    pass"
   ]
  },
  {
   "cell_type": "code",
   "execution_count": 4,
   "metadata": {},
   "outputs": [
    {
     "ename": "NameError",
     "evalue": "name 'instruments' is not defined",
     "output_type": "error",
     "traceback": [
      "\u001b[0;31m---------------------------------------------------------------------------\u001b[0m",
      "\u001b[0;31mNameError\u001b[0m                                 Traceback (most recent call last)",
      "\u001b[0;32m<ipython-input-4-67ee28ba4a92>\u001b[0m in \u001b[0;36m<module>\u001b[0;34m()\u001b[0m\n\u001b[1;32m      1\u001b[0m \u001b[0mfinger_heights\u001b[0m \u001b[0;34m=\u001b[0m \u001b[0;34m{\u001b[0m\u001b[0;34m}\u001b[0m\u001b[0;34m\u001b[0m\u001b[0m\n\u001b[0;32m----> 2\u001b[0;31m \u001b[0;32mfor\u001b[0m \u001b[0minstrument\u001b[0m \u001b[0;32min\u001b[0m \u001b[0minstruments\u001b[0m\u001b[0;34m.\u001b[0m\u001b[0mitems\u001b[0m\u001b[0;34m:\u001b[0m\u001b[0;34m\u001b[0m\u001b[0m\n\u001b[0m\u001b[1;32m      3\u001b[0m     \u001b[0;32mpass\u001b[0m\u001b[0;34m\u001b[0m\u001b[0m\n",
      "\u001b[0;31mNameError\u001b[0m: name 'instruments' is not defined"
     ]
    }
   ],
   "source": [
    "finger_heights = {}\n",
    "for instrument in instruments.items:\n",
    "    pass"
   ]
  }
 ],
 "metadata": {
  "kernelspec": {
   "display_name": "Python 3",
   "language": "python",
   "name": "python3"
  },
  "language_info": {
   "codemirror_mode": {
    "name": "ipython",
    "version": 3
   },
   "file_extension": ".py",
   "mimetype": "text/x-python",
   "name": "python",
   "nbconvert_exporter": "python",
   "pygments_lexer": "ipython3",
   "version": "3.6.3"
  }
 },
 "nbformat": 4,
 "nbformat_minor": 2
}
