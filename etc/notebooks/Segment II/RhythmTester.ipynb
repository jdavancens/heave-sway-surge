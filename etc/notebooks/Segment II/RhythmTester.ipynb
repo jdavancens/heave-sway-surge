{
 "cells": [
  {
   "cell_type": "code",
   "execution_count": 43,
   "metadata": {},
   "outputs": [
    {
     "data": {
      "image/png": "[encoded data removed]"
     },
     "metadata": {},
     "output_type": "display_data"
    }
   ],
   "source": [
    "from surge.tools.makers.RatioMaker import RatioMaker\n",
    "from surge.tools.rhythmtools.Prolater import Prolater\n",
    "from surge.tools.rhythmtools.EvenSubdivider import EvenSubdivider\n",
    "from surge.tools.rhythmtools.UnitSubdivider import UnitSubdivider\n",
    "import abjad\n",
    "%reload_ext abjad.ext.ipython\n",
    "\n",
    "divisions = [abjad.TimeSignature((2, 4))] * 4\n",
    "\n",
    "even_subdivider = EvenSubdivider(\n",
    "    [2],\n",
    "    second_level_subdivider=None,\n",
    "    second_level_subdivision_pattern=None,\n",
    ")\n",
    "unit_subdivider = UnitSubdivider(multiplier=1)\n",
    "# difference_prolater = Prolater(1, [3, 5])\n",
    "\n",
    "ratio_maker = RatioMaker(\n",
    "    time_signatures=time_signatures,\n",
    "    rest_indices=None,\n",
    "    subdivider=even_subdivider,\n",
    "#     prolater=difference_prolater\n",
    ")\n",
    "\n",
    "tuplet_ratios = ratio_maker()\n",
    "rhythm_maker = abjad.rhythmmakertools.TupletRhythmMaker(tuplet_ratios=tuplet_ratios)\n",
    "rhythm = rhythm_maker(divisions)\n",
    "time_signatures = [abjad.TimeSignature((2, 4))] * 4\n",
    "lilypond_file = abjad.LilyPondFile.rhythm(\n",
    "    rhythm,\n",
    "    time_signatures,\n",
    ")\n",
    "abjad.show(lilypond_file)"
   ]
  },
  {
   "cell_type": "code",
   "execution_count": null,
   "metadata": {},
   "outputs": [],
   "source": []
  }
 ],
 "metadata": {
  "kernelspec": {
   "display_name": "Python 3",
   "language": "python",
   "name": "python3"
  },
  "language_info": {
   "codemirror_mode": {
    "name": "ipython",
    "version": 3
   },
   "file_extension": ".py",
   "mimetype": "text/x-python",
   "name": "python",
   "nbconvert_exporter": "python",
   "pygments_lexer": "ipython3",
   "version": "3.6.3"
  }
 },
 "nbformat": 4,
 "nbformat_minor": 2
}
