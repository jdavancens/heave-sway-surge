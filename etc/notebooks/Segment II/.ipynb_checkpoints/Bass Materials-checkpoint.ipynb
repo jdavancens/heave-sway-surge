{
 "cells": [
  {
   "cell_type": "code",
   "execution_count": 1,
   "metadata": {},
   "outputs": [],
   "source": [
    "import abjad\n",
    "from surge.tools.bezzie.Path import Path\n",
    "from surge.tools.bezzie.BezierCurve import BezierCurve\n",
    "import random\n",
    "import fractions"
   ]
  },
  {
   "cell_type": "code",
   "execution_count": 31,
   "metadata": {},
   "outputs": [],
   "source": [
    "pitch_intervals = [\n",
    "    [\"F1\", \"A1\"],\n",
    "    [\"G1\", \"C2\"],\n",
    "    [\"F#1\", \"G#1\"]\n",
    "]\n",
    "\n",
    "# measured in sixteenth notes\n",
    "durations = [16, 5, 6, 28]\n",
    "\n",
    "interval_sequence = []\n",
    "duration_sequence = []\n",
    "\n",
    "\n",
    "for i in range(16):\n",
    "    # grab a random interval\n",
    "    interval = random.choice(pitch_intervals)\n",
    "    \n",
    "    # maybe reverse it\n",
    "    random.shuffle(interval)\n",
    "    \n",
    "    # create pitch objects\n",
    "    p1 = abjad.NamedPitch(interval[0])\n",
    "    p2 = abjad.NamedPitch(interval[1])\n",
    "    \n",
    "    # add to interval sequence\n",
    "    interval_sequence.append([p1, p2])\n",
    "    \n",
    "    # grab a random duration\n",
    "    duration = random.choice(durations)\n",
    "    \n",
    "    # add it to duration sequence\n",
    "    duration_sequence.append(duration)\n",
    "\n",
    "## sum durations\n",
    "total_duration = abjad.Duration(sum(duration_sequence), 16)\n",
    "\n",
    "## calculate number of measures needed to contain the duration sequence\n",
    "divisions = []\n",
    "while sum(divisions) < total_duration:\n",
    "    divisions.append(abjad.NonreducedFraction((2, 4)))\n",
    "    \n",
    "# set up rhythm maker and run it\n",
    "talea = abjad.rhythmmakertools.Talea(\n",
    "    counts=duration_sequence,\n",
    "    denominator=16\n",
    ")\n",
    "rhythm_maker = abjad.rhythmmakertools.TaleaRhythmMaker(\n",
    "    talea=talea,\n",
    "    read_talea_once_only=False\n",
    ")\n",
    "selections = rhythm_maker(divisions)\n",
    "\n",
    "# set pitches\n",
    "for interval, logical_tie in zip(interval_sequence, abjad.iterate(selections).by_logical_tie()):\n",
    "    for note in logical_tie:\n",
    "        note.written_pitch = interval[0]\n",
    "    grace_note_container = abjad.AfterGraceContainer([abjad.Note(interval[1], (1, 16))])\n",
    "    abjad.attach(grace_note_container, logical_tie[-1])\n",
    "\n",
    "# pour the notes into measures\n",
    "measures = abjad.Measure.from_selections(selections, divisions)\n",
    "\n",
    "# add music to a staff\n",
    "staff = abjad.Staff(measures)\n",
    "\n",
    "# move after-grace notes\n",
    "string = '#(define afterGraceFraction (cons 15 16))'\n",
    "literal = abjad.LilyPondLiteral(string)\n",
    "abjad.attach(literal, staff[0])\n",
    "\n",
    "abjad.attach(abjad.Clef('bass_8'), staff)"
   ]
  },
  {
   "cell_type": "code",
   "execution_count": 32,
   "metadata": {},
   "outputs": [],
   "source": [
    "abjad.show(staff)"
   ]
  },
  {
   "cell_type": "code",
   "execution_count": null,
   "metadata": {},
   "outputs": [],
   "source": []
  },
  {
   "cell_type": "code",
   "execution_count": null,
   "metadata": {},
   "outputs": [],
   "source": []
  }
 ],
 "metadata": {
  "kernelspec": {
   "display_name": "Python 3",
   "language": "python",
   "name": "python3"
  },
  "language_info": {
   "codemirror_mode": {
    "name": "ipython",
    "version": 3
   },
   "file_extension": ".py",
   "mimetype": "text/x-python",
   "name": "python",
   "nbconvert_exporter": "python",
   "pygments_lexer": "ipython3",
   "version": "3.6.3"
  }
 },
 "nbformat": 4,
 "nbformat_minor": 2
}
