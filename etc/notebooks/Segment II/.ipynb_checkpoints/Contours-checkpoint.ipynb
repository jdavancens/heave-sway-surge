{
 "cells": [
  {
   "cell_type": "code",
   "execution_count": 50,
   "metadata": {
    "scrolled": true
   },
   "outputs": [],
   "source": [
    "import abjad\n",
    "\n",
    "# enumerate combinations and permutations of three basic contours\n",
    "\n",
    "up = abjad.OrdinalConstant('y', 1, 'Up')\n",
    "down = abjad.OrdinalConstant('y', -1, 'Down')\n",
    "center = abjad.OrdinalConstant('y', 0, 'Center')\n",
    "\n",
    "contourEnum = abjad.Enumerator([center, up, down])\n",
    "\n",
    "contour_permutations = []\n",
    "\n",
    "for combination in contourEnum.yield_combinations(minimum_length=0):\n",
    "    for permutation in abjad.Enumerator(combination).yield_permutations():\n",
    "        contour_permutations.append(permutation.items)\n",
    "\n"
   ]
  },
  {
   "cell_type": "code",
   "execution_count": null,
   "metadata": {},
   "outputs": [],
   "source": []
  },
  {
   "cell_type": "code",
   "execution_count": 51,
   "metadata": {},
   "outputs": [],
   "source": [
    "# set up a dictionary of contours per instrument\n",
    "\n",
    "instruments = [\n",
    "    abjad.instrumenttools.Violin(), \n",
    "    abjad.instrumenttools.Viola(),\n",
    "    abjad.instrumenttools.Cello(),\n",
    "    abjad.instrumenttools.Contrabass()\n",
    "]\n",
    "\n",
    "contours = {}\n",
    "\n",
    "for instrument in instruments:\n",
    "    contours[instrument] = []"
   ]
  },
  {
   "cell_type": "code",
   "execution_count": 52,
   "metadata": {},
   "outputs": [],
   "source": [
    "# distrubute permutations amongst instruments\n",
    "contour_permutations = abjad.CyclicTuple(contour_permutations)\n",
    "instruments = abjad.CyclicTuple(instruments)\n",
    "for i in range(len(contour_permutations) * len(instruments)):\n",
    "    instrument = instruments[i]\n",
    "    permutation = contour_permutations[i]\n",
    "    contours[instrument].append(permutation)"
   ]
  },
  {
   "cell_type": "code",
   "execution_count": 54,
   "metadata": {},
   "outputs": [],
   "source": [
    "finger_height_low = 0.1\n",
    "finger_height_high = 0.4"
   ]
  },
  {
   "cell_type": "code",
   "execution_count": null,
   "metadata": {},
   "outputs": [],
   "source": [
    "def map_contour_to_height(contour, low, high):\n",
    "    "
   ]
  },
  {
   "cell_type": "code",
   "execution_count": 55,
   "metadata": {},
   "outputs": [
    {
     "ename": "SyntaxError",
     "evalue": "unexpected EOF while parsing (<ipython-input-55-b9dacd083b09>, line 3)",
     "output_type": "error",
     "traceback": [
      "\u001b[0;36m  File \u001b[0;32m\"<ipython-input-55-b9dacd083b09>\"\u001b[0;36m, line \u001b[0;32m3\u001b[0m\n\u001b[0;31m    \u001b[0m\n\u001b[0m    ^\u001b[0m\n\u001b[0;31mSyntaxError\u001b[0m\u001b[0;31m:\u001b[0m unexpected EOF while parsing\n"
     ]
    }
   ],
   "source": [
    "finger_heights = {}\n",
    "for instrument in instruments.items:\n",
    "    \n"
   ]
  }
 ],
 "metadata": {
  "kernelspec": {
   "display_name": "Python 3",
   "language": "python",
   "name": "python3"
  },
  "language_info": {
   "codemirror_mode": {
    "name": "ipython",
    "version": 3
   },
   "file_extension": ".py",
   "mimetype": "text/x-python",
   "name": "python",
   "nbconvert_exporter": "python",
   "pygments_lexer": "ipython3",
   "version": "3.6.3"
  }
 },
 "nbformat": 4,
 "nbformat_minor": 2
}
