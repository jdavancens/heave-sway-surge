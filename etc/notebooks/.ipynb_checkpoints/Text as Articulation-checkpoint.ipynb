{
 "cells": [
  {
   "cell_type": "code",
   "execution_count": 1,
   "metadata": {
    "collapsed": true
   },
   "outputs": [],
   "source": [
    "\n",
    "%load_ext abjad.ext.ipython"
   ]
  },
  {
   "cell_type": "code",
   "execution_count": 47,
   "metadata": {
    "collapsed": false
   },
   "outputs": [
    {
     "name": "stdout",
     "output_type": "stream",
     "text": [
      "\\new Staff {\n",
      "    e''4\n",
      "        - \\markup {\n",
      "            \\whiteout\n",
      "                \\box\n",
      "                    \\fontsize\n",
      "                        #-4\n",
      "                        \\concat\n",
      "                            {\n",
      "                                B\n",
      "                                \\flat\n",
      "                            }\n",
      "            }\n",
      "}\n"
     ]
    },
    {
     "data": {
      "image/png": "[encoded data removed]"
     },
     "metadata": {},
     "output_type": "display_data"
    }
   ],
   "source": [
    "n = Note(\"e''\")\n",
    "b = Markup('B')\n",
    "flat = Markup.flat()\n",
    "b_flat = Markup.concat([b, flat])\n",
    "b_flat = b_flat.fontsize(-4)\n",
    "#b_flat = b_flat.box()\n",
    "b_flat = b_flat.whiteout()\n",
    "attach(b_flat, n)\n",
    "staff = Staff([n])\n",
    "f(staff)\n",
    "show(n)"
   ]
  },
  {
   "cell_type": "code",
   "execution_count": null,
   "metadata": {
    "collapsed": true
   },
   "outputs": [],
   "source": [
    "n = Note(\"e''\")\n",
    "a = indicatortools.Articulation('Bb', direction=0)\n",
    "f(a)\n",
    "attach(a, n)\n",
    "staff = Staff([n])\n",
    "override(n).TextScript.side_axis = 0\n",
    "override(n).TextScript.X_offset = 0\n",
    "override(n).TextScript.Y_offset = 0\n",
    "#override(n).TextScript.extra_offset = schemetools.SchemePair(-3, 4.5)\n",
    "override(n).stem.stencil = False\n",
    "f(staff)\n",
    "show(n)"
   ]
  }
 ],
 "metadata": {
  "kernelspec": {
   "display_name": "Python 2",
   "language": "python",
   "name": "python2"
  },
  "language_info": {
   "codemirror_mode": {
    "name": "ipython",
    "version": 2
   },
   "file_extension": ".py",
   "mimetype": "text/x-python",
   "name": "python",
   "nbconvert_exporter": "python",
   "pygments_lexer": "ipython2",
   "version": "2.7.11"
  }
 },
 "nbformat": 4,
 "nbformat_minor": 0
}
