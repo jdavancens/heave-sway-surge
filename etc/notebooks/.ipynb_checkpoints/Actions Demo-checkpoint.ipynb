{
 "cells": [
  {
   "cell_type": "markdown",
   "metadata": {},
   "source": [
    "# Overview of surge software package"
   ]
  },
  {
   "cell_type": "code",
   "execution_count": 1,
   "metadata": {
    "collapsed": false
   },
   "outputs": [
    {
     "name": "stdout",
     "output_type": "stream",
     "text": [
      "/Users/josephdavancens/git/surge\n"
     ]
    }
   ],
   "source": [
    "\n",
    "%load_ext abjad.ext.ipython\n",
    "%cd /Users/josephdavancens/git/surge\n",
    ""
   ]
  },
  {
   "cell_type": "code",
   "execution_count": null,
   "metadata": {
    "collapsed": true
   },
   "outputs": [],
   "source": [
    "woodwind_fingering"
   ]
  },
  {
   "cell_type": "markdown",
   "metadata": {},
   "source": [
    "## Actions"
   ]
  },
  {
   "cell_type": "markdown",
   "metadata": {},
   "source": [
    "### Woodwind Embouchure"
   ]
  },
  {
   "cell_type": "raw",
   "metadata": {},
   "source": [
    "oboe_embouchure = actions.Embouchure(\n",
    "        instrument=Oboe(),\n",
    "        air_pressure_start=Fraction(0, 1),\n",
    "        air_pressure_stop=Fraction(1, 1),\n",
    "        lip_pressure_start=Fraction(1, 1),\n",
    "        lip_pressure_stop=Fraction(1, 1),\n",
    "        staccato=False,\n",
    "        tongue_articulated=False,\n",
    "),"
   ]
  },
  {
   "cell_type": "markdown",
   "metadata": {},
   "source": [
    "### Woodwind Fingering"
   ]
  },
  {
   "cell_type": "code",
   "execution_count": 8,
   "metadata": {
    "collapsed": false
   },
   "outputs": [],
   "source": [
    "clarinet_fingering = actions.WoodwindFingering(\n",
    "    instrument=ClarinetInBFlat(),\n",
    "    hand='left',\n",
    "    fingering={\n",
    "        'thumb':'R',\n",
    "        'index':('down',),\n",
    "        'middle':'down',\n",
    "        'ring':'down',\n",
    "        'pinky':None\n",
    "        }\n",
    "),"
   ]
  },
  {
   "cell_type": "markdown",
   "metadata": {},
   "source": [
    "### String Bowing"
   ]
  },
  {
   "cell_type": "code",
   "execution_count": null,
   "metadata": {
    "collapsed": true
   },
   "outputs": [],
   "source": [
    "viola_bowing = actions.StringBowing(\n",
    "    instrument=Viola(),\n",
    "    height_start=Fraction(29, 30),\n",
    "    height_stop=Fraction(29, 30),\n",
    "    pressure_start=Fraction(1, 1),\n",
    "    pressure_stop=Fraction(1, 1),\n",
    "    contact_point_start=Fraction(1, 4),\n",
    "    contact_point_stop=Fraction(3, 4),\n",
    "    string_ids=('g', 'd'),\n",
    "    staccato=False,\n",
    "),"
   ]
  },
  {
   "cell_type": "markdown",
   "metadata": {},
   "source": [
    "### String Fingering"
   ]
  },
  {
   "cell_type": "code",
   "execution_count": 10,
   "metadata": {
    "collapsed": false
   },
   "outputs": [],
   "source": [
    "cello_fingering = actions.StringFingering(\n",
    "    instrument=Cello(),\n",
    "    height_start=Fraction(2, 30),\n",
    "    height_stop=Fraction(3, 30),\n",
    "    pressure_start=Fraction(0, 1),\n",
    "    pressure_stop=Fraction(0, 1)\n",
    "),"
   ]
  }
 ],
 "metadata": {
  "kernelspec": {
   "display_name": "Python 2",
   "language": "python",
   "name": "python2"
  },
  "language_info": {
   "codemirror_mode": {
    "name": "ipython",
    "version": 2
   },
   "file_extension": ".py",
   "mimetype": "text/x-python",
   "name": "python",
   "nbconvert_exporter": "python",
   "pygments_lexer": "ipython2",
   "version": "2.7.11"
  }
 },
 "nbformat": 4,
 "nbformat_minor": 0
}
