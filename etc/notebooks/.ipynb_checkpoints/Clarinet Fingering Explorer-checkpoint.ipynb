{
 "cells": [
  {
   "cell_type": "markdown",
   "metadata": {},
   "source": [
    "## Import libraries and fingering maps"
   ]
  },
  {
   "cell_type": "code",
   "execution_count": 15,
   "metadata": {
    "collapsed": false
   },
   "outputs": [
    {
     "name": "stdout",
     "output_type": "stream",
     "text": [
      "The abjad.ext.ipython extension is already loaded. To reload it, use:\n",
      "  %reload_ext abjad.ext.ipython\n",
      "/Users/josephdavancens/git/surge\n",
      "/Users/josephdavancens/git/surge/surge/materials/woodwindfingerings/clarinet\n"
     ]
    }
   ],
   "source": [
    "\n",
    "%load_ext abjad.ext.ipython\n",
    "%cd /Users/josephdavancens/git/surge\n",
    "\n",
    "%cd /Users/josephdavancens/git/surge/surge/materials/woodwindfingerings/clarinet\n",
    "from alternate_fingering_map import alternate_fingering_map\n",
    "from basic_fingering_map import basic_fingering_map\n",
    "from multiphonic_fingering_map import multiphonic_fingering_map"
   ]
  },
  {
   "cell_type": "markdown",
   "metadata": {},
   "source": [
    "## Put fingering maps in a list"
   ]
  },
  {
   "cell_type": "code",
   "execution_count": 29,
   "metadata": {
    "collapsed": false
   },
   "outputs": [],
   "source": [
    "all_fingerings = list()"
   ]
  },
  {
   "cell_type": "code",
   "execution_count": 30,
   "metadata": {
    "collapsed": false
   },
   "outputs": [],
   "source": [
    "for k, v in basic_fingering_map.items():\n",
    "    vector = [[k],v]\n",
    "    all_fingerings.append(vector)\n",
    "for k, v in alternate_fingering_map.items():\n",
    "    vector = [[k],v]\n",
    "    all_fingerings.append(vector)\n",
    "for k, v in multiphonic_fingering_map.items():\n",
    "    vector = [sorted(k),v]\n",
    "    all_fingerings.append(vector)    "
   ]
  },
  {
   "cell_type": "code",
   "execution_count": 31,
   "metadata": {
    "collapsed": false
   },
   "outputs": [],
   "source": [
    "all_fingerings = sorted(all_fingerings, key=lambda f: f[0])"
   ]
  },
  {
   "cell_type": "markdown",
   "metadata": {},
   "source": [
    "## Show all fingerings that produce a C#5 partial"
   ]
  },
  {
   "cell_type": "code",
   "execution_count": 65,
   "metadata": {
    "collapsed": false
   },
   "outputs": [],
   "source": [
    "cs5_partial = [x for x in all_fingerings if pitchtools.NamedPitch(\"cs''\") in x[0]]"
   ]
  },
  {
   "cell_type": "code",
   "execution_count": 66,
   "metadata": {
    "collapsed": false
   },
   "outputs": [
    {
     "name": "stdout",
     "output_type": "stream",
     "text": [
      "[[NamedPitch(\"d'\"), NamedPitch(\"cs''\"), NamedPitch(\"as''\")], (thumb down None down None, down down down fis)]\n",
      "[[NamedPitch(\"e'\"), NamedPitch(\"cs''\"), NamedPitch(\"a''\")], (('thumb', 'R') down down None None, down down down f)]\n",
      "[[NamedPitch(\"fs'\"), NamedPitch(\"cs''\")], (('thumb', 'R') ('down', 'gis') down down None, down down down fis)]\n",
      "[[NamedPitch(\"cs''\")], (('R', 'thumb') down down down None, down down down fis)]\n",
      "[[NamedPitch(\"cs''\")], (('R', 'thumb') down down down fis, down down down None)]\n"
     ]
    }
   ],
   "source": [
    "for x in cs5_partial: print(x)"
   ]
  },
  {
   "cell_type": "markdown",
   "metadata": {},
   "source": [
    "## Show all fingerings containing LH = (thumb, down, None, down, None) "
   ]
  },
  {
   "cell_type": "code",
   "execution_count": 67,
   "metadata": {
    "collapsed": false
   },
   "outputs": [],
   "source": [
    "f = actions.WoodwindFingering(\n",
    "    instrument=ClarinetInBFlat(),\n",
    "    hand='left',\n",
    "    fingering={\n",
    "        'thumb':'thumb',\n",
    "        'index':'down',\n",
    "        'middle':None,\n",
    "        'ring':'down',\n",
    "        'pinky':None\n",
    "    },\n",
    ")\n",
    "lh_fingering = [x for x in all_fingerings if f == x[1][0]]"
   ]
  },
  {
   "cell_type": "code",
   "execution_count": 68,
   "metadata": {
    "collapsed": false
   },
   "outputs": [
    {
     "name": "stdout",
     "output_type": "stream",
     "text": [
      "[[NamedPitch(\"d'\"), NamedPitch(\"cs''\"), NamedPitch(\"as''\")], (thumb down None down None, down down down fis)]\n",
      "[[NamedPitch(\"d'\"), NamedPitch(\"f''\"), NamedPitch(\"b''\")], (thumb down None down None, down down down None)]\n",
      "[[NamedPitch(\"d'\"), NamedPitch(\"g''\"), NamedPitch(\"cs'''\")], (thumb down None down None, down down None None)]\n",
      "[[NamedPitch(\"d'\"), NamedPitch(\"gs''\"), NamedPitch(\"cs'''\")], (thumb down None down None, down down None gis)]\n",
      "[[NamedPitch(\"d'\"), NamedPitch(\"a''\"), NamedPitch(\"d'''\")], (thumb down None down None, down None None e)]\n",
      "[[NamedPitch(\"ds'\"), NamedPitch(\"a''\"), NamedPitch(\"d'''\")], (thumb down None down None, None down down gis)]\n"
     ]
    }
   ],
   "source": [
    "for x in lh_fingering: print(x)"
   ]
  },
  {
   "cell_type": "markdown",
   "metadata": {},
   "source": [
    "## Show all fingerings containg RH=(down, down, down, None)"
   ]
  },
  {
   "cell_type": "code",
   "execution_count": 57,
   "metadata": {
    "collapsed": true
   },
   "outputs": [],
   "source": [
    "f = actions.WoodwindFingering(\n",
    "    instrument=ClarinetInBFlat(),\n",
    "    hand='right',\n",
    "    fingering={\n",
    "        'index':'down',\n",
    "        'middle':'down',\n",
    "        'ring':'down',\n",
    "        'pinky':'fis'\n",
    "    },\n",
    ")\n",
    "rh_fingering = [x for x in all_fingerings if f == x[1][1]]"
   ]
  },
  {
   "cell_type": "code",
   "execution_count": 61,
   "metadata": {
    "collapsed": false,
    "scrolled": true
   },
   "outputs": [
    {
     "name": "stdout",
     "output_type": "stream",
     "text": [
      "(0, [[NamedPitch('fs')], (thumb down down down None, down down down fis)])\n",
      "(1, [[NamedPitch(\"c'\"), NamedPitch(\"e''\"), NamedPitch(\"as''\")], (thumb down down down cis, down down down fis)])\n",
      "(2, [[NamedPitch(\"d'\"), NamedPitch(\"cs''\"), NamedPitch(\"as''\")], (thumb down None down None, down down down fis)])\n",
      "(3, [[NamedPitch(\"f'\"), NamedPitch(\"d''\"), NamedPitch(\"cs'''\")], (('thumb', 'R') None down down cis, down down down fis)])\n",
      "(4, [[NamedPitch(\"fs'\"), NamedPitch(\"cs''\")], (('thumb', 'R') ('down', 'gis') down down None, down down down fis)])\n",
      "(5, [[NamedPitch(\"cs''\")], (('R', 'thumb') down down down None, down down down fis)])\n"
     ]
    }
   ],
   "source": [
    "for i, x in enumerate(rh_fingering): print(i, x)"
   ]
  },
  {
   "cell_type": "code",
   "execution_count": null,
   "metadata": {
    "collapsed": true
   },
   "outputs": [],
   "source": []
  },
  {
   "cell_type": "code",
   "execution_count": null,
   "metadata": {
    "collapsed": true
   },
   "outputs": [],
   "source": []
  }
 ],
 "metadata": {
  "kernelspec": {
   "display_name": "Python 2",
   "language": "python",
   "name": "python2"
  },
  "language_info": {
   "codemirror_mode": {
    "name": "ipython",
    "version": 2
   },
   "file_extension": ".py",
   "mimetype": "text/x-python",
   "name": "python",
   "nbconvert_exporter": "python",
   "pygments_lexer": "ipython2",
   "version": "2.7.11"
  }
 },
 "nbformat": 4,
 "nbformat_minor": 0
}
