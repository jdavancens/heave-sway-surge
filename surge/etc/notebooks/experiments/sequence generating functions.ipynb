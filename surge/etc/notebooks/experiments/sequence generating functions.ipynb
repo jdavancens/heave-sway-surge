{
 "cells": [
  {
   "cell_type": "markdown",
   "metadata": {},
   "source": [
    "## binary patterns\n",
    "* zero first, one rest\n",
    "* zero at ends, ones in middle\n",
    "* half zero, half one\n",
    "* alternating\n",
    "* cyclic subsequence\n",
    "* subsequence, fill rest with zero"
   ]
  },
  {
   "cell_type": "markdown",
   "metadata": {},
   "source": [
    "## non-binary patterns\n",
    "* subseqence, fill rest abcdddddd\n",
    "* subsequence at ends, fill rest abcdddddabc\n",
    "* interpolation aaabbbccc\n",
    "* cyclic subseqence abcabcabc\n",
    "* palindromic/'arch' abcddcba, abcdcba\n",
    "* 'rondo' abacad"
   ]
  },
  {
   "cell_type": "code",
   "execution_count": 2,
   "metadata": {
    "collapsed": true
   },
   "outputs": [],
   "source": [
    "def prefix_suffix_sequence(elements, prefix, suffix, length):\n",
    "    pass"
   ]
  },
  {
   "cell_type": "code",
   "execution_count": null,
   "metadata": {
    "collapsed": true
   },
   "outputs": [],
   "source": [
    "def rondo_sequence(elements, refrain_element, length):\n",
    "    pass"
   ]
  },
  {
   "cell_type": "code",
   "execution_count": null,
   "metadata": {
    "collapsed": true
   },
   "outputs": [],
   "source": [
    "def cycling_subsequence(elements, length):\n",
    "    pass"
   ]
  },
  {
   "cell_type": "code",
   "execution_count": 3,
   "metadata": {
    "collapsed": true
   },
   "outputs": [],
   "source": [
    "def interpolated_sequence(elements, length):\n",
    "    pass"
   ]
  },
  {
   "cell_type": "code",
   "execution_count": null,
   "metadata": {
    "collapsed": true
   },
   "outputs": [],
   "source": [
    "def subsequence_with_padding(elements, padding):\n",
    "    pass"
   ]
  }
 ],
 "metadata": {
  "kernelspec": {
   "display_name": "Python 3",
   "language": "python",
   "name": "python3"
  },
  "language_info": {
   "codemirror_mode": {
    "name": "ipython",
    "version": 3
   },
   "file_extension": ".py",
   "mimetype": "text/x-python",
   "name": "python",
   "nbconvert_exporter": "python",
   "pygments_lexer": "ipython3",
   "version": "3.5.0"
  }
 },
 "nbformat": 4,
 "nbformat_minor": 0
}
