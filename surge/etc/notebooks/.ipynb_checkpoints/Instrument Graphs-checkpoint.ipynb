{
 "cells": [
  {
   "cell_type": "code",
   "execution_count": 1,
   "metadata": {
    "collapsed": false
   },
   "outputs": [],
   "source": [
    "import networkx as nx\n",
    "import matplotlib.pyplot as plt\n",
    "%matplotlib inline"
   ]
  },
  {
   "cell_type": "code",
   "execution_count": 53,
   "metadata": {
    "collapsed": true
   },
   "outputs": [],
   "source": [
    "inst = ['oboe', 'clarinet', 'saxophone', 'trombone', 'guitar 1', 'guitar 2', 'violin', 'viola', 'cello', 'bass']\n",
    "mapping = {i:instrument for i, instrument in enumerate(inst)}\n",
    "n = len(inst)\n",
    "g = nx.random_geometric_graph(n, 0.5)\n",
    "g = nx.relabel_nodes(g, mapping)"
   ]
  },
  {
   "cell_type": "code",
   "execution_count": 54,
   "metadata": {
    "collapsed": false
   },
   "outputs": [
    {
     "data": {
      "text/plain": [
       "(-0.20000000000000001,\n",
       " 1.0000000000000002,\n",
       " -0.20000000000000001,\n",
       " 1.2000000000000002)"
      ]
     },
     "execution_count": 54,
     "metadata": {},
     "output_type": "execute_result"
    },
    {
     "data": {
      "image/png": "[encoded data removed]",
      "text/plain": [
       "<matplotlib.figure.Figure at 0x105d54358>"
      ]
     },
     "metadata": {},
     "output_type": "display_data"
    }
   ],
   "source": [
    "pos=nx.spring_layout(g)\n",
    "nx.draw_networkx_nodes(g, pos, alpha=0)\n",
    "nx.draw_networkx_edges(g, pos)\n",
    "nx.draw_networkx_labels(g, pos)\n",
    "plt.axis('off')"
   ]
  },
  {
   "cell_type": "code",
   "execution_count": 56,
   "metadata": {
    "collapsed": false
   },
   "outputs": [],
   "source": [
    "from random import choice\n"
   ]
  },
  {
   "cell_type": "code",
   "execution_count": 66,
   "metadata": {
    "collapsed": false
   },
   "outputs": [
    {
     "name": "stdout",
     "output_type": "stream",
     "text": [
      "violin\n",
      "['guitar 1', 'viola']\n",
      "viola\n",
      "['trombone', 'oboe', 'violin', 'bass', 'cello', 'saxophone']\n",
      "cello\n",
      "['guitar 2', 'trombone', 'oboe', 'bass', 'saxophone', 'clarinet', 'viola']\n",
      "guitar 2\n",
      "['trombone', 'oboe', 'bass', 'cello', 'saxophone', 'clarinet']\n",
      "cello\n",
      "['guitar 2', 'trombone', 'oboe', 'bass', 'saxophone', 'clarinet', 'viola']\n",
      "clarinet\n",
      "['saxophone', 'cello', 'oboe', 'trombone', 'guitar 2']\n",
      "trombone\n",
      "['guitar 2', 'cello', 'oboe', 'bass', 'saxophone', 'clarinet', 'viola']\n",
      "guitar 2\n",
      "['trombone', 'oboe', 'bass', 'cello', 'saxophone', 'clarinet']\n",
      "oboe\n",
      "['guitar 2', 'trombone', 'clarinet', 'bass', 'cello', 'saxophone', 'viola']\n",
      "cello\n",
      "['guitar 2', 'trombone', 'oboe', 'bass', 'saxophone', 'clarinet', 'viola']\n",
      "clarinet\n",
      "['saxophone', 'cello', 'oboe', 'trombone', 'guitar 2']\n",
      "guitar 2\n",
      "['trombone', 'oboe', 'bass', 'cello', 'saxophone', 'clarinet']\n",
      "cello\n",
      "['guitar 2', 'trombone', 'oboe', 'bass', 'saxophone', 'clarinet', 'viola']\n",
      "guitar 2\n",
      "['trombone', 'oboe', 'bass', 'cello', 'saxophone', 'clarinet']\n",
      "trombone\n",
      "['guitar 2', 'cello', 'oboe', 'bass', 'saxophone', 'clarinet', 'viola']\n",
      "bass\n",
      "['guitar 2', 'trombone', 'oboe', 'cello', 'saxophone', 'viola']\n",
      "saxophone\n",
      "['guitar 2', 'cello', 'oboe', 'bass', 'trombone', 'clarinet', 'viola']\n",
      "oboe\n",
      "['guitar 2', 'trombone', 'clarinet', 'bass', 'cello', 'saxophone', 'viola']\n",
      "guitar 2\n",
      "['trombone', 'oboe', 'bass', 'cello', 'saxophone', 'clarinet']\n",
      "saxophone\n",
      "['guitar 2', 'cello', 'oboe', 'bass', 'trombone', 'clarinet', 'viola']\n",
      "clarinet\n",
      "['saxophone', 'cello', 'oboe', 'trombone', 'guitar 2']\n",
      "saxophone\n",
      "['guitar 2', 'cello', 'oboe', 'bass', 'trombone', 'clarinet', 'viola']\n",
      "trombone\n",
      "['guitar 2', 'cello', 'oboe', 'bass', 'saxophone', 'clarinet', 'viola']\n",
      "guitar 2\n",
      "['trombone', 'oboe', 'bass', 'cello', 'saxophone', 'clarinet']\n",
      "trombone\n",
      "['guitar 2', 'cello', 'oboe', 'bass', 'saxophone', 'clarinet', 'viola']\n",
      "viola\n",
      "['trombone', 'oboe', 'violin', 'bass', 'cello', 'saxophone']\n",
      "violin\n",
      "['guitar 1', 'viola']\n",
      "viola\n",
      "['trombone', 'oboe', 'violin', 'bass', 'cello', 'saxophone']\n",
      "violin\n",
      "['guitar 1', 'viola']\n",
      "viola\n",
      "['trombone', 'oboe', 'violin', 'bass', 'cello', 'saxophone']\n",
      "bass\n",
      "['guitar 2', 'trombone', 'oboe', 'cello', 'saxophone', 'viola']\n",
      "saxophone\n",
      "['guitar 2', 'cello', 'oboe', 'bass', 'trombone', 'clarinet', 'viola']\n",
      "bass\n",
      "['guitar 2', 'trombone', 'oboe', 'cello', 'saxophone', 'viola']\n",
      "guitar 2\n",
      "['trombone', 'oboe', 'bass', 'cello', 'saxophone', 'clarinet']\n",
      "clarinet\n",
      "['saxophone', 'cello', 'oboe', 'trombone', 'guitar 2']\n",
      "cello\n",
      "['guitar 2', 'trombone', 'oboe', 'bass', 'saxophone', 'clarinet', 'viola']\n",
      "trombone\n",
      "['guitar 2', 'cello', 'oboe', 'bass', 'saxophone', 'clarinet', 'viola']\n",
      "guitar 2\n",
      "['trombone', 'oboe', 'bass', 'cello', 'saxophone', 'clarinet']\n",
      "saxophone\n",
      "['guitar 2', 'cello', 'oboe', 'bass', 'trombone', 'clarinet', 'viola']\n",
      "oboe\n",
      "['guitar 2', 'trombone', 'clarinet', 'bass', 'cello', 'saxophone', 'viola']\n",
      "clarinet\n",
      "['saxophone', 'cello', 'oboe', 'trombone', 'guitar 2']\n",
      "saxophone\n",
      "['guitar 2', 'cello', 'oboe', 'bass', 'trombone', 'clarinet', 'viola']\n",
      "clarinet\n",
      "['saxophone', 'cello', 'oboe', 'trombone', 'guitar 2']\n",
      "oboe\n",
      "['guitar 2', 'trombone', 'clarinet', 'bass', 'cello', 'saxophone', 'viola']\n",
      "saxophone\n",
      "['guitar 2', 'cello', 'oboe', 'bass', 'trombone', 'clarinet', 'viola']\n",
      "trombone\n",
      "['guitar 2', 'cello', 'oboe', 'bass', 'saxophone', 'clarinet', 'viola']\n",
      "bass\n",
      "['guitar 2', 'trombone', 'oboe', 'cello', 'saxophone', 'viola']\n",
      "saxophone\n",
      "['guitar 2', 'cello', 'oboe', 'bass', 'trombone', 'clarinet', 'viola']\n",
      "clarinet\n",
      "['saxophone', 'cello', 'oboe', 'trombone', 'guitar 2']\n",
      "saxophone\n",
      "['guitar 2', 'cello', 'oboe', 'bass', 'trombone', 'clarinet', 'viola']\n",
      "bass\n",
      "['guitar 2', 'trombone', 'oboe', 'cello', 'saxophone', 'viola']\n",
      "trombone\n",
      "['guitar 2', 'cello', 'oboe', 'bass', 'saxophone', 'clarinet', 'viola']\n",
      "oboe\n",
      "['guitar 2', 'trombone', 'clarinet', 'bass', 'cello', 'saxophone', 'viola']\n",
      "cello\n",
      "['guitar 2', 'trombone', 'oboe', 'bass', 'saxophone', 'clarinet', 'viola']\n",
      "trombone\n",
      "['guitar 2', 'cello', 'oboe', 'bass', 'saxophone', 'clarinet', 'viola']\n",
      "clarinet\n",
      "['saxophone', 'cello', 'oboe', 'trombone', 'guitar 2']\n",
      "oboe\n",
      "['guitar 2', 'trombone', 'clarinet', 'bass', 'cello', 'saxophone', 'viola']\n",
      "viola\n",
      "['trombone', 'oboe', 'violin', 'bass', 'cello', 'saxophone']\n",
      "trombone\n",
      "['guitar 2', 'cello', 'oboe', 'bass', 'saxophone', 'clarinet', 'viola']\n",
      "guitar 2\n",
      "['trombone', 'oboe', 'bass', 'cello', 'saxophone', 'clarinet']\n",
      "clarinet\n",
      "['saxophone', 'cello', 'oboe', 'trombone', 'guitar 2']\n",
      "guitar 2\n",
      "['trombone', 'oboe', 'bass', 'cello', 'saxophone', 'clarinet']\n",
      "clarinet\n",
      "['saxophone', 'cello', 'oboe', 'trombone', 'guitar 2']\n",
      "guitar 2\n",
      "['trombone', 'oboe', 'bass', 'cello', 'saxophone', 'clarinet']\n",
      "trombone\n",
      "['guitar 2', 'cello', 'oboe', 'bass', 'saxophone', 'clarinet', 'viola']\n",
      "viola\n",
      "['trombone', 'oboe', 'violin', 'bass', 'cello', 'saxophone']\n",
      "violin\n",
      "['guitar 1', 'viola']\n",
      "guitar 1\n",
      "['violin']\n",
      "violin\n",
      "['guitar 1', 'viola']\n",
      "guitar 1\n",
      "['violin']\n",
      "violin\n",
      "['guitar 1', 'viola']\n",
      "viola\n",
      "['trombone', 'oboe', 'violin', 'bass', 'cello', 'saxophone']\n",
      "oboe\n",
      "['guitar 2', 'trombone', 'clarinet', 'bass', 'cello', 'saxophone', 'viola']\n",
      "saxophone\n",
      "['guitar 2', 'cello', 'oboe', 'bass', 'trombone', 'clarinet', 'viola']\n",
      "bass\n",
      "['guitar 2', 'trombone', 'oboe', 'cello', 'saxophone', 'viola']\n",
      "guitar 2\n",
      "['trombone', 'oboe', 'bass', 'cello', 'saxophone', 'clarinet']\n",
      "trombone\n",
      "['guitar 2', 'cello', 'oboe', 'bass', 'saxophone', 'clarinet', 'viola']\n",
      "viola\n",
      "['trombone', 'oboe', 'violin', 'bass', 'cello', 'saxophone']\n",
      "saxophone\n",
      "['guitar 2', 'cello', 'oboe', 'bass', 'trombone', 'clarinet', 'viola']\n",
      "trombone\n",
      "['guitar 2', 'cello', 'oboe', 'bass', 'saxophone', 'clarinet', 'viola']\n",
      "guitar 2\n",
      "['trombone', 'oboe', 'bass', 'cello', 'saxophone', 'clarinet']\n",
      "oboe\n",
      "['guitar 2', 'trombone', 'clarinet', 'bass', 'cello', 'saxophone', 'viola']\n",
      "trombone\n",
      "['guitar 2', 'cello', 'oboe', 'bass', 'saxophone', 'clarinet', 'viola']\n",
      "viola\n",
      "['trombone', 'oboe', 'violin', 'bass', 'cello', 'saxophone']\n",
      "saxophone\n",
      "['guitar 2', 'cello', 'oboe', 'bass', 'trombone', 'clarinet', 'viola']\n",
      "cello\n",
      "['guitar 2', 'trombone', 'oboe', 'bass', 'saxophone', 'clarinet', 'viola']\n",
      "viola\n",
      "['trombone', 'oboe', 'violin', 'bass', 'cello', 'saxophone']\n",
      "violin\n",
      "['guitar 1', 'viola']\n",
      "viola\n",
      "['trombone', 'oboe', 'violin', 'bass', 'cello', 'saxophone']\n",
      "saxophone\n",
      "['guitar 2', 'cello', 'oboe', 'bass', 'trombone', 'clarinet', 'viola']\n",
      "trombone\n",
      "['guitar 2', 'cello', 'oboe', 'bass', 'saxophone', 'clarinet', 'viola']\n",
      "guitar 2\n",
      "['trombone', 'oboe', 'bass', 'cello', 'saxophone', 'clarinet']\n",
      "cello\n",
      "['guitar 2', 'trombone', 'oboe', 'bass', 'saxophone', 'clarinet', 'viola']\n",
      "bass\n",
      "['guitar 2', 'trombone', 'oboe', 'cello', 'saxophone', 'viola']\n",
      "cello\n",
      "['guitar 2', 'trombone', 'oboe', 'bass', 'saxophone', 'clarinet', 'viola']\n",
      "bass\n",
      "['guitar 2', 'trombone', 'oboe', 'cello', 'saxophone', 'viola']\n",
      "oboe\n",
      "['guitar 2', 'trombone', 'clarinet', 'bass', 'cello', 'saxophone', 'viola']\n",
      "viola\n",
      "['trombone', 'oboe', 'violin', 'bass', 'cello', 'saxophone']\n",
      "saxophone\n",
      "['guitar 2', 'cello', 'oboe', 'bass', 'trombone', 'clarinet', 'viola']\n",
      "viola\n",
      "['trombone', 'oboe', 'violin', 'bass', 'cello', 'saxophone']\n"
     ]
    }
   ],
   "source": [
    "current_node = choice(inst)\n",
    "for _ in range(100):\n",
    "    print(current_node)\n",
    "    neighbors = g[current_node]\n",
    "    current_node = choice(list(neighbors.keys()))"
   ]
  },
  {
   "cell_type": "code",
   "execution_count": null,
   "metadata": {
    "collapsed": true
   },
   "outputs": [],
   "source": []
  },
  {
   "cell_type": "code",
   "execution_count": null,
   "metadata": {
    "collapsed": true
   },
   "outputs": [],
   "source": []
  }
 ],
 "metadata": {
  "kernelspec": {
   "display_name": "Python 3",
   "language": "python",
   "name": "python3"
  },
  "language_info": {
   "codemirror_mode": {
    "name": "ipython",
    "version": 3
   },
   "file_extension": ".py",
   "mimetype": "text/x-python",
   "name": "python",
   "nbconvert_exporter": "python",
   "pygments_lexer": "ipython3",
   "version": "3.5.0"
  }
 },
 "nbformat": 4,
 "nbformat_minor": 0
}
