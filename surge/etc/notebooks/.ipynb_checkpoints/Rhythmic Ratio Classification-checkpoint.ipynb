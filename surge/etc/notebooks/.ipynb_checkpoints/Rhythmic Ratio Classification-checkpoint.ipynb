{
 "cells": [
  {
   "cell_type": "code",
   "execution_count": 2,
   "metadata": {
    "collapsed": false
   },
   "outputs": [
    {
     "name": "stderr",
     "output_type": "stream",
     "text": [
      "A newer version of GraphLab Create (v1.8.4) is available! Your current version is v1.8.\n",
      "\n",
      "You can use pip to upgrade the graphlab-create package. For more information see https://dato.com/products/create/upgrade.\n"
     ]
    }
   ],
   "source": [
    "from abjad import *\n",
    "from surge import *\n",
    "from itertools import tee, izip\n",
    "import math\n",
    "import graphlab"
   ]
  },
  {
   "cell_type": "code",
   "execution_count": 3,
   "metadata": {
    "collapsed": true
   },
   "outputs": [],
   "source": [
    "def is_monotonically_increasing(X):\n",
    "    if len(X) == 0: return False\n",
    "    if len(X) == 1: return True\n",
    "    last_x = abs(X[0])\n",
    "    for x in X[1:]:\n",
    "        if abs(x) < last_x:\n",
    "            return False\n",
    "        last_x = abs(x)\n",
    "    return True"
   ]
  },
  {
   "cell_type": "code",
   "execution_count": 4,
   "metadata": {
    "collapsed": true
   },
   "outputs": [],
   "source": [
    "def is_monotonically_decreasing(X):\n",
    "    if len(X) == 0: return False\n",
    "    if len(X) == 1: return True\n",
    "    last_x = abs(X[0])\n",
    "    for x in X[1:]:\n",
    "        if abs(x) > last_x:\n",
    "            return False\n",
    "        last_x = abs(x)\n",
    "    return True"
   ]
  },
  {
   "cell_type": "code",
   "execution_count": 5,
   "metadata": {
    "collapsed": false
   },
   "outputs": [],
   "source": [
    "def is_symmetric(X):\n",
    "    mid_ceiling = int(round(len(X)/2.))\n",
    "    mid_floor = int(math.floor(len(X)/2.))\n",
    "    left = [abs(x) for x in X[0:mid_ceiling]]\n",
    "    right = [abs(x) for x in X[mid_floor:]]\n",
    "    right.reverse()\n",
    "    if left == right:\n",
    "        return True\n",
    "    else:\n",
    "        return False"
   ]
  },
  {
   "cell_type": "code",
   "execution_count": 6,
   "metadata": {
    "collapsed": false
   },
   "outputs": [],
   "source": [
    "def hd(X):\n",
    "    product = reduce(lambda x, y: x*y, X)\n",
    "    return math.log(product, 2)"
   ]
  },
  {
   "cell_type": "code",
   "execution_count": 7,
   "metadata": {
    "collapsed": false
   },
   "outputs": [
    {
     "data": {
      "text/plain": [
       "2.584962500721156"
      ]
     },
     "execution_count": 7,
     "metadata": {},
     "output_type": "execute_result"
    }
   ],
   "source": [
    "hd([1,2,3])"
   ]
  },
  {
   "cell_type": "code",
   "execution_count": 8,
   "metadata": {
    "collapsed": true
   },
   "outputs": [],
   "source": [
    "def sign(N):\n",
    "    if n < 0:\n",
    "        return -1\n",
    "    else:\n",
    "        return 1"
   ]
  },
  {
   "cell_type": "code",
   "execution_count": 9,
   "metadata": {
    "collapsed": true
   },
   "outputs": [],
   "source": [
    "def _indigestibility(N):\n",
    "    factors = mathtools.factors(N)\n",
    "    powers = {}\n",
    "    for x in factors:\n",
    "        if x in powers:\n",
    "            powers[x] += 1\n",
    "        else:\n",
    "            powers[x] = 1\n",
    "    sigma = 0\n",
    "    for factor in powers.keys():\n",
    "        n = powers[factor]\n",
    "        p = factor\n",
    "        sigma += n * (p-1) * (p-1) / float(p)\n",
    "    return 2 * sigma"
   ]
  },
  {
   "cell_type": "code",
   "execution_count": 10,
   "metadata": {
    "collapsed": true
   },
   "outputs": [],
   "source": [
    "def _harmonicity(a,b):\n",
    "    if a == float('inf') or b == float('inf'):\n",
    "        return float('inf')\n",
    "    else:\n",
    "        i = _indigestibility\n",
    "        num = sign(i(b) - i(a))\n",
    "        den = i(a) + i(b)\n",
    "        if den == 0:\n",
    "            return float('inf')\n",
    "        else:\n",
    "            return num/den\n",
    "def harmonicity(X):\n",
    "    if len(X) == 1:\n",
    "        return float('inf')\n",
    "    elif len(X) == 2:\n",
    "        return _harmonicity(X[0], X[1])\n",
    "    else:\n",
    "        a = X[0]\n",
    "        b = reduce(lambda x,y: x*y, X[1:])\n",
    "        return _harmonicity(a,b)"
   ]
  },
  {
   "cell_type": "code",
   "execution_count": 11,
   "metadata": {
    "collapsed": false,
    "scrolled": true
   },
   "outputs": [],
   "source": [
    "my_ratios = []\n",
    "for n in range(6, 13):\n",
    "    for c in mathtools.yield_all_compositions_of_integer(n):\n",
    "        if is_monotonically_increasing(c) and 2 < len(c) < 5:\n",
    "            my_ratios.append(mathtools.Ratio(c).items)"
   ]
  },
  {
   "cell_type": "code",
   "execution_count": 12,
   "metadata": {
    "collapsed": false
   },
   "outputs": [
    {
     "name": "stdout",
     "output_type": "stream",
     "text": [
      "inf\n",
      "inf\n"
     ]
    }
   ],
   "source": [
    "x = float('inf')\n",
    "print(x)\n",
    "y = x * 2\n",
    "print(y)"
   ]
  },
  {
   "cell_type": "code",
   "execution_count": 13,
   "metadata": {
    "collapsed": false
   },
   "outputs": [
    {
     "data": {
      "text/plain": [
       "4"
      ]
     },
     "execution_count": 13,
     "metadata": {},
     "output_type": "execute_result"
    }
   ],
   "source": [
    "r = mathtools.Ratio([1,2,3,4])\n",
    "len(r)"
   ]
  },
  {
   "cell_type": "code",
   "execution_count": 14,
   "metadata": {
    "collapsed": true
   },
   "outputs": [],
   "source": [
    "def product(X):\n",
    "    if len(X) == 1:\n",
    "        return X[0]\n",
    "    else:\n",
    "        return reduce(lambda x, y: x*y, X)\n"
   ]
  },
  {
   "cell_type": "code",
   "execution_count": 15,
   "metadata": {
    "collapsed": false
   },
   "outputs": [],
   "source": [
    "def sum_over_product(X):\n",
    "    return float(sum(X))/product(X)"
   ]
  },
  {
   "cell_type": "code",
   "execution_count": 16,
   "metadata": {
    "collapsed": true
   },
   "outputs": [],
   "source": [
    "def product_over_sum(X):\n",
    "    return float(product(X))/sum(X)"
   ]
  },
  {
   "cell_type": "code",
   "execution_count": 17,
   "metadata": {
    "collapsed": false
   },
   "outputs": [],
   "source": [
    "R = []\n",
    "for i in range(1,10):\n",
    "    for j in range(1,10):\n",
    "        r = mathtools.Ratio([i,j])\n",
    "        if r not in R:\n",
    "            R.append(r.items)"
   ]
  },
  {
   "cell_type": "code",
   "execution_count": 18,
   "metadata": {
    "collapsed": false
   },
   "outputs": [
    {
     "name": "stderr",
     "output_type": "stream",
     "text": [
      "[INFO] This non-commercial license of GraphLab Create is assigned to jdavance@ucsc.edu and will expire on December 28, 2016. For commercial licensing options, visit https://dato.com/buy/.\n",
      "\n",
      "[INFO] Start server at: ipc:///tmp/graphlab_server-6172 - Server binary: /Users/josephdavancens/anaconda/envs/music/lib/python2.7/site-packages/graphlab/unity_server - Server log: /tmp/graphlab_server_1458160776.log\n",
      "[INFO] GraphLab Server Version: 1.8\n"
     ]
    }
   ],
   "source": [
    "ratios = graphlab.SFrame()"
   ]
  },
  {
   "cell_type": "code",
   "execution_count": 19,
   "metadata": {
    "collapsed": false
   },
   "outputs": [],
   "source": [
    "ratios['ratios'] = R"
   ]
  },
  {
   "cell_type": "code",
   "execution_count": 20,
   "metadata": {
    "collapsed": false
   },
   "outputs": [],
   "source": [
    "# ratios['harmonic distance'] = [hd(ratio) for ratio in ratios['ratios']]"
   ]
  },
  {
   "cell_type": "code",
   "execution_count": 21,
   "metadata": {
    "collapsed": false
   },
   "outputs": [],
   "source": [
    "# ratios['harmonicity'] = [harmonicity(ratio) for ratio in ratios['ratios']]"
   ]
  },
  {
   "cell_type": "code",
   "execution_count": 22,
   "metadata": {
    "collapsed": false
   },
   "outputs": [],
   "source": [
    "# ratios['sum'] = [sum(ratio) for ratio in ratios['ratios']]"
   ]
  },
  {
   "cell_type": "code",
   "execution_count": 23,
   "metadata": {
    "collapsed": true
   },
   "outputs": [],
   "source": [
    "# ratios['sum over product'] = [sum_over_product(ratio) for ratio in ratios['ratios']]"
   ]
  },
  {
   "cell_type": "code",
   "execution_count": 24,
   "metadata": {
    "collapsed": true
   },
   "outputs": [],
   "source": [
    "ratios['product over sum'] = [product_over_sum(ratio) for ratio in ratios['ratios']]"
   ]
  },
  {
   "cell_type": "code",
   "execution_count": 25,
   "metadata": {
    "collapsed": false
   },
   "outputs": [
    {
     "name": "stdout",
     "output_type": "stream",
     "text": [
      "+------------+------------------+\n",
      "|   ratios   | product over sum |\n",
      "+------------+------------------+\n",
      "| [1.0, 1.0] |       0.5        |\n",
      "| [1.0, 2.0] |  0.666666666667  |\n",
      "| [2.0, 1.0] |  0.666666666667  |\n",
      "| [1.0, 3.0] |       0.75       |\n",
      "| [3.0, 1.0] |       0.75       |\n",
      "| [1.0, 4.0] |       0.8        |\n",
      "| [4.0, 1.0] |       0.8        |\n",
      "| [1.0, 5.0] |  0.833333333333  |\n",
      "| [5.0, 1.0] |  0.833333333333  |\n",
      "| [1.0, 6.0] |  0.857142857143  |\n",
      "| [6.0, 1.0] |  0.857142857143  |\n",
      "| [1.0, 7.0] |      0.875       |\n",
      "| [7.0, 1.0] |      0.875       |\n",
      "| [1.0, 8.0] |  0.888888888889  |\n",
      "| [8.0, 1.0] |  0.888888888889  |\n",
      "| [1.0, 9.0] |       0.9        |\n",
      "| [9.0, 1.0] |       0.9        |\n",
      "| [2.0, 3.0] |       1.2        |\n",
      "| [3.0, 2.0] |       1.2        |\n",
      "| [5.0, 2.0] |  1.42857142857   |\n",
      "| [2.0, 5.0] |  1.42857142857   |\n",
      "| [2.0, 7.0] |  1.55555555556   |\n",
      "| [7.0, 2.0] |  1.55555555556   |\n",
      "| [2.0, 9.0] |  1.63636363636   |\n",
      "| [9.0, 2.0] |  1.63636363636   |\n",
      "| [4.0, 3.0] |  1.71428571429   |\n",
      "| [3.0, 4.0] |  1.71428571429   |\n",
      "| [5.0, 3.0] |      1.875       |\n",
      "| [3.0, 5.0] |      1.875       |\n",
      "| [3.0, 7.0] |       2.1        |\n",
      "| [7.0, 3.0] |       2.1        |\n",
      "| [8.0, 3.0] |  2.18181818182   |\n",
      "| [3.0, 8.0] |  2.18181818182   |\n",
      "| [4.0, 5.0] |  2.22222222222   |\n",
      "| [5.0, 4.0] |  2.22222222222   |\n",
      "| [4.0, 7.0] |  2.54545454545   |\n",
      "| [7.0, 4.0] |  2.54545454545   |\n",
      "| [6.0, 5.0] |  2.72727272727   |\n",
      "| [5.0, 6.0] |  2.72727272727   |\n",
      "| [4.0, 9.0] |  2.76923076923   |\n",
      "| [9.0, 4.0] |  2.76923076923   |\n",
      "| [7.0, 5.0] |  2.91666666667   |\n",
      "| [5.0, 7.0] |  2.91666666667   |\n",
      "| [5.0, 8.0] |  3.07692307692   |\n",
      "| [8.0, 5.0] |  3.07692307692   |\n",
      "| [5.0, 9.0] |  3.21428571429   |\n",
      "| [9.0, 5.0] |  3.21428571429   |\n",
      "| [7.0, 6.0] |  3.23076923077   |\n",
      "| [6.0, 7.0] |  3.23076923077   |\n",
      "| [8.0, 7.0] |  3.73333333333   |\n",
      "| [7.0, 8.0] |  3.73333333333   |\n",
      "| [7.0, 9.0] |      3.9375      |\n",
      "| [9.0, 7.0] |      3.9375      |\n",
      "| [8.0, 9.0] |  4.23529411765   |\n",
      "| [9.0, 8.0] |  4.23529411765   |\n",
      "+------------+------------------+\n",
      "[55 rows x 2 columns]\n",
      "\n"
     ]
    }
   ],
   "source": [
    "ratios.sort('product over sum').print_rows(55,6)"
   ]
  },
  {
   "cell_type": "code",
   "execution_count": 29,
   "metadata": {
    "collapsed": false
   },
   "outputs": [
    {
     "name": "stdout",
     "output_type": "stream",
     "text": [
      "[Ratio((1,)), Ratio((11, 1)), Ratio((5, 1)), Ratio((10, 1, 1)), Ratio((3, 1)), Ratio((9, 2, 1)), Ratio((9, 1, 2)), Ratio((9, 1, 1, 1)), Ratio((2, 1)), Ratio((8, 3, 1)), Ratio((4, 1, 1)), Ratio((8, 2, 1, 1)), Ratio((8, 1, 3)), Ratio((8, 1, 2, 1)), Ratio((8, 1, 1, 2)), Ratio((8, 1, 1, 1, 1)), Ratio((7, 5)), Ratio((7, 4, 1)), Ratio((7, 3, 2)), Ratio((7, 3, 1, 1)), Ratio((7, 2, 3)), Ratio((7, 2, 2, 1)), Ratio((7, 2, 1, 2)), Ratio((7, 2, 1, 1, 1)), Ratio((7, 1, 4)), Ratio((7, 1, 3, 1)), Ratio((7, 1, 2, 2)), Ratio((7, 1, 2, 1, 1)), Ratio((7, 1, 1, 3)), Ratio((7, 1, 1, 2, 1)), Ratio((7, 1, 1, 1, 2)), Ratio((7, 1, 1, 1, 1, 1)), Ratio((1, 1)), Ratio((6, 5, 1)), Ratio((3, 2, 1)), Ratio((6, 4, 1, 1)), Ratio((2, 1, 1)), Ratio((6, 3, 2, 1)), Ratio((6, 3, 1, 2)), Ratio((6, 3, 1, 1, 1)), Ratio((3, 1, 2)), Ratio((6, 2, 3, 1)), Ratio((3, 1, 1, 1)), Ratio((6, 2, 2, 1, 1)), Ratio((6, 2, 1, 3)), Ratio((6, 2, 1, 2, 1)), Ratio((6, 2, 1, 1, 2)), Ratio((6, 2, 1, 1, 1, 1)), Ratio((6, 1, 5)), Ratio((6, 1, 4, 1)), Ratio((6, 1, 3, 2)), Ratio((6, 1, 3, 1, 1)), Ratio((6, 1, 2, 3)), Ratio((6, 1, 2, 2, 1)), Ratio((6, 1, 2, 1, 2)), Ratio((6, 1, 2, 1, 1, 1)), Ratio((6, 1, 1, 4)), Ratio((6, 1, 1, 3, 1)), Ratio((6, 1, 1, 2, 2)), Ratio((6, 1, 1, 2, 1, 1)), Ratio((6, 1, 1, 1, 3)), Ratio((6, 1, 1, 1, 2, 1)), Ratio((6, 1, 1, 1, 1, 2)), Ratio((6, 1, 1, 1, 1, 1, 1)), Ratio((5, 7)), Ratio((5, 6, 1)), Ratio((5, 5, 2)), Ratio((5, 5, 1, 1)), Ratio((5, 4, 3)), Ratio((5, 4, 2, 1)), Ratio((5, 4, 1, 2)), Ratio((5, 4, 1, 1, 1)), Ratio((5, 3, 4)), Ratio((5, 3, 3, 1)), Ratio((5, 3, 2, 2)), Ratio((5, 3, 2, 1, 1)), Ratio((5, 3, 1, 3)), Ratio((5, 3, 1, 2, 1)), Ratio((5, 3, 1, 1, 2)), Ratio((5, 3, 1, 1, 1, 1)), Ratio((5, 2, 5)), Ratio((5, 2, 4, 1)), Ratio((5, 2, 3, 2)), Ratio((5, 2, 3, 1, 1)), Ratio((5, 2, 2, 3)), Ratio((5, 2, 2, 2, 1)), Ratio((5, 2, 2, 1, 2)), Ratio((5, 2, 2, 1, 1, 1)), Ratio((5, 2, 1, 4)), Ratio((5, 2, 1, 3, 1)), Ratio((5, 2, 1, 2, 2)), Ratio((5, 2, 1, 2, 1, 1)), Ratio((5, 2, 1, 1, 3)), Ratio((5, 2, 1, 1, 2, 1)), Ratio((5, 2, 1, 1, 1, 2)), Ratio((5, 2, 1, 1, 1, 1, 1)), Ratio((5, 1, 6)), Ratio((5, 1, 5, 1)), Ratio((5, 1, 4, 2)), Ratio((5, 1, 4, 1, 1)), Ratio((5, 1, 3, 3)), Ratio((5, 1, 3, 2, 1)), Ratio((5, 1, 3, 1, 2)), Ratio((5, 1, 3, 1, 1, 1)), Ratio((5, 1, 2, 4)), Ratio((5, 1, 2, 3, 1)), Ratio((5, 1, 2, 2, 2)), Ratio((5, 1, 2, 2, 1, 1)), Ratio((5, 1, 2, 1, 3)), Ratio((5, 1, 2, 1, 2, 1)), Ratio((5, 1, 2, 1, 1, 2)), Ratio((5, 1, 2, 1, 1, 1, 1)), Ratio((5, 1, 1, 5)), Ratio((5, 1, 1, 4, 1)), Ratio((5, 1, 1, 3, 2)), Ratio((5, 1, 1, 3, 1, 1)), Ratio((5, 1, 1, 2, 3)), Ratio((5, 1, 1, 2, 2, 1)), Ratio((5, 1, 1, 2, 1, 2)), Ratio((5, 1, 1, 2, 1, 1, 1)), Ratio((5, 1, 1, 1, 4)), Ratio((5, 1, 1, 1, 3, 1)), Ratio((5, 1, 1, 1, 2, 2)), Ratio((5, 1, 1, 1, 2, 1, 1)), Ratio((5, 1, 1, 1, 1, 3)), Ratio((5, 1, 1, 1, 1, 2, 1)), Ratio((5, 1, 1, 1, 1, 1, 2)), Ratio((5, 1, 1, 1, 1, 1, 1, 1)), Ratio((1, 2)), Ratio((4, 7, 1)), Ratio((2, 3, 1)), Ratio((4, 6, 1, 1)), Ratio((4, 5, 3)), Ratio((4, 5, 2, 1)), Ratio((4, 5, 1, 2)), Ratio((4, 5, 1, 1, 1)), Ratio((1, 1, 1)), Ratio((4, 4, 3, 1)), Ratio((2, 2, 1, 1)), Ratio((4, 4, 2, 1, 1)), Ratio((4, 4, 1, 3)), Ratio((4, 4, 1, 2, 1)), Ratio((4, 4, 1, 1, 2)), Ratio((4, 4, 1, 1, 1, 1)), Ratio((4, 3, 5)), Ratio((4, 3, 4, 1)), Ratio((4, 3, 3, 2)), Ratio((4, 3, 3, 1, 1)), Ratio((4, 3, 2, 3)), Ratio((4, 3, 2, 2, 1)), Ratio((4, 3, 2, 1, 2)), Ratio((4, 3, 2, 1, 1, 1)), Ratio((4, 3, 1, 4)), Ratio((4, 3, 1, 3, 1)), Ratio((4, 3, 1, 2, 2)), Ratio((4, 3, 1, 2, 1, 1)), Ratio((4, 3, 1, 1, 3)), Ratio((4, 3, 1, 1, 2, 1)), Ratio((4, 3, 1, 1, 1, 2)), Ratio((4, 3, 1, 1, 1, 1, 1)), Ratio((2, 1, 3)), Ratio((4, 2, 5, 1)), Ratio((2, 1, 2, 1)), Ratio((4, 2, 4, 1, 1)), Ratio((4, 2, 3, 3)), Ratio((4, 2, 3, 2, 1)), Ratio((4, 2, 3, 1, 2)), Ratio((4, 2, 3, 1, 1, 1)), Ratio((2, 1, 1, 2)), Ratio((4, 2, 2, 3, 1)), Ratio((2, 1, 1, 1, 1)), Ratio((4, 2, 2, 2, 1, 1)), Ratio((4, 2, 2, 1, 3)), Ratio((4, 2, 2, 1, 2, 1)), Ratio((4, 2, 2, 1, 1, 2)), Ratio((4, 2, 2, 1, 1, 1, 1)), Ratio((4, 2, 1, 5)), Ratio((4, 2, 1, 4, 1)), Ratio((4, 2, 1, 3, 2)), Ratio((4, 2, 1, 3, 1, 1)), Ratio((4, 2, 1, 2, 3)), Ratio((4, 2, 1, 2, 2, 1)), Ratio((4, 2, 1, 2, 1, 2)), Ratio((4, 2, 1, 2, 1, 1, 1)), Ratio((4, 2, 1, 1, 4)), Ratio((4, 2, 1, 1, 3, 1)), Ratio((4, 2, 1, 1, 2, 2)), Ratio((4, 2, 1, 1, 2, 1, 1)), Ratio((4, 2, 1, 1, 1, 3)), Ratio((4, 2, 1, 1, 1, 2, 1)), Ratio((4, 2, 1, 1, 1, 1, 2)), Ratio((4, 2, 1, 1, 1, 1, 1, 1)), Ratio((4, 1, 7)), Ratio((4, 1, 6, 1)), Ratio((4, 1, 5, 2)), Ratio((4, 1, 5, 1, 1)), Ratio((4, 1, 4, 3)), Ratio((4, 1, 4, 2, 1)), Ratio((4, 1, 4, 1, 2)), Ratio((4, 1, 4, 1, 1, 1)), Ratio((4, 1, 3, 4)), Ratio((4, 1, 3, 3, 1)), Ratio((4, 1, 3, 2, 2)), Ratio((4, 1, 3, 2, 1, 1)), Ratio((4, 1, 3, 1, 3)), Ratio((4, 1, 3, 1, 2, 1)), Ratio((4, 1, 3, 1, 1, 2)), Ratio((4, 1, 3, 1, 1, 1, 1)), Ratio((4, 1, 2, 5)), Ratio((4, 1, 2, 4, 1)), Ratio((4, 1, 2, 3, 2)), Ratio((4, 1, 2, 3, 1, 1)), Ratio((4, 1, 2, 2, 3)), Ratio((4, 1, 2, 2, 2, 1)), Ratio((4, 1, 2, 2, 1, 2)), Ratio((4, 1, 2, 2, 1, 1, 1)), Ratio((4, 1, 2, 1, 4)), Ratio((4, 1, 2, 1, 3, 1)), Ratio((4, 1, 2, 1, 2, 2)), Ratio((4, 1, 2, 1, 2, 1, 1)), Ratio((4, 1, 2, 1, 1, 3)), Ratio((4, 1, 2, 1, 1, 2, 1)), Ratio((4, 1, 2, 1, 1, 1, 2)), Ratio((4, 1, 2, 1, 1, 1, 1, 1)), Ratio((4, 1, 1, 6)), Ratio((4, 1, 1, 5, 1)), Ratio((4, 1, 1, 4, 2)), Ratio((4, 1, 1, 4, 1, 1)), Ratio((4, 1, 1, 3, 3)), Ratio((4, 1, 1, 3, 2, 1)), Ratio((4, 1, 1, 3, 1, 2)), Ratio((4, 1, 1, 3, 1, 1, 1)), Ratio((4, 1, 1, 2, 4)), Ratio((4, 1, 1, 2, 3, 1)), Ratio((4, 1, 1, 2, 2, 2)), Ratio((4, 1, 1, 2, 2, 1, 1)), Ratio((4, 1, 1, 2, 1, 3)), Ratio((4, 1, 1, 2, 1, 2, 1)), Ratio((4, 1, 1, 2, 1, 1, 2)), Ratio((4, 1, 1, 2, 1, 1, 1, 1)), Ratio((4, 1, 1, 1, 5)), Ratio((4, 1, 1, 1, 4, 1)), Ratio((4, 1, 1, 1, 3, 2)), Ratio((4, 1, 1, 1, 3, 1, 1)), Ratio((4, 1, 1, 1, 2, 3)), Ratio((4, 1, 1, 1, 2, 2, 1)), Ratio((4, 1, 1, 1, 2, 1, 2)), Ratio((4, 1, 1, 1, 2, 1, 1, 1)), Ratio((4, 1, 1, 1, 1, 4)), Ratio((4, 1, 1, 1, 1, 3, 1)), Ratio((4, 1, 1, 1, 1, 2, 2)), Ratio((4, 1, 1, 1, 1, 2, 1, 1)), Ratio((4, 1, 1, 1, 1, 1, 3)), Ratio((4, 1, 1, 1, 1, 1, 2, 1)), Ratio((4, 1, 1, 1, 1, 1, 1, 2)), Ratio((4, 1, 1, 1, 1, 1, 1, 1, 1)), Ratio((1, 3)), Ratio((3, 8, 1)), Ratio((3, 7, 2)), Ratio((3, 7, 1, 1)), Ratio((1, 2, 1)), Ratio((3, 6, 2, 1)), Ratio((3, 6, 1, 2)), Ratio((3, 6, 1, 1, 1)), Ratio((3, 5, 4)), Ratio((3, 5, 3, 1)), Ratio((3, 5, 2, 2)), Ratio((3, 5, 2, 1, 1)), Ratio((3, 5, 1, 3)), Ratio((3, 5, 1, 2, 1)), Ratio((3, 5, 1, 1, 2)), Ratio((3, 5, 1, 1, 1, 1)), Ratio((3, 4, 5)), Ratio((3, 4, 4, 1)), Ratio((3, 4, 3, 2)), Ratio((3, 4, 3, 1, 1)), Ratio((3, 4, 2, 3)), Ratio((3, 4, 2, 2, 1)), Ratio((3, 4, 2, 1, 2)), Ratio((3, 4, 2, 1, 1, 1)), Ratio((3, 4, 1, 4)), Ratio((3, 4, 1, 3, 1)), Ratio((3, 4, 1, 2, 2)), Ratio((3, 4, 1, 2, 1, 1)), Ratio((3, 4, 1, 1, 3)), Ratio((3, 4, 1, 1, 2, 1)), Ratio((3, 4, 1, 1, 1, 2)), Ratio((3, 4, 1, 1, 1, 1, 1)), Ratio((1, 1, 2)), Ratio((3, 3, 5, 1)), Ratio((3, 3, 4, 2)), Ratio((3, 3, 4, 1, 1)), Ratio((1, 1, 1, 1)), Ratio((3, 3, 3, 2, 1)), Ratio((3, 3, 3, 1, 2)), Ratio((3, 3, 3, 1, 1, 1)), Ratio((3, 3, 2, 4)), Ratio((3, 3, 2, 3, 1)), Ratio((3, 3, 2, 2, 2)), Ratio((3, 3, 2, 2, 1, 1)), Ratio((3, 3, 2, 1, 3)), Ratio((3, 3, 2, 1, 2, 1)), Ratio((3, 3, 2, 1, 1, 2)), Ratio((3, 3, 2, 1, 1, 1, 1)), Ratio((3, 3, 1, 5)), Ratio((3, 3, 1, 4, 1)), Ratio((3, 3, 1, 3, 2)), Ratio((3, 3, 1, 3, 1, 1)), Ratio((3, 3, 1, 2, 3)), Ratio((3, 3, 1, 2, 2, 1)), Ratio((3, 3, 1, 2, 1, 2)), Ratio((3, 3, 1, 2, 1, 1, 1)), Ratio((3, 3, 1, 1, 4)), Ratio((3, 3, 1, 1, 3, 1)), Ratio((3, 3, 1, 1, 2, 2)), Ratio((3, 3, 1, 1, 2, 1, 1)), Ratio((3, 3, 1, 1, 1, 3)), Ratio((3, 3, 1, 1, 1, 2, 1)), Ratio((3, 3, 1, 1, 1, 1, 2)), Ratio((3, 3, 1, 1, 1, 1, 1, 1)), Ratio((3, 2, 7)), Ratio((3, 2, 6, 1)), Ratio((3, 2, 5, 2)), Ratio((3, 2, 5, 1, 1)), Ratio((3, 2, 4, 3)), Ratio((3, 2, 4, 2, 1)), Ratio((3, 2, 4, 1, 2)), Ratio((3, 2, 4, 1, 1, 1)), Ratio((3, 2, 3, 4)), Ratio((3, 2, 3, 3, 1)), Ratio((3, 2, 3, 2, 2)), Ratio((3, 2, 3, 2, 1, 1)), Ratio((3, 2, 3, 1, 3)), Ratio((3, 2, 3, 1, 2, 1)), Ratio((3, 2, 3, 1, 1, 2)), Ratio((3, 2, 3, 1, 1, 1, 1)), Ratio((3, 2, 2, 5)), Ratio((3, 2, 2, 4, 1)), Ratio((3, 2, 2, 3, 2)), Ratio((3, 2, 2, 3, 1, 1)), Ratio((3, 2, 2, 2, 3)), Ratio((3, 2, 2, 2, 2, 1)), Ratio((3, 2, 2, 2, 1, 2)), Ratio((3, 2, 2, 2, 1, 1, 1)), Ratio((3, 2, 2, 1, 4)), Ratio((3, 2, 2, 1, 3, 1)), Ratio((3, 2, 2, 1, 2, 2)), Ratio((3, 2, 2, 1, 2, 1, 1)), Ratio((3, 2, 2, 1, 1, 3)), Ratio((3, 2, 2, 1, 1, 2, 1)), Ratio((3, 2, 2, 1, 1, 1, 2)), Ratio((3, 2, 2, 1, 1, 1, 1, 1)), Ratio((3, 2, 1, 6)), Ratio((3, 2, 1, 5, 1)), Ratio((3, 2, 1, 4, 2)), Ratio((3, 2, 1, 4, 1, 1)), Ratio((3, 2, 1, 3, 3)), Ratio((3, 2, 1, 3, 2, 1)), Ratio((3, 2, 1, 3, 1, 2)), Ratio((3, 2, 1, 3, 1, 1, 1)), Ratio((3, 2, 1, 2, 4)), Ratio((3, 2, 1, 2, 3, 1)), Ratio((3, 2, 1, 2, 2, 2)), Ratio((3, 2, 1, 2, 2, 1, 1)), Ratio((3, 2, 1, 2, 1, 3)), Ratio((3, 2, 1, 2, 1, 2, 1)), Ratio((3, 2, 1, 2, 1, 1, 2)), Ratio((3, 2, 1, 2, 1, 1, 1, 1)), Ratio((3, 2, 1, 1, 5)), Ratio((3, 2, 1, 1, 4, 1)), Ratio((3, 2, 1, 1, 3, 2)), Ratio((3, 2, 1, 1, 3, 1, 1)), Ratio((3, 2, 1, 1, 2, 3)), Ratio((3, 2, 1, 1, 2, 2, 1)), Ratio((3, 2, 1, 1, 2, 1, 2)), Ratio((3, 2, 1, 1, 2, 1, 1, 1)), Ratio((3, 2, 1, 1, 1, 4)), Ratio((3, 2, 1, 1, 1, 3, 1)), Ratio((3, 2, 1, 1, 1, 2, 2)), Ratio((3, 2, 1, 1, 1, 2, 1, 1)), Ratio((3, 2, 1, 1, 1, 1, 3)), Ratio((3, 2, 1, 1, 1, 1, 2, 1)), Ratio((3, 2, 1, 1, 1, 1, 1, 2)), Ratio((3, 2, 1, 1, 1, 1, 1, 1, 1)), Ratio((3, 1, 8)), Ratio((3, 1, 7, 1)), Ratio((3, 1, 6, 2)), Ratio((3, 1, 6, 1, 1)), Ratio((3, 1, 5, 3)), Ratio((3, 1, 5, 2, 1)), Ratio((3, 1, 5, 1, 2)), Ratio((3, 1, 5, 1, 1, 1)), Ratio((3, 1, 4, 4)), Ratio((3, 1, 4, 3, 1)), Ratio((3, 1, 4, 2, 2)), Ratio((3, 1, 4, 2, 1, 1)), Ratio((3, 1, 4, 1, 3)), Ratio((3, 1, 4, 1, 2, 1)), Ratio((3, 1, 4, 1, 1, 2)), Ratio((3, 1, 4, 1, 1, 1, 1)), Ratio((3, 1, 3, 5)), Ratio((3, 1, 3, 4, 1)), Ratio((3, 1, 3, 3, 2)), Ratio((3, 1, 3, 3, 1, 1)), Ratio((3, 1, 3, 2, 3)), Ratio((3, 1, 3, 2, 2, 1)), Ratio((3, 1, 3, 2, 1, 2)), Ratio((3, 1, 3, 2, 1, 1, 1)), Ratio((3, 1, 3, 1, 4)), Ratio((3, 1, 3, 1, 3, 1)), Ratio((3, 1, 3, 1, 2, 2)), Ratio((3, 1, 3, 1, 2, 1, 1)), Ratio((3, 1, 3, 1, 1, 3)), Ratio((3, 1, 3, 1, 1, 2, 1)), Ratio((3, 1, 3, 1, 1, 1, 2)), Ratio((3, 1, 3, 1, 1, 1, 1, 1)), Ratio((3, 1, 2, 6)), Ratio((3, 1, 2, 5, 1)), Ratio((3, 1, 2, 4, 2)), Ratio((3, 1, 2, 4, 1, 1)), Ratio((3, 1, 2, 3, 3)), Ratio((3, 1, 2, 3, 2, 1)), Ratio((3, 1, 2, 3, 1, 2)), Ratio((3, 1, 2, 3, 1, 1, 1)), Ratio((3, 1, 2, 2, 4)), Ratio((3, 1, 2, 2, 3, 1)), Ratio((3, 1, 2, 2, 2, 2)), Ratio((3, 1, 2, 2, 2, 1, 1)), Ratio((3, 1, 2, 2, 1, 3)), Ratio((3, 1, 2, 2, 1, 2, 1)), Ratio((3, 1, 2, 2, 1, 1, 2)), Ratio((3, 1, 2, 2, 1, 1, 1, 1)), Ratio((3, 1, 2, 1, 5)), Ratio((3, 1, 2, 1, 4, 1)), Ratio((3, 1, 2, 1, 3, 2)), Ratio((3, 1, 2, 1, 3, 1, 1)), Ratio((3, 1, 2, 1, 2, 3)), Ratio((3, 1, 2, 1, 2, 2, 1)), Ratio((3, 1, 2, 1, 2, 1, 2)), Ratio((3, 1, 2, 1, 2, 1, 1, 1)), Ratio((3, 1, 2, 1, 1, 4)), Ratio((3, 1, 2, 1, 1, 3, 1)), Ratio((3, 1, 2, 1, 1, 2, 2)), Ratio((3, 1, 2, 1, 1, 2, 1, 1)), Ratio((3, 1, 2, 1, 1, 1, 3)), Ratio((3, 1, 2, 1, 1, 1, 2, 1)), Ratio((3, 1, 2, 1, 1, 1, 1, 2)), Ratio((3, 1, 2, 1, 1, 1, 1, 1, 1)), Ratio((3, 1, 1, 7)), Ratio((3, 1, 1, 6, 1)), Ratio((3, 1, 1, 5, 2)), Ratio((3, 1, 1, 5, 1, 1)), Ratio((3, 1, 1, 4, 3)), Ratio((3, 1, 1, 4, 2, 1)), Ratio((3, 1, 1, 4, 1, 2)), Ratio((3, 1, 1, 4, 1, 1, 1)), Ratio((3, 1, 1, 3, 4)), Ratio((3, 1, 1, 3, 3, 1)), Ratio((3, 1, 1, 3, 2, 2)), Ratio((3, 1, 1, 3, 2, 1, 1)), Ratio((3, 1, 1, 3, 1, 3)), Ratio((3, 1, 1, 3, 1, 2, 1)), Ratio((3, 1, 1, 3, 1, 1, 2)), Ratio((3, 1, 1, 3, 1, 1, 1, 1)), Ratio((3, 1, 1, 2, 5)), Ratio((3, 1, 1, 2, 4, 1)), Ratio((3, 1, 1, 2, 3, 2)), Ratio((3, 1, 1, 2, 3, 1, 1)), Ratio((3, 1, 1, 2, 2, 3)), Ratio((3, 1, 1, 2, 2, 2, 1)), Ratio((3, 1, 1, 2, 2, 1, 2)), Ratio((3, 1, 1, 2, 2, 1, 1, 1)), Ratio((3, 1, 1, 2, 1, 4)), Ratio((3, 1, 1, 2, 1, 3, 1)), Ratio((3, 1, 1, 2, 1, 2, 2)), Ratio((3, 1, 1, 2, 1, 2, 1, 1)), Ratio((3, 1, 1, 2, 1, 1, 3)), Ratio((3, 1, 1, 2, 1, 1, 2, 1)), Ratio((3, 1, 1, 2, 1, 1, 1, 2)), Ratio((3, 1, 1, 2, 1, 1, 1, 1, 1)), Ratio((3, 1, 1, 1, 6)), Ratio((3, 1, 1, 1, 5, 1)), Ratio((3, 1, 1, 1, 4, 2)), Ratio((3, 1, 1, 1, 4, 1, 1)), Ratio((3, 1, 1, 1, 3, 3)), Ratio((3, 1, 1, 1, 3, 2, 1)), Ratio((3, 1, 1, 1, 3, 1, 2)), Ratio((3, 1, 1, 1, 3, 1, 1, 1)), Ratio((3, 1, 1, 1, 2, 4)), Ratio((3, 1, 1, 1, 2, 3, 1)), Ratio((3, 1, 1, 1, 2, 2, 2)), Ratio((3, 1, 1, 1, 2, 2, 1, 1)), Ratio((3, 1, 1, 1, 2, 1, 3)), Ratio((3, 1, 1, 1, 2, 1, 2, 1)), Ratio((3, 1, 1, 1, 2, 1, 1, 2)), Ratio((3, 1, 1, 1, 2, 1, 1, 1, 1)), Ratio((3, 1, 1, 1, 1, 5)), Ratio((3, 1, 1, 1, 1, 4, 1)), Ratio((3, 1, 1, 1, 1, 3, 2)), Ratio((3, 1, 1, 1, 1, 3, 1, 1)), Ratio((3, 1, 1, 1, 1, 2, 3)), Ratio((3, 1, 1, 1, 1, 2, 2, 1)), Ratio((3, 1, 1, 1, 1, 2, 1, 2)), Ratio((3, 1, 1, 1, 1, 2, 1, 1, 1)), Ratio((3, 1, 1, 1, 1, 1, 4)), Ratio((3, 1, 1, 1, 1, 1, 3, 1)), Ratio((3, 1, 1, 1, 1, 1, 2, 2)), Ratio((3, 1, 1, 1, 1, 1, 2, 1, 1)), Ratio((3, 1, 1, 1, 1, 1, 1, 3)), Ratio((3, 1, 1, 1, 1, 1, 1, 2, 1)), Ratio((3, 1, 1, 1, 1, 1, 1, 1, 2)), Ratio((3, 1, 1, 1, 1, 1, 1, 1, 1, 1)), Ratio((1, 5)), Ratio((2, 9, 1)), Ratio((1, 4, 1)), Ratio((2, 8, 1, 1)), Ratio((2, 7, 3)), Ratio((2, 7, 2, 1)), Ratio((2, 7, 1, 2)), Ratio((2, 7, 1, 1, 1)), Ratio((1, 3, 2)), Ratio((2, 6, 3, 1)), Ratio((1, 3, 1, 1)), Ratio((2, 6, 2, 1, 1)), Ratio((2, 6, 1, 3)), Ratio((2, 6, 1, 2, 1)), Ratio((2, 6, 1, 1, 2)), Ratio((2, 6, 1, 1, 1, 1)), Ratio((2, 5, 5)), Ratio((2, 5, 4, 1)), Ratio((2, 5, 3, 2)), Ratio((2, 5, 3, 1, 1)), Ratio((2, 5, 2, 3)), Ratio((2, 5, 2, 2, 1)), Ratio((2, 5, 2, 1, 2)), Ratio((2, 5, 2, 1, 1, 1)), Ratio((2, 5, 1, 4)), Ratio((2, 5, 1, 3, 1)), Ratio((2, 5, 1, 2, 2)), Ratio((2, 5, 1, 2, 1, 1)), Ratio((2, 5, 1, 1, 3)), Ratio((2, 5, 1, 1, 2, 1)), Ratio((2, 5, 1, 1, 1, 2)), Ratio((2, 5, 1, 1, 1, 1, 1)), Ratio((1, 2, 3)), Ratio((2, 4, 5, 1)), Ratio((1, 2, 2, 1)), Ratio((2, 4, 4, 1, 1)), Ratio((2, 4, 3, 3)), Ratio((2, 4, 3, 2, 1)), Ratio((2, 4, 3, 1, 2)), Ratio((2, 4, 3, 1, 1, 1)), Ratio((1, 2, 1, 2)), Ratio((2, 4, 2, 3, 1)), Ratio((1, 2, 1, 1, 1)), Ratio((2, 4, 2, 2, 1, 1)), Ratio((2, 4, 2, 1, 3)), Ratio((2, 4, 2, 1, 2, 1)), Ratio((2, 4, 2, 1, 1, 2)), Ratio((2, 4, 2, 1, 1, 1, 1)), Ratio((2, 4, 1, 5)), Ratio((2, 4, 1, 4, 1)), Ratio((2, 4, 1, 3, 2)), Ratio((2, 4, 1, 3, 1, 1)), Ratio((2, 4, 1, 2, 3)), Ratio((2, 4, 1, 2, 2, 1)), Ratio((2, 4, 1, 2, 1, 2)), Ratio((2, 4, 1, 2, 1, 1, 1)), Ratio((2, 4, 1, 1, 4)), Ratio((2, 4, 1, 1, 3, 1)), Ratio((2, 4, 1, 1, 2, 2)), Ratio((2, 4, 1, 1, 2, 1, 1)), Ratio((2, 4, 1, 1, 1, 3)), Ratio((2, 4, 1, 1, 1, 2, 1)), Ratio((2, 4, 1, 1, 1, 1, 2)), Ratio((2, 4, 1, 1, 1, 1, 1, 1)), Ratio((2, 3, 7)), Ratio((2, 3, 6, 1)), Ratio((2, 3, 5, 2)), Ratio((2, 3, 5, 1, 1)), Ratio((2, 3, 4, 3)), Ratio((2, 3, 4, 2, 1)), Ratio((2, 3, 4, 1, 2)), Ratio((2, 3, 4, 1, 1, 1)), Ratio((2, 3, 3, 4)), Ratio((2, 3, 3, 3, 1)), Ratio((2, 3, 3, 2, 2)), Ratio((2, 3, 3, 2, 1, 1)), Ratio((2, 3, 3, 1, 3)), Ratio((2, 3, 3, 1, 2, 1)), Ratio((2, 3, 3, 1, 1, 2)), Ratio((2, 3, 3, 1, 1, 1, 1)), Ratio((2, 3, 2, 5)), Ratio((2, 3, 2, 4, 1)), Ratio((2, 3, 2, 3, 2)), Ratio((2, 3, 2, 3, 1, 1)), Ratio((2, 3, 2, 2, 3)), Ratio((2, 3, 2, 2, 2, 1)), Ratio((2, 3, 2, 2, 1, 2)), Ratio((2, 3, 2, 2, 1, 1, 1)), Ratio((2, 3, 2, 1, 4)), Ratio((2, 3, 2, 1, 3, 1)), Ratio((2, 3, 2, 1, 2, 2)), Ratio((2, 3, 2, 1, 2, 1, 1)), Ratio((2, 3, 2, 1, 1, 3)), Ratio((2, 3, 2, 1, 1, 2, 1)), Ratio((2, 3, 2, 1, 1, 1, 2)), Ratio((2, 3, 2, 1, 1, 1, 1, 1)), Ratio((2, 3, 1, 6)), Ratio((2, 3, 1, 5, 1)), Ratio((2, 3, 1, 4, 2)), Ratio((2, 3, 1, 4, 1, 1)), Ratio((2, 3, 1, 3, 3)), Ratio((2, 3, 1, 3, 2, 1)), Ratio((2, 3, 1, 3, 1, 2)), Ratio((2, 3, 1, 3, 1, 1, 1)), Ratio((2, 3, 1, 2, 4)), Ratio((2, 3, 1, 2, 3, 1)), Ratio((2, 3, 1, 2, 2, 2)), Ratio((2, 3, 1, 2, 2, 1, 1)), Ratio((2, 3, 1, 2, 1, 3)), Ratio((2, 3, 1, 2, 1, 2, 1)), Ratio((2, 3, 1, 2, 1, 1, 2)), Ratio((2, 3, 1, 2, 1, 1, 1, 1)), Ratio((2, 3, 1, 1, 5)), Ratio((2, 3, 1, 1, 4, 1)), Ratio((2, 3, 1, 1, 3, 2)), Ratio((2, 3, 1, 1, 3, 1, 1)), Ratio((2, 3, 1, 1, 2, 3)), Ratio((2, 3, 1, 1, 2, 2, 1)), Ratio((2, 3, 1, 1, 2, 1, 2)), Ratio((2, 3, 1, 1, 2, 1, 1, 1)), Ratio((2, 3, 1, 1, 1, 4)), Ratio((2, 3, 1, 1, 1, 3, 1)), Ratio((2, 3, 1, 1, 1, 2, 2)), Ratio((2, 3, 1, 1, 1, 2, 1, 1)), Ratio((2, 3, 1, 1, 1, 1, 3)), Ratio((2, 3, 1, 1, 1, 1, 2, 1)), Ratio((2, 3, 1, 1, 1, 1, 1, 2)), Ratio((2, 3, 1, 1, 1, 1, 1, 1, 1)), Ratio((1, 1, 4)), Ratio((2, 2, 7, 1)), Ratio((1, 1, 3, 1)), Ratio((2, 2, 6, 1, 1)), Ratio((2, 2, 5, 3)), Ratio((2, 2, 5, 2, 1)), Ratio((2, 2, 5, 1, 2)), Ratio((2, 2, 5, 1, 1, 1)), Ratio((1, 1, 2, 2)), Ratio((2, 2, 4, 3, 1)), Ratio((1, 1, 2, 1, 1)), Ratio((2, 2, 4, 2, 1, 1)), Ratio((2, 2, 4, 1, 3)), Ratio((2, 2, 4, 1, 2, 1)), Ratio((2, 2, 4, 1, 1, 2)), Ratio((2, 2, 4, 1, 1, 1, 1)), Ratio((2, 2, 3, 5)), Ratio((2, 2, 3, 4, 1)), Ratio((2, 2, 3, 3, 2)), Ratio((2, 2, 3, 3, 1, 1)), Ratio((2, 2, 3, 2, 3)), Ratio((2, 2, 3, 2, 2, 1)), Ratio((2, 2, 3, 2, 1, 2)), Ratio((2, 2, 3, 2, 1, 1, 1)), Ratio((2, 2, 3, 1, 4)), Ratio((2, 2, 3, 1, 3, 1)), Ratio((2, 2, 3, 1, 2, 2)), Ratio((2, 2, 3, 1, 2, 1, 1)), Ratio((2, 2, 3, 1, 1, 3)), Ratio((2, 2, 3, 1, 1, 2, 1)), Ratio((2, 2, 3, 1, 1, 1, 2)), Ratio((2, 2, 3, 1, 1, 1, 1, 1)), Ratio((1, 1, 1, 3)), Ratio((2, 2, 2, 5, 1)), Ratio((1, 1, 1, 2, 1)), Ratio((2, 2, 2, 4, 1, 1)), Ratio((2, 2, 2, 3, 3)), Ratio((2, 2, 2, 3, 2, 1)), Ratio((2, 2, 2, 3, 1, 2)), Ratio((2, 2, 2, 3, 1, 1, 1)), Ratio((1, 1, 1, 1, 2)), Ratio((2, 2, 2, 2, 3, 1)), Ratio((1, 1, 1, 1, 1, 1)), Ratio((2, 2, 2, 2, 2, 1, 1)), Ratio((2, 2, 2, 2, 1, 3)), Ratio((2, 2, 2, 2, 1, 2, 1)), Ratio((2, 2, 2, 2, 1, 1, 2)), Ratio((2, 2, 2, 2, 1, 1, 1, 1)), Ratio((2, 2, 2, 1, 5)), Ratio((2, 2, 2, 1, 4, 1)), Ratio((2, 2, 2, 1, 3, 2)), Ratio((2, 2, 2, 1, 3, 1, 1)), Ratio((2, 2, 2, 1, 2, 3)), Ratio((2, 2, 2, 1, 2, 2, 1)), Ratio((2, 2, 2, 1, 2, 1, 2)), Ratio((2, 2, 2, 1, 2, 1, 1, 1)), Ratio((2, 2, 2, 1, 1, 4)), Ratio((2, 2, 2, 1, 1, 3, 1)), Ratio((2, 2, 2, 1, 1, 2, 2)), Ratio((2, 2, 2, 1, 1, 2, 1, 1)), Ratio((2, 2, 2, 1, 1, 1, 3)), Ratio((2, 2, 2, 1, 1, 1, 2, 1)), Ratio((2, 2, 2, 1, 1, 1, 1, 2)), Ratio((2, 2, 2, 1, 1, 1, 1, 1, 1)), Ratio((2, 2, 1, 7)), Ratio((2, 2, 1, 6, 1)), Ratio((2, 2, 1, 5, 2)), Ratio((2, 2, 1, 5, 1, 1)), Ratio((2, 2, 1, 4, 3)), Ratio((2, 2, 1, 4, 2, 1)), Ratio((2, 2, 1, 4, 1, 2)), Ratio((2, 2, 1, 4, 1, 1, 1)), Ratio((2, 2, 1, 3, 4)), Ratio((2, 2, 1, 3, 3, 1)), Ratio((2, 2, 1, 3, 2, 2)), Ratio((2, 2, 1, 3, 2, 1, 1)), Ratio((2, 2, 1, 3, 1, 3)), Ratio((2, 2, 1, 3, 1, 2, 1)), Ratio((2, 2, 1, 3, 1, 1, 2)), Ratio((2, 2, 1, 3, 1, 1, 1, 1)), Ratio((2, 2, 1, 2, 5)), Ratio((2, 2, 1, 2, 4, 1)), Ratio((2, 2, 1, 2, 3, 2)), Ratio((2, 2, 1, 2, 3, 1, 1)), Ratio((2, 2, 1, 2, 2, 3)), Ratio((2, 2, 1, 2, 2, 2, 1)), Ratio((2, 2, 1, 2, 2, 1, 2)), Ratio((2, 2, 1, 2, 2, 1, 1, 1)), Ratio((2, 2, 1, 2, 1, 4)), Ratio((2, 2, 1, 2, 1, 3, 1)), Ratio((2, 2, 1, 2, 1, 2, 2)), Ratio((2, 2, 1, 2, 1, 2, 1, 1)), Ratio((2, 2, 1, 2, 1, 1, 3)), Ratio((2, 2, 1, 2, 1, 1, 2, 1)), Ratio((2, 2, 1, 2, 1, 1, 1, 2)), Ratio((2, 2, 1, 2, 1, 1, 1, 1, 1)), Ratio((2, 2, 1, 1, 6)), Ratio((2, 2, 1, 1, 5, 1)), Ratio((2, 2, 1, 1, 4, 2)), Ratio((2, 2, 1, 1, 4, 1, 1)), Ratio((2, 2, 1, 1, 3, 3)), Ratio((2, 2, 1, 1, 3, 2, 1)), Ratio((2, 2, 1, 1, 3, 1, 2)), Ratio((2, 2, 1, 1, 3, 1, 1, 1)), Ratio((2, 2, 1, 1, 2, 4)), Ratio((2, 2, 1, 1, 2, 3, 1)), Ratio((2, 2, 1, 1, 2, 2, 2)), Ratio((2, 2, 1, 1, 2, 2, 1, 1)), Ratio((2, 2, 1, 1, 2, 1, 3)), Ratio((2, 2, 1, 1, 2, 1, 2, 1)), Ratio((2, 2, 1, 1, 2, 1, 1, 2)), Ratio((2, 2, 1, 1, 2, 1, 1, 1, 1)), Ratio((2, 2, 1, 1, 1, 5)), Ratio((2, 2, 1, 1, 1, 4, 1)), Ratio((2, 2, 1, 1, 1, 3, 2)), Ratio((2, 2, 1, 1, 1, 3, 1, 1)), Ratio((2, 2, 1, 1, 1, 2, 3)), Ratio((2, 2, 1, 1, 1, 2, 2, 1)), Ratio((2, 2, 1, 1, 1, 2, 1, 2)), Ratio((2, 2, 1, 1, 1, 2, 1, 1, 1)), Ratio((2, 2, 1, 1, 1, 1, 4)), Ratio((2, 2, 1, 1, 1, 1, 3, 1)), Ratio((2, 2, 1, 1, 1, 1, 2, 2)), Ratio((2, 2, 1, 1, 1, 1, 2, 1, 1)), Ratio((2, 2, 1, 1, 1, 1, 1, 3)), Ratio((2, 2, 1, 1, 1, 1, 1, 2, 1)), Ratio((2, 2, 1, 1, 1, 1, 1, 1, 2)), Ratio((2, 2, 1, 1, 1, 1, 1, 1, 1, 1)), Ratio((2, 1, 9)), Ratio((2, 1, 8, 1)), Ratio((2, 1, 7, 2)), Ratio((2, 1, 7, 1, 1)), Ratio((2, 1, 6, 3)), Ratio((2, 1, 6, 2, 1)), Ratio((2, 1, 6, 1, 2)), Ratio((2, 1, 6, 1, 1, 1)), Ratio((2, 1, 5, 4)), Ratio((2, 1, 5, 3, 1)), Ratio((2, 1, 5, 2, 2)), Ratio((2, 1, 5, 2, 1, 1)), Ratio((2, 1, 5, 1, 3)), Ratio((2, 1, 5, 1, 2, 1)), Ratio((2, 1, 5, 1, 1, 2)), Ratio((2, 1, 5, 1, 1, 1, 1)), Ratio((2, 1, 4, 5)), Ratio((2, 1, 4, 4, 1)), Ratio((2, 1, 4, 3, 2)), Ratio((2, 1, 4, 3, 1, 1)), Ratio((2, 1, 4, 2, 3)), Ratio((2, 1, 4, 2, 2, 1)), Ratio((2, 1, 4, 2, 1, 2)), Ratio((2, 1, 4, 2, 1, 1, 1)), Ratio((2, 1, 4, 1, 4)), Ratio((2, 1, 4, 1, 3, 1)), Ratio((2, 1, 4, 1, 2, 2)), Ratio((2, 1, 4, 1, 2, 1, 1)), Ratio((2, 1, 4, 1, 1, 3)), Ratio((2, 1, 4, 1, 1, 2, 1)), Ratio((2, 1, 4, 1, 1, 1, 2)), Ratio((2, 1, 4, 1, 1, 1, 1, 1)), Ratio((2, 1, 3, 6)), Ratio((2, 1, 3, 5, 1)), Ratio((2, 1, 3, 4, 2)), Ratio((2, 1, 3, 4, 1, 1)), Ratio((2, 1, 3, 3, 3)), Ratio((2, 1, 3, 3, 2, 1)), Ratio((2, 1, 3, 3, 1, 2)), Ratio((2, 1, 3, 3, 1, 1, 1)), Ratio((2, 1, 3, 2, 4)), Ratio((2, 1, 3, 2, 3, 1)), Ratio((2, 1, 3, 2, 2, 2)), Ratio((2, 1, 3, 2, 2, 1, 1)), Ratio((2, 1, 3, 2, 1, 3)), Ratio((2, 1, 3, 2, 1, 2, 1)), Ratio((2, 1, 3, 2, 1, 1, 2)), Ratio((2, 1, 3, 2, 1, 1, 1, 1)), Ratio((2, 1, 3, 1, 5)), Ratio((2, 1, 3, 1, 4, 1)), Ratio((2, 1, 3, 1, 3, 2)), Ratio((2, 1, 3, 1, 3, 1, 1)), Ratio((2, 1, 3, 1, 2, 3)), Ratio((2, 1, 3, 1, 2, 2, 1)), Ratio((2, 1, 3, 1, 2, 1, 2)), Ratio((2, 1, 3, 1, 2, 1, 1, 1)), Ratio((2, 1, 3, 1, 1, 4)), Ratio((2, 1, 3, 1, 1, 3, 1)), Ratio((2, 1, 3, 1, 1, 2, 2)), Ratio((2, 1, 3, 1, 1, 2, 1, 1)), Ratio((2, 1, 3, 1, 1, 1, 3)), Ratio((2, 1, 3, 1, 1, 1, 2, 1)), Ratio((2, 1, 3, 1, 1, 1, 1, 2)), Ratio((2, 1, 3, 1, 1, 1, 1, 1, 1)), Ratio((2, 1, 2, 7)), Ratio((2, 1, 2, 6, 1)), Ratio((2, 1, 2, 5, 2)), Ratio((2, 1, 2, 5, 1, 1)), Ratio((2, 1, 2, 4, 3)), Ratio((2, 1, 2, 4, 2, 1)), Ratio((2, 1, 2, 4, 1, 2)), Ratio((2, 1, 2, 4, 1, 1, 1)), Ratio((2, 1, 2, 3, 4)), Ratio((2, 1, 2, 3, 3, 1)), Ratio((2, 1, 2, 3, 2, 2)), Ratio((2, 1, 2, 3, 2, 1, 1)), Ratio((2, 1, 2, 3, 1, 3)), Ratio((2, 1, 2, 3, 1, 2, 1)), Ratio((2, 1, 2, 3, 1, 1, 2)), Ratio((2, 1, 2, 3, 1, 1, 1, 1)), Ratio((2, 1, 2, 2, 5)), Ratio((2, 1, 2, 2, 4, 1)), Ratio((2, 1, 2, 2, 3, 2)), Ratio((2, 1, 2, 2, 3, 1, 1)), Ratio((2, 1, 2, 2, 2, 3)), Ratio((2, 1, 2, 2, 2, 2, 1)), Ratio((2, 1, 2, 2, 2, 1, 2)), Ratio((2, 1, 2, 2, 2, 1, 1, 1)), Ratio((2, 1, 2, 2, 1, 4)), Ratio((2, 1, 2, 2, 1, 3, 1)), Ratio((2, 1, 2, 2, 1, 2, 2)), Ratio((2, 1, 2, 2, 1, 2, 1, 1)), Ratio((2, 1, 2, 2, 1, 1, 3)), Ratio((2, 1, 2, 2, 1, 1, 2, 1)), Ratio((2, 1, 2, 2, 1, 1, 1, 2)), Ratio((2, 1, 2, 2, 1, 1, 1, 1, 1)), Ratio((2, 1, 2, 1, 6)), Ratio((2, 1, 2, 1, 5, 1)), Ratio((2, 1, 2, 1, 4, 2)), Ratio((2, 1, 2, 1, 4, 1, 1)), Ratio((2, 1, 2, 1, 3, 3)), Ratio((2, 1, 2, 1, 3, 2, 1)), Ratio((2, 1, 2, 1, 3, 1, 2)), Ratio((2, 1, 2, 1, 3, 1, 1, 1)), Ratio((2, 1, 2, 1, 2, 4)), Ratio((2, 1, 2, 1, 2, 3, 1)), Ratio((2, 1, 2, 1, 2, 2, 2)), Ratio((2, 1, 2, 1, 2, 2, 1, 1)), Ratio((2, 1, 2, 1, 2, 1, 3)), Ratio((2, 1, 2, 1, 2, 1, 2, 1)), Ratio((2, 1, 2, 1, 2, 1, 1, 2)), Ratio((2, 1, 2, 1, 2, 1, 1, 1, 1)), Ratio((2, 1, 2, 1, 1, 5)), Ratio((2, 1, 2, 1, 1, 4, 1)), Ratio((2, 1, 2, 1, 1, 3, 2)), Ratio((2, 1, 2, 1, 1, 3, 1, 1)), Ratio((2, 1, 2, 1, 1, 2, 3)), Ratio((2, 1, 2, 1, 1, 2, 2, 1)), Ratio((2, 1, 2, 1, 1, 2, 1, 2)), Ratio((2, 1, 2, 1, 1, 2, 1, 1, 1)), Ratio((2, 1, 2, 1, 1, 1, 4)), Ratio((2, 1, 2, 1, 1, 1, 3, 1)), Ratio((2, 1, 2, 1, 1, 1, 2, 2)), Ratio((2, 1, 2, 1, 1, 1, 2, 1, 1)), Ratio((2, 1, 2, 1, 1, 1, 1, 3)), Ratio((2, 1, 2, 1, 1, 1, 1, 2, 1)), Ratio((2, 1, 2, 1, 1, 1, 1, 1, 2)), Ratio((2, 1, 2, 1, 1, 1, 1, 1, 1, 1)), Ratio((2, 1, 1, 8)), Ratio((2, 1, 1, 7, 1)), Ratio((2, 1, 1, 6, 2)), Ratio((2, 1, 1, 6, 1, 1)), Ratio((2, 1, 1, 5, 3)), Ratio((2, 1, 1, 5, 2, 1)), Ratio((2, 1, 1, 5, 1, 2)), Ratio((2, 1, 1, 5, 1, 1, 1)), Ratio((2, 1, 1, 4, 4)), Ratio((2, 1, 1, 4, 3, 1)), Ratio((2, 1, 1, 4, 2, 2)), Ratio((2, 1, 1, 4, 2, 1, 1)), Ratio((2, 1, 1, 4, 1, 3)), Ratio((2, 1, 1, 4, 1, 2, 1)), Ratio((2, 1, 1, 4, 1, 1, 2)), Ratio((2, 1, 1, 4, 1, 1, 1, 1)), Ratio((2, 1, 1, 3, 5)), Ratio((2, 1, 1, 3, 4, 1)), Ratio((2, 1, 1, 3, 3, 2)), Ratio((2, 1, 1, 3, 3, 1, 1)), Ratio((2, 1, 1, 3, 2, 3)), Ratio((2, 1, 1, 3, 2, 2, 1)), Ratio((2, 1, 1, 3, 2, 1, 2)), Ratio((2, 1, 1, 3, 2, 1, 1, 1)), Ratio((2, 1, 1, 3, 1, 4)), Ratio((2, 1, 1, 3, 1, 3, 1)), Ratio((2, 1, 1, 3, 1, 2, 2)), Ratio((2, 1, 1, 3, 1, 2, 1, 1)), Ratio((2, 1, 1, 3, 1, 1, 3)), Ratio((2, 1, 1, 3, 1, 1, 2, 1)), Ratio((2, 1, 1, 3, 1, 1, 1, 2)), Ratio((2, 1, 1, 3, 1, 1, 1, 1, 1)), Ratio((2, 1, 1, 2, 6)), Ratio((2, 1, 1, 2, 5, 1)), Ratio((2, 1, 1, 2, 4, 2)), Ratio((2, 1, 1, 2, 4, 1, 1)), Ratio((2, 1, 1, 2, 3, 3)), Ratio((2, 1, 1, 2, 3, 2, 1)), Ratio((2, 1, 1, 2, 3, 1, 2)), Ratio((2, 1, 1, 2, 3, 1, 1, 1)), Ratio((2, 1, 1, 2, 2, 4)), Ratio((2, 1, 1, 2, 2, 3, 1)), Ratio((2, 1, 1, 2, 2, 2, 2)), Ratio((2, 1, 1, 2, 2, 2, 1, 1)), Ratio((2, 1, 1, 2, 2, 1, 3)), Ratio((2, 1, 1, 2, 2, 1, 2, 1)), Ratio((2, 1, 1, 2, 2, 1, 1, 2)), Ratio((2, 1, 1, 2, 2, 1, 1, 1, 1)), Ratio((2, 1, 1, 2, 1, 5)), Ratio((2, 1, 1, 2, 1, 4, 1)), Ratio((2, 1, 1, 2, 1, 3, 2)), Ratio((2, 1, 1, 2, 1, 3, 1, 1)), Ratio((2, 1, 1, 2, 1, 2, 3)), Ratio((2, 1, 1, 2, 1, 2, 2, 1)), Ratio((2, 1, 1, 2, 1, 2, 1, 2)), Ratio((2, 1, 1, 2, 1, 2, 1, 1, 1)), Ratio((2, 1, 1, 2, 1, 1, 4)), Ratio((2, 1, 1, 2, 1, 1, 3, 1)), Ratio((2, 1, 1, 2, 1, 1, 2, 2)), Ratio((2, 1, 1, 2, 1, 1, 2, 1, 1)), Ratio((2, 1, 1, 2, 1, 1, 1, 3)), Ratio((2, 1, 1, 2, 1, 1, 1, 2, 1)), Ratio((2, 1, 1, 2, 1, 1, 1, 1, 2)), Ratio((2, 1, 1, 2, 1, 1, 1, 1, 1, 1)), Ratio((2, 1, 1, 1, 7)), Ratio((2, 1, 1, 1, 6, 1)), Ratio((2, 1, 1, 1, 5, 2)), Ratio((2, 1, 1, 1, 5, 1, 1)), Ratio((2, 1, 1, 1, 4, 3)), Ratio((2, 1, 1, 1, 4, 2, 1)), Ratio((2, 1, 1, 1, 4, 1, 2)), Ratio((2, 1, 1, 1, 4, 1, 1, 1)), Ratio((2, 1, 1, 1, 3, 4)), Ratio((2, 1, 1, 1, 3, 3, 1)), Ratio((2, 1, 1, 1, 3, 2, 2)), Ratio((2, 1, 1, 1, 3, 2, 1, 1)), Ratio((2, 1, 1, 1, 3, 1, 3)), Ratio((2, 1, 1, 1, 3, 1, 2, 1)), Ratio((2, 1, 1, 1, 3, 1, 1, 2)), Ratio((2, 1, 1, 1, 3, 1, 1, 1, 1)), Ratio((2, 1, 1, 1, 2, 5)), Ratio((2, 1, 1, 1, 2, 4, 1)), Ratio((2, 1, 1, 1, 2, 3, 2)), Ratio((2, 1, 1, 1, 2, 3, 1, 1)), Ratio((2, 1, 1, 1, 2, 2, 3)), Ratio((2, 1, 1, 1, 2, 2, 2, 1)), Ratio((2, 1, 1, 1, 2, 2, 1, 2)), Ratio((2, 1, 1, 1, 2, 2, 1, 1, 1)), Ratio((2, 1, 1, 1, 2, 1, 4)), Ratio((2, 1, 1, 1, 2, 1, 3, 1)), Ratio((2, 1, 1, 1, 2, 1, 2, 2)), Ratio((2, 1, 1, 1, 2, 1, 2, 1, 1)), Ratio((2, 1, 1, 1, 2, 1, 1, 3)), Ratio((2, 1, 1, 1, 2, 1, 1, 2, 1)), Ratio((2, 1, 1, 1, 2, 1, 1, 1, 2)), Ratio((2, 1, 1, 1, 2, 1, 1, 1, 1, 1)), Ratio((2, 1, 1, 1, 1, 6)), Ratio((2, 1, 1, 1, 1, 5, 1)), Ratio((2, 1, 1, 1, 1, 4, 2)), Ratio((2, 1, 1, 1, 1, 4, 1, 1)), Ratio((2, 1, 1, 1, 1, 3, 3)), Ratio((2, 1, 1, 1, 1, 3, 2, 1)), Ratio((2, 1, 1, 1, 1, 3, 1, 2)), Ratio((2, 1, 1, 1, 1, 3, 1, 1, 1)), Ratio((2, 1, 1, 1, 1, 2, 4)), Ratio((2, 1, 1, 1, 1, 2, 3, 1)), Ratio((2, 1, 1, 1, 1, 2, 2, 2)), Ratio((2, 1, 1, 1, 1, 2, 2, 1, 1)), Ratio((2, 1, 1, 1, 1, 2, 1, 3)), Ratio((2, 1, 1, 1, 1, 2, 1, 2, 1)), Ratio((2, 1, 1, 1, 1, 2, 1, 1, 2)), Ratio((2, 1, 1, 1, 1, 2, 1, 1, 1, 1)), Ratio((2, 1, 1, 1, 1, 1, 5)), Ratio((2, 1, 1, 1, 1, 1, 4, 1)), Ratio((2, 1, 1, 1, 1, 1, 3, 2)), Ratio((2, 1, 1, 1, 1, 1, 3, 1, 1)), Ratio((2, 1, 1, 1, 1, 1, 2, 3)), Ratio((2, 1, 1, 1, 1, 1, 2, 2, 1)), Ratio((2, 1, 1, 1, 1, 1, 2, 1, 2)), Ratio((2, 1, 1, 1, 1, 1, 2, 1, 1, 1)), Ratio((2, 1, 1, 1, 1, 1, 1, 4)), Ratio((2, 1, 1, 1, 1, 1, 1, 3, 1)), Ratio((2, 1, 1, 1, 1, 1, 1, 2, 2)), Ratio((2, 1, 1, 1, 1, 1, 1, 2, 1, 1)), Ratio((2, 1, 1, 1, 1, 1, 1, 1, 3)), Ratio((2, 1, 1, 1, 1, 1, 1, 1, 2, 1)), Ratio((2, 1, 1, 1, 1, 1, 1, 1, 1, 2)), Ratio((2, 1, 1, 1, 1, 1, 1, 1, 1, 1, 1)), Ratio((1, 11)), Ratio((1, 10, 1)), Ratio((1, 9, 2)), Ratio((1, 9, 1, 1)), Ratio((1, 8, 3)), Ratio((1, 8, 2, 1)), Ratio((1, 8, 1, 2)), Ratio((1, 8, 1, 1, 1)), Ratio((1, 7, 4)), Ratio((1, 7, 3, 1)), Ratio((1, 7, 2, 2)), Ratio((1, 7, 2, 1, 1)), Ratio((1, 7, 1, 3)), Ratio((1, 7, 1, 2, 1)), Ratio((1, 7, 1, 1, 2)), Ratio((1, 7, 1, 1, 1, 1)), Ratio((1, 6, 5)), Ratio((1, 6, 4, 1)), Ratio((1, 6, 3, 2)), Ratio((1, 6, 3, 1, 1)), Ratio((1, 6, 2, 3)), Ratio((1, 6, 2, 2, 1)), Ratio((1, 6, 2, 1, 2)), Ratio((1, 6, 2, 1, 1, 1)), Ratio((1, 6, 1, 4)), Ratio((1, 6, 1, 3, 1)), Ratio((1, 6, 1, 2, 2)), Ratio((1, 6, 1, 2, 1, 1)), Ratio((1, 6, 1, 1, 3)), Ratio((1, 6, 1, 1, 2, 1)), Ratio((1, 6, 1, 1, 1, 2)), Ratio((1, 6, 1, 1, 1, 1, 1)), Ratio((1, 5, 6)), Ratio((1, 5, 5, 1)), Ratio((1, 5, 4, 2)), Ratio((1, 5, 4, 1, 1)), Ratio((1, 5, 3, 3)), Ratio((1, 5, 3, 2, 1)), Ratio((1, 5, 3, 1, 2)), Ratio((1, 5, 3, 1, 1, 1)), Ratio((1, 5, 2, 4)), Ratio((1, 5, 2, 3, 1)), Ratio((1, 5, 2, 2, 2)), Ratio((1, 5, 2, 2, 1, 1)), Ratio((1, 5, 2, 1, 3)), Ratio((1, 5, 2, 1, 2, 1)), Ratio((1, 5, 2, 1, 1, 2)), Ratio((1, 5, 2, 1, 1, 1, 1)), Ratio((1, 5, 1, 5)), Ratio((1, 5, 1, 4, 1)), Ratio((1, 5, 1, 3, 2)), Ratio((1, 5, 1, 3, 1, 1)), Ratio((1, 5, 1, 2, 3)), Ratio((1, 5, 1, 2, 2, 1)), Ratio((1, 5, 1, 2, 1, 2)), Ratio((1, 5, 1, 2, 1, 1, 1)), Ratio((1, 5, 1, 1, 4)), Ratio((1, 5, 1, 1, 3, 1)), Ratio((1, 5, 1, 1, 2, 2)), Ratio((1, 5, 1, 1, 2, 1, 1)), Ratio((1, 5, 1, 1, 1, 3)), Ratio((1, 5, 1, 1, 1, 2, 1)), Ratio((1, 5, 1, 1, 1, 1, 2)), Ratio((1, 5, 1, 1, 1, 1, 1, 1)), Ratio((1, 4, 7)), Ratio((1, 4, 6, 1)), Ratio((1, 4, 5, 2)), Ratio((1, 4, 5, 1, 1)), Ratio((1, 4, 4, 3)), Ratio((1, 4, 4, 2, 1)), Ratio((1, 4, 4, 1, 2)), Ratio((1, 4, 4, 1, 1, 1)), Ratio((1, 4, 3, 4)), Ratio((1, 4, 3, 3, 1)), Ratio((1, 4, 3, 2, 2)), Ratio((1, 4, 3, 2, 1, 1)), Ratio((1, 4, 3, 1, 3)), Ratio((1, 4, 3, 1, 2, 1)), Ratio((1, 4, 3, 1, 1, 2)), Ratio((1, 4, 3, 1, 1, 1, 1)), Ratio((1, 4, 2, 5)), Ratio((1, 4, 2, 4, 1)), Ratio((1, 4, 2, 3, 2)), Ratio((1, 4, 2, 3, 1, 1)), Ratio((1, 4, 2, 2, 3)), Ratio((1, 4, 2, 2, 2, 1)), Ratio((1, 4, 2, 2, 1, 2)), Ratio((1, 4, 2, 2, 1, 1, 1)), Ratio((1, 4, 2, 1, 4)), Ratio((1, 4, 2, 1, 3, 1)), Ratio((1, 4, 2, 1, 2, 2)), Ratio((1, 4, 2, 1, 2, 1, 1)), Ratio((1, 4, 2, 1, 1, 3)), Ratio((1, 4, 2, 1, 1, 2, 1)), Ratio((1, 4, 2, 1, 1, 1, 2)), Ratio((1, 4, 2, 1, 1, 1, 1, 1)), Ratio((1, 4, 1, 6)), Ratio((1, 4, 1, 5, 1)), Ratio((1, 4, 1, 4, 2)), Ratio((1, 4, 1, 4, 1, 1)), Ratio((1, 4, 1, 3, 3)), Ratio((1, 4, 1, 3, 2, 1)), Ratio((1, 4, 1, 3, 1, 2)), Ratio((1, 4, 1, 3, 1, 1, 1)), Ratio((1, 4, 1, 2, 4)), Ratio((1, 4, 1, 2, 3, 1)), Ratio((1, 4, 1, 2, 2, 2)), Ratio((1, 4, 1, 2, 2, 1, 1)), Ratio((1, 4, 1, 2, 1, 3)), Ratio((1, 4, 1, 2, 1, 2, 1)), Ratio((1, 4, 1, 2, 1, 1, 2)), Ratio((1, 4, 1, 2, 1, 1, 1, 1)), Ratio((1, 4, 1, 1, 5)), Ratio((1, 4, 1, 1, 4, 1)), Ratio((1, 4, 1, 1, 3, 2)), Ratio((1, 4, 1, 1, 3, 1, 1)), Ratio((1, 4, 1, 1, 2, 3)), Ratio((1, 4, 1, 1, 2, 2, 1)), Ratio((1, 4, 1, 1, 2, 1, 2)), Ratio((1, 4, 1, 1, 2, 1, 1, 1)), Ratio((1, 4, 1, 1, 1, 4)), Ratio((1, 4, 1, 1, 1, 3, 1)), Ratio((1, 4, 1, 1, 1, 2, 2)), Ratio((1, 4, 1, 1, 1, 2, 1, 1)), Ratio((1, 4, 1, 1, 1, 1, 3)), Ratio((1, 4, 1, 1, 1, 1, 2, 1)), Ratio((1, 4, 1, 1, 1, 1, 1, 2)), Ratio((1, 4, 1, 1, 1, 1, 1, 1, 1)), Ratio((1, 3, 8)), Ratio((1, 3, 7, 1)), Ratio((1, 3, 6, 2)), Ratio((1, 3, 6, 1, 1)), Ratio((1, 3, 5, 3)), Ratio((1, 3, 5, 2, 1)), Ratio((1, 3, 5, 1, 2)), Ratio((1, 3, 5, 1, 1, 1)), Ratio((1, 3, 4, 4)), Ratio((1, 3, 4, 3, 1)), Ratio((1, 3, 4, 2, 2)), Ratio((1, 3, 4, 2, 1, 1)), Ratio((1, 3, 4, 1, 3)), Ratio((1, 3, 4, 1, 2, 1)), Ratio((1, 3, 4, 1, 1, 2)), Ratio((1, 3, 4, 1, 1, 1, 1)), Ratio((1, 3, 3, 5)), Ratio((1, 3, 3, 4, 1)), Ratio((1, 3, 3, 3, 2)), Ratio((1, 3, 3, 3, 1, 1)), Ratio((1, 3, 3, 2, 3)), Ratio((1, 3, 3, 2, 2, 1)), Ratio((1, 3, 3, 2, 1, 2)), Ratio((1, 3, 3, 2, 1, 1, 1)), Ratio((1, 3, 3, 1, 4)), Ratio((1, 3, 3, 1, 3, 1)), Ratio((1, 3, 3, 1, 2, 2)), Ratio((1, 3, 3, 1, 2, 1, 1)), Ratio((1, 3, 3, 1, 1, 3)), Ratio((1, 3, 3, 1, 1, 2, 1)), Ratio((1, 3, 3, 1, 1, 1, 2)), Ratio((1, 3, 3, 1, 1, 1, 1, 1)), Ratio((1, 3, 2, 6)), Ratio((1, 3, 2, 5, 1)), Ratio((1, 3, 2, 4, 2)), Ratio((1, 3, 2, 4, 1, 1)), Ratio((1, 3, 2, 3, 3)), Ratio((1, 3, 2, 3, 2, 1)), Ratio((1, 3, 2, 3, 1, 2)), Ratio((1, 3, 2, 3, 1, 1, 1)), Ratio((1, 3, 2, 2, 4)), Ratio((1, 3, 2, 2, 3, 1)), Ratio((1, 3, 2, 2, 2, 2)), Ratio((1, 3, 2, 2, 2, 1, 1)), Ratio((1, 3, 2, 2, 1, 3)), Ratio((1, 3, 2, 2, 1, 2, 1)), Ratio((1, 3, 2, 2, 1, 1, 2)), Ratio((1, 3, 2, 2, 1, 1, 1, 1)), Ratio((1, 3, 2, 1, 5)), Ratio((1, 3, 2, 1, 4, 1)), Ratio((1, 3, 2, 1, 3, 2)), Ratio((1, 3, 2, 1, 3, 1, 1)), Ratio((1, 3, 2, 1, 2, 3)), Ratio((1, 3, 2, 1, 2, 2, 1)), Ratio((1, 3, 2, 1, 2, 1, 2)), Ratio((1, 3, 2, 1, 2, 1, 1, 1)), Ratio((1, 3, 2, 1, 1, 4)), Ratio((1, 3, 2, 1, 1, 3, 1)), Ratio((1, 3, 2, 1, 1, 2, 2)), Ratio((1, 3, 2, 1, 1, 2, 1, 1)), Ratio((1, 3, 2, 1, 1, 1, 3)), Ratio((1, 3, 2, 1, 1, 1, 2, 1)), Ratio((1, 3, 2, 1, 1, 1, 1, 2)), Ratio((1, 3, 2, 1, 1, 1, 1, 1, 1)), Ratio((1, 3, 1, 7)), Ratio((1, 3, 1, 6, 1)), Ratio((1, 3, 1, 5, 2)), Ratio((1, 3, 1, 5, 1, 1)), Ratio((1, 3, 1, 4, 3)), Ratio((1, 3, 1, 4, 2, 1)), Ratio((1, 3, 1, 4, 1, 2)), Ratio((1, 3, 1, 4, 1, 1, 1)), Ratio((1, 3, 1, 3, 4)), Ratio((1, 3, 1, 3, 3, 1)), Ratio((1, 3, 1, 3, 2, 2)), Ratio((1, 3, 1, 3, 2, 1, 1)), Ratio((1, 3, 1, 3, 1, 3)), Ratio((1, 3, 1, 3, 1, 2, 1)), Ratio((1, 3, 1, 3, 1, 1, 2)), Ratio((1, 3, 1, 3, 1, 1, 1, 1)), Ratio((1, 3, 1, 2, 5)), Ratio((1, 3, 1, 2, 4, 1)), Ratio((1, 3, 1, 2, 3, 2)), Ratio((1, 3, 1, 2, 3, 1, 1)), Ratio((1, 3, 1, 2, 2, 3)), Ratio((1, 3, 1, 2, 2, 2, 1)), Ratio((1, 3, 1, 2, 2, 1, 2)), Ratio((1, 3, 1, 2, 2, 1, 1, 1)), Ratio((1, 3, 1, 2, 1, 4)), Ratio((1, 3, 1, 2, 1, 3, 1)), Ratio((1, 3, 1, 2, 1, 2, 2)), Ratio((1, 3, 1, 2, 1, 2, 1, 1)), Ratio((1, 3, 1, 2, 1, 1, 3)), Ratio((1, 3, 1, 2, 1, 1, 2, 1)), Ratio((1, 3, 1, 2, 1, 1, 1, 2)), Ratio((1, 3, 1, 2, 1, 1, 1, 1, 1)), Ratio((1, 3, 1, 1, 6)), Ratio((1, 3, 1, 1, 5, 1)), Ratio((1, 3, 1, 1, 4, 2)), Ratio((1, 3, 1, 1, 4, 1, 1)), Ratio((1, 3, 1, 1, 3, 3)), Ratio((1, 3, 1, 1, 3, 2, 1)), Ratio((1, 3, 1, 1, 3, 1, 2)), Ratio((1, 3, 1, 1, 3, 1, 1, 1)), Ratio((1, 3, 1, 1, 2, 4)), Ratio((1, 3, 1, 1, 2, 3, 1)), Ratio((1, 3, 1, 1, 2, 2, 2)), Ratio((1, 3, 1, 1, 2, 2, 1, 1)), Ratio((1, 3, 1, 1, 2, 1, 3)), Ratio((1, 3, 1, 1, 2, 1, 2, 1)), Ratio((1, 3, 1, 1, 2, 1, 1, 2)), Ratio((1, 3, 1, 1, 2, 1, 1, 1, 1)), Ratio((1, 3, 1, 1, 1, 5)), Ratio((1, 3, 1, 1, 1, 4, 1)), Ratio((1, 3, 1, 1, 1, 3, 2)), Ratio((1, 3, 1, 1, 1, 3, 1, 1)), Ratio((1, 3, 1, 1, 1, 2, 3)), Ratio((1, 3, 1, 1, 1, 2, 2, 1)), Ratio((1, 3, 1, 1, 1, 2, 1, 2)), Ratio((1, 3, 1, 1, 1, 2, 1, 1, 1)), Ratio((1, 3, 1, 1, 1, 1, 4)), Ratio((1, 3, 1, 1, 1, 1, 3, 1)), Ratio((1, 3, 1, 1, 1, 1, 2, 2)), Ratio((1, 3, 1, 1, 1, 1, 2, 1, 1)), Ratio((1, 3, 1, 1, 1, 1, 1, 3)), Ratio((1, 3, 1, 1, 1, 1, 1, 2, 1)), Ratio((1, 3, 1, 1, 1, 1, 1, 1, 2)), Ratio((1, 3, 1, 1, 1, 1, 1, 1, 1, 1)), Ratio((1, 2, 9)), Ratio((1, 2, 8, 1)), Ratio((1, 2, 7, 2)), Ratio((1, 2, 7, 1, 1)), Ratio((1, 2, 6, 3)), Ratio((1, 2, 6, 2, 1)), Ratio((1, 2, 6, 1, 2)), Ratio((1, 2, 6, 1, 1, 1)), Ratio((1, 2, 5, 4)), Ratio((1, 2, 5, 3, 1)), Ratio((1, 2, 5, 2, 2)), Ratio((1, 2, 5, 2, 1, 1)), Ratio((1, 2, 5, 1, 3)), Ratio((1, 2, 5, 1, 2, 1)), Ratio((1, 2, 5, 1, 1, 2)), Ratio((1, 2, 5, 1, 1, 1, 1)), Ratio((1, 2, 4, 5)), Ratio((1, 2, 4, 4, 1)), Ratio((1, 2, 4, 3, 2)), Ratio((1, 2, 4, 3, 1, 1)), Ratio((1, 2, 4, 2, 3)), Ratio((1, 2, 4, 2, 2, 1)), Ratio((1, 2, 4, 2, 1, 2)), Ratio((1, 2, 4, 2, 1, 1, 1)), Ratio((1, 2, 4, 1, 4)), Ratio((1, 2, 4, 1, 3, 1)), Ratio((1, 2, 4, 1, 2, 2)), Ratio((1, 2, 4, 1, 2, 1, 1)), Ratio((1, 2, 4, 1, 1, 3)), Ratio((1, 2, 4, 1, 1, 2, 1)), Ratio((1, 2, 4, 1, 1, 1, 2)), Ratio((1, 2, 4, 1, 1, 1, 1, 1)), Ratio((1, 2, 3, 6)), Ratio((1, 2, 3, 5, 1)), Ratio((1, 2, 3, 4, 2)), Ratio((1, 2, 3, 4, 1, 1)), Ratio((1, 2, 3, 3, 3)), Ratio((1, 2, 3, 3, 2, 1)), Ratio((1, 2, 3, 3, 1, 2)), Ratio((1, 2, 3, 3, 1, 1, 1)), Ratio((1, 2, 3, 2, 4)), Ratio((1, 2, 3, 2, 3, 1)), Ratio((1, 2, 3, 2, 2, 2)), Ratio((1, 2, 3, 2, 2, 1, 1)), Ratio((1, 2, 3, 2, 1, 3)), Ratio((1, 2, 3, 2, 1, 2, 1)), Ratio((1, 2, 3, 2, 1, 1, 2)), Ratio((1, 2, 3, 2, 1, 1, 1, 1)), Ratio((1, 2, 3, 1, 5)), Ratio((1, 2, 3, 1, 4, 1)), Ratio((1, 2, 3, 1, 3, 2)), Ratio((1, 2, 3, 1, 3, 1, 1)), Ratio((1, 2, 3, 1, 2, 3)), Ratio((1, 2, 3, 1, 2, 2, 1)), Ratio((1, 2, 3, 1, 2, 1, 2)), Ratio((1, 2, 3, 1, 2, 1, 1, 1)), Ratio((1, 2, 3, 1, 1, 4)), Ratio((1, 2, 3, 1, 1, 3, 1)), Ratio((1, 2, 3, 1, 1, 2, 2)), Ratio((1, 2, 3, 1, 1, 2, 1, 1)), Ratio((1, 2, 3, 1, 1, 1, 3)), Ratio((1, 2, 3, 1, 1, 1, 2, 1)), Ratio((1, 2, 3, 1, 1, 1, 1, 2)), Ratio((1, 2, 3, 1, 1, 1, 1, 1, 1)), Ratio((1, 2, 2, 7)), Ratio((1, 2, 2, 6, 1)), Ratio((1, 2, 2, 5, 2)), Ratio((1, 2, 2, 5, 1, 1)), Ratio((1, 2, 2, 4, 3)), Ratio((1, 2, 2, 4, 2, 1)), Ratio((1, 2, 2, 4, 1, 2)), Ratio((1, 2, 2, 4, 1, 1, 1)), Ratio((1, 2, 2, 3, 4)), Ratio((1, 2, 2, 3, 3, 1)), Ratio((1, 2, 2, 3, 2, 2)), Ratio((1, 2, 2, 3, 2, 1, 1)), Ratio((1, 2, 2, 3, 1, 3)), Ratio((1, 2, 2, 3, 1, 2, 1)), Ratio((1, 2, 2, 3, 1, 1, 2)), Ratio((1, 2, 2, 3, 1, 1, 1, 1)), Ratio((1, 2, 2, 2, 5)), Ratio((1, 2, 2, 2, 4, 1)), Ratio((1, 2, 2, 2, 3, 2)), Ratio((1, 2, 2, 2, 3, 1, 1)), Ratio((1, 2, 2, 2, 2, 3)), Ratio((1, 2, 2, 2, 2, 2, 1)), Ratio((1, 2, 2, 2, 2, 1, 2)), Ratio((1, 2, 2, 2, 2, 1, 1, 1)), Ratio((1, 2, 2, 2, 1, 4)), Ratio((1, 2, 2, 2, 1, 3, 1)), Ratio((1, 2, 2, 2, 1, 2, 2)), Ratio((1, 2, 2, 2, 1, 2, 1, 1)), Ratio((1, 2, 2, 2, 1, 1, 3)), Ratio((1, 2, 2, 2, 1, 1, 2, 1)), Ratio((1, 2, 2, 2, 1, 1, 1, 2)), Ratio((1, 2, 2, 2, 1, 1, 1, 1, 1)), Ratio((1, 2, 2, 1, 6)), Ratio((1, 2, 2, 1, 5, 1)), Ratio((1, 2, 2, 1, 4, 2)), Ratio((1, 2, 2, 1, 4, 1, 1)), Ratio((1, 2, 2, 1, 3, 3)), Ratio((1, 2, 2, 1, 3, 2, 1)), Ratio((1, 2, 2, 1, 3, 1, 2)), Ratio((1, 2, 2, 1, 3, 1, 1, 1)), Ratio((1, 2, 2, 1, 2, 4)), Ratio((1, 2, 2, 1, 2, 3, 1)), Ratio((1, 2, 2, 1, 2, 2, 2)), Ratio((1, 2, 2, 1, 2, 2, 1, 1)), Ratio((1, 2, 2, 1, 2, 1, 3)), Ratio((1, 2, 2, 1, 2, 1, 2, 1)), Ratio((1, 2, 2, 1, 2, 1, 1, 2)), Ratio((1, 2, 2, 1, 2, 1, 1, 1, 1)), Ratio((1, 2, 2, 1, 1, 5)), Ratio((1, 2, 2, 1, 1, 4, 1)), Ratio((1, 2, 2, 1, 1, 3, 2)), Ratio((1, 2, 2, 1, 1, 3, 1, 1)), Ratio((1, 2, 2, 1, 1, 2, 3)), Ratio((1, 2, 2, 1, 1, 2, 2, 1)), Ratio((1, 2, 2, 1, 1, 2, 1, 2)), Ratio((1, 2, 2, 1, 1, 2, 1, 1, 1)), Ratio((1, 2, 2, 1, 1, 1, 4)), Ratio((1, 2, 2, 1, 1, 1, 3, 1)), Ratio((1, 2, 2, 1, 1, 1, 2, 2)), Ratio((1, 2, 2, 1, 1, 1, 2, 1, 1)), Ratio((1, 2, 2, 1, 1, 1, 1, 3)), Ratio((1, 2, 2, 1, 1, 1, 1, 2, 1)), Ratio((1, 2, 2, 1, 1, 1, 1, 1, 2)), Ratio((1, 2, 2, 1, 1, 1, 1, 1, 1, 1)), Ratio((1, 2, 1, 8)), Ratio((1, 2, 1, 7, 1)), Ratio((1, 2, 1, 6, 2)), Ratio((1, 2, 1, 6, 1, 1)), Ratio((1, 2, 1, 5, 3)), Ratio((1, 2, 1, 5, 2, 1)), Ratio((1, 2, 1, 5, 1, 2)), Ratio((1, 2, 1, 5, 1, 1, 1)), Ratio((1, 2, 1, 4, 4)), Ratio((1, 2, 1, 4, 3, 1)), Ratio((1, 2, 1, 4, 2, 2)), Ratio((1, 2, 1, 4, 2, 1, 1)), Ratio((1, 2, 1, 4, 1, 3)), Ratio((1, 2, 1, 4, 1, 2, 1)), Ratio((1, 2, 1, 4, 1, 1, 2)), Ratio((1, 2, 1, 4, 1, 1, 1, 1)), Ratio((1, 2, 1, 3, 5)), Ratio((1, 2, 1, 3, 4, 1)), Ratio((1, 2, 1, 3, 3, 2)), Ratio((1, 2, 1, 3, 3, 1, 1)), Ratio((1, 2, 1, 3, 2, 3)), Ratio((1, 2, 1, 3, 2, 2, 1)), Ratio((1, 2, 1, 3, 2, 1, 2)), Ratio((1, 2, 1, 3, 2, 1, 1, 1)), Ratio((1, 2, 1, 3, 1, 4)), Ratio((1, 2, 1, 3, 1, 3, 1)), Ratio((1, 2, 1, 3, 1, 2, 2)), Ratio((1, 2, 1, 3, 1, 2, 1, 1)), Ratio((1, 2, 1, 3, 1, 1, 3)), Ratio((1, 2, 1, 3, 1, 1, 2, 1)), Ratio((1, 2, 1, 3, 1, 1, 1, 2)), Ratio((1, 2, 1, 3, 1, 1, 1, 1, 1)), Ratio((1, 2, 1, 2, 6)), Ratio((1, 2, 1, 2, 5, 1)), Ratio((1, 2, 1, 2, 4, 2)), Ratio((1, 2, 1, 2, 4, 1, 1)), Ratio((1, 2, 1, 2, 3, 3)), Ratio((1, 2, 1, 2, 3, 2, 1)), Ratio((1, 2, 1, 2, 3, 1, 2)), Ratio((1, 2, 1, 2, 3, 1, 1, 1)), Ratio((1, 2, 1, 2, 2, 4)), Ratio((1, 2, 1, 2, 2, 3, 1)), Ratio((1, 2, 1, 2, 2, 2, 2)), Ratio((1, 2, 1, 2, 2, 2, 1, 1)), Ratio((1, 2, 1, 2, 2, 1, 3)), Ratio((1, 2, 1, 2, 2, 1, 2, 1)), Ratio((1, 2, 1, 2, 2, 1, 1, 2)), Ratio((1, 2, 1, 2, 2, 1, 1, 1, 1)), Ratio((1, 2, 1, 2, 1, 5)), Ratio((1, 2, 1, 2, 1, 4, 1)), Ratio((1, 2, 1, 2, 1, 3, 2)), Ratio((1, 2, 1, 2, 1, 3, 1, 1)), Ratio((1, 2, 1, 2, 1, 2, 3)), Ratio((1, 2, 1, 2, 1, 2, 2, 1)), Ratio((1, 2, 1, 2, 1, 2, 1, 2)), Ratio((1, 2, 1, 2, 1, 2, 1, 1, 1)), Ratio((1, 2, 1, 2, 1, 1, 4)), Ratio((1, 2, 1, 2, 1, 1, 3, 1)), Ratio((1, 2, 1, 2, 1, 1, 2, 2)), Ratio((1, 2, 1, 2, 1, 1, 2, 1, 1)), Ratio((1, 2, 1, 2, 1, 1, 1, 3)), Ratio((1, 2, 1, 2, 1, 1, 1, 2, 1)), Ratio((1, 2, 1, 2, 1, 1, 1, 1, 2)), Ratio((1, 2, 1, 2, 1, 1, 1, 1, 1, 1)), Ratio((1, 2, 1, 1, 7)), Ratio((1, 2, 1, 1, 6, 1)), Ratio((1, 2, 1, 1, 5, 2)), Ratio((1, 2, 1, 1, 5, 1, 1)), Ratio((1, 2, 1, 1, 4, 3)), Ratio((1, 2, 1, 1, 4, 2, 1)), Ratio((1, 2, 1, 1, 4, 1, 2)), Ratio((1, 2, 1, 1, 4, 1, 1, 1)), Ratio((1, 2, 1, 1, 3, 4)), Ratio((1, 2, 1, 1, 3, 3, 1)), Ratio((1, 2, 1, 1, 3, 2, 2)), Ratio((1, 2, 1, 1, 3, 2, 1, 1)), Ratio((1, 2, 1, 1, 3, 1, 3)), Ratio((1, 2, 1, 1, 3, 1, 2, 1)), Ratio((1, 2, 1, 1, 3, 1, 1, 2)), Ratio((1, 2, 1, 1, 3, 1, 1, 1, 1)), Ratio((1, 2, 1, 1, 2, 5)), Ratio((1, 2, 1, 1, 2, 4, 1)), Ratio((1, 2, 1, 1, 2, 3, 2)), Ratio((1, 2, 1, 1, 2, 3, 1, 1)), Ratio((1, 2, 1, 1, 2, 2, 3)), Ratio((1, 2, 1, 1, 2, 2, 2, 1)), Ratio((1, 2, 1, 1, 2, 2, 1, 2)), Ratio((1, 2, 1, 1, 2, 2, 1, 1, 1)), Ratio((1, 2, 1, 1, 2, 1, 4)), Ratio((1, 2, 1, 1, 2, 1, 3, 1)), Ratio((1, 2, 1, 1, 2, 1, 2, 2)), Ratio((1, 2, 1, 1, 2, 1, 2, 1, 1)), Ratio((1, 2, 1, 1, 2, 1, 1, 3)), Ratio((1, 2, 1, 1, 2, 1, 1, 2, 1)), Ratio((1, 2, 1, 1, 2, 1, 1, 1, 2)), Ratio((1, 2, 1, 1, 2, 1, 1, 1, 1, 1)), Ratio((1, 2, 1, 1, 1, 6)), Ratio((1, 2, 1, 1, 1, 5, 1)), Ratio((1, 2, 1, 1, 1, 4, 2)), Ratio((1, 2, 1, 1, 1, 4, 1, 1)), Ratio((1, 2, 1, 1, 1, 3, 3)), Ratio((1, 2, 1, 1, 1, 3, 2, 1)), Ratio((1, 2, 1, 1, 1, 3, 1, 2)), Ratio((1, 2, 1, 1, 1, 3, 1, 1, 1)), Ratio((1, 2, 1, 1, 1, 2, 4)), Ratio((1, 2, 1, 1, 1, 2, 3, 1)), Ratio((1, 2, 1, 1, 1, 2, 2, 2)), Ratio((1, 2, 1, 1, 1, 2, 2, 1, 1)), Ratio((1, 2, 1, 1, 1, 2, 1, 3)), Ratio((1, 2, 1, 1, 1, 2, 1, 2, 1)), Ratio((1, 2, 1, 1, 1, 2, 1, 1, 2)), Ratio((1, 2, 1, 1, 1, 2, 1, 1, 1, 1)), Ratio((1, 2, 1, 1, 1, 1, 5)), Ratio((1, 2, 1, 1, 1, 1, 4, 1)), Ratio((1, 2, 1, 1, 1, 1, 3, 2)), Ratio((1, 2, 1, 1, 1, 1, 3, 1, 1)), Ratio((1, 2, 1, 1, 1, 1, 2, 3)), Ratio((1, 2, 1, 1, 1, 1, 2, 2, 1)), Ratio((1, 2, 1, 1, 1, 1, 2, 1, 2)), Ratio((1, 2, 1, 1, 1, 1, 2, 1, 1, 1)), Ratio((1, 2, 1, 1, 1, 1, 1, 4)), Ratio((1, 2, 1, 1, 1, 1, 1, 3, 1)), Ratio((1, 2, 1, 1, 1, 1, 1, 2, 2)), Ratio((1, 2, 1, 1, 1, 1, 1, 2, 1, 1)), Ratio((1, 2, 1, 1, 1, 1, 1, 1, 3)), Ratio((1, 2, 1, 1, 1, 1, 1, 1, 2, 1)), Ratio((1, 2, 1, 1, 1, 1, 1, 1, 1, 2)), Ratio((1, 2, 1, 1, 1, 1, 1, 1, 1, 1, 1)), Ratio((1, 1, 10)), Ratio((1, 1, 9, 1)), Ratio((1, 1, 8, 2)), Ratio((1, 1, 8, 1, 1)), Ratio((1, 1, 7, 3)), Ratio((1, 1, 7, 2, 1)), Ratio((1, 1, 7, 1, 2)), Ratio((1, 1, 7, 1, 1, 1)), Ratio((1, 1, 6, 4)), Ratio((1, 1, 6, 3, 1)), Ratio((1, 1, 6, 2, 2)), Ratio((1, 1, 6, 2, 1, 1)), Ratio((1, 1, 6, 1, 3)), Ratio((1, 1, 6, 1, 2, 1)), Ratio((1, 1, 6, 1, 1, 2)), Ratio((1, 1, 6, 1, 1, 1, 1)), Ratio((1, 1, 5, 5)), Ratio((1, 1, 5, 4, 1)), Ratio((1, 1, 5, 3, 2)), Ratio((1, 1, 5, 3, 1, 1)), Ratio((1, 1, 5, 2, 3)), Ratio((1, 1, 5, 2, 2, 1)), Ratio((1, 1, 5, 2, 1, 2)), Ratio((1, 1, 5, 2, 1, 1, 1)), Ratio((1, 1, 5, 1, 4)), Ratio((1, 1, 5, 1, 3, 1)), Ratio((1, 1, 5, 1, 2, 2)), Ratio((1, 1, 5, 1, 2, 1, 1)), Ratio((1, 1, 5, 1, 1, 3)), Ratio((1, 1, 5, 1, 1, 2, 1)), Ratio((1, 1, 5, 1, 1, 1, 2)), Ratio((1, 1, 5, 1, 1, 1, 1, 1)), Ratio((1, 1, 4, 6)), Ratio((1, 1, 4, 5, 1)), Ratio((1, 1, 4, 4, 2)), Ratio((1, 1, 4, 4, 1, 1)), Ratio((1, 1, 4, 3, 3)), Ratio((1, 1, 4, 3, 2, 1)), Ratio((1, 1, 4, 3, 1, 2)), Ratio((1, 1, 4, 3, 1, 1, 1)), Ratio((1, 1, 4, 2, 4)), Ratio((1, 1, 4, 2, 3, 1)), Ratio((1, 1, 4, 2, 2, 2)), Ratio((1, 1, 4, 2, 2, 1, 1)), Ratio((1, 1, 4, 2, 1, 3)), Ratio((1, 1, 4, 2, 1, 2, 1)), Ratio((1, 1, 4, 2, 1, 1, 2)), Ratio((1, 1, 4, 2, 1, 1, 1, 1)), Ratio((1, 1, 4, 1, 5)), Ratio((1, 1, 4, 1, 4, 1)), Ratio((1, 1, 4, 1, 3, 2)), Ratio((1, 1, 4, 1, 3, 1, 1)), Ratio((1, 1, 4, 1, 2, 3)), Ratio((1, 1, 4, 1, 2, 2, 1)), Ratio((1, 1, 4, 1, 2, 1, 2)), Ratio((1, 1, 4, 1, 2, 1, 1, 1)), Ratio((1, 1, 4, 1, 1, 4)), Ratio((1, 1, 4, 1, 1, 3, 1)), Ratio((1, 1, 4, 1, 1, 2, 2)), Ratio((1, 1, 4, 1, 1, 2, 1, 1)), Ratio((1, 1, 4, 1, 1, 1, 3)), Ratio((1, 1, 4, 1, 1, 1, 2, 1)), Ratio((1, 1, 4, 1, 1, 1, 1, 2)), Ratio((1, 1, 4, 1, 1, 1, 1, 1, 1)), Ratio((1, 1, 3, 7)), Ratio((1, 1, 3, 6, 1)), Ratio((1, 1, 3, 5, 2)), Ratio((1, 1, 3, 5, 1, 1)), Ratio((1, 1, 3, 4, 3)), Ratio((1, 1, 3, 4, 2, 1)), Ratio((1, 1, 3, 4, 1, 2)), Ratio((1, 1, 3, 4, 1, 1, 1)), Ratio((1, 1, 3, 3, 4)), Ratio((1, 1, 3, 3, 3, 1)), Ratio((1, 1, 3, 3, 2, 2)), Ratio((1, 1, 3, 3, 2, 1, 1)), Ratio((1, 1, 3, 3, 1, 3)), Ratio((1, 1, 3, 3, 1, 2, 1)), Ratio((1, 1, 3, 3, 1, 1, 2)), Ratio((1, 1, 3, 3, 1, 1, 1, 1)), Ratio((1, 1, 3, 2, 5)), Ratio((1, 1, 3, 2, 4, 1)), Ratio((1, 1, 3, 2, 3, 2)), Ratio((1, 1, 3, 2, 3, 1, 1)), Ratio((1, 1, 3, 2, 2, 3)), Ratio((1, 1, 3, 2, 2, 2, 1)), Ratio((1, 1, 3, 2, 2, 1, 2)), Ratio((1, 1, 3, 2, 2, 1, 1, 1)), Ratio((1, 1, 3, 2, 1, 4)), Ratio((1, 1, 3, 2, 1, 3, 1)), Ratio((1, 1, 3, 2, 1, 2, 2)), Ratio((1, 1, 3, 2, 1, 2, 1, 1)), Ratio((1, 1, 3, 2, 1, 1, 3)), Ratio((1, 1, 3, 2, 1, 1, 2, 1)), Ratio((1, 1, 3, 2, 1, 1, 1, 2)), Ratio((1, 1, 3, 2, 1, 1, 1, 1, 1)), Ratio((1, 1, 3, 1, 6)), Ratio((1, 1, 3, 1, 5, 1)), Ratio((1, 1, 3, 1, 4, 2)), Ratio((1, 1, 3, 1, 4, 1, 1)), Ratio((1, 1, 3, 1, 3, 3)), Ratio((1, 1, 3, 1, 3, 2, 1)), Ratio((1, 1, 3, 1, 3, 1, 2)), Ratio((1, 1, 3, 1, 3, 1, 1, 1)), Ratio((1, 1, 3, 1, 2, 4)), Ratio((1, 1, 3, 1, 2, 3, 1)), Ratio((1, 1, 3, 1, 2, 2, 2)), Ratio((1, 1, 3, 1, 2, 2, 1, 1)), Ratio((1, 1, 3, 1, 2, 1, 3)), Ratio((1, 1, 3, 1, 2, 1, 2, 1)), Ratio((1, 1, 3, 1, 2, 1, 1, 2)), Ratio((1, 1, 3, 1, 2, 1, 1, 1, 1)), Ratio((1, 1, 3, 1, 1, 5)), Ratio((1, 1, 3, 1, 1, 4, 1)), Ratio((1, 1, 3, 1, 1, 3, 2)), Ratio((1, 1, 3, 1, 1, 3, 1, 1)), Ratio((1, 1, 3, 1, 1, 2, 3)), Ratio((1, 1, 3, 1, 1, 2, 2, 1)), Ratio((1, 1, 3, 1, 1, 2, 1, 2)), Ratio((1, 1, 3, 1, 1, 2, 1, 1, 1)), Ratio((1, 1, 3, 1, 1, 1, 4)), Ratio((1, 1, 3, 1, 1, 1, 3, 1)), Ratio((1, 1, 3, 1, 1, 1, 2, 2)), Ratio((1, 1, 3, 1, 1, 1, 2, 1, 1)), Ratio((1, 1, 3, 1, 1, 1, 1, 3)), Ratio((1, 1, 3, 1, 1, 1, 1, 2, 1)), Ratio((1, 1, 3, 1, 1, 1, 1, 1, 2)), Ratio((1, 1, 3, 1, 1, 1, 1, 1, 1, 1)), Ratio((1, 1, 2, 8)), Ratio((1, 1, 2, 7, 1)), Ratio((1, 1, 2, 6, 2)), Ratio((1, 1, 2, 6, 1, 1)), Ratio((1, 1, 2, 5, 3)), Ratio((1, 1, 2, 5, 2, 1)), Ratio((1, 1, 2, 5, 1, 2)), Ratio((1, 1, 2, 5, 1, 1, 1)), Ratio((1, 1, 2, 4, 4)), Ratio((1, 1, 2, 4, 3, 1)), Ratio((1, 1, 2, 4, 2, 2)), Ratio((1, 1, 2, 4, 2, 1, 1)), Ratio((1, 1, 2, 4, 1, 3)), Ratio((1, 1, 2, 4, 1, 2, 1)), Ratio((1, 1, 2, 4, 1, 1, 2)), Ratio((1, 1, 2, 4, 1, 1, 1, 1)), Ratio((1, 1, 2, 3, 5)), Ratio((1, 1, 2, 3, 4, 1)), Ratio((1, 1, 2, 3, 3, 2)), Ratio((1, 1, 2, 3, 3, 1, 1)), Ratio((1, 1, 2, 3, 2, 3)), Ratio((1, 1, 2, 3, 2, 2, 1)), Ratio((1, 1, 2, 3, 2, 1, 2)), Ratio((1, 1, 2, 3, 2, 1, 1, 1)), Ratio((1, 1, 2, 3, 1, 4)), Ratio((1, 1, 2, 3, 1, 3, 1)), Ratio((1, 1, 2, 3, 1, 2, 2)), Ratio((1, 1, 2, 3, 1, 2, 1, 1)), Ratio((1, 1, 2, 3, 1, 1, 3)), Ratio((1, 1, 2, 3, 1, 1, 2, 1)), Ratio((1, 1, 2, 3, 1, 1, 1, 2)), Ratio((1, 1, 2, 3, 1, 1, 1, 1, 1)), Ratio((1, 1, 2, 2, 6)), Ratio((1, 1, 2, 2, 5, 1)), Ratio((1, 1, 2, 2, 4, 2)), Ratio((1, 1, 2, 2, 4, 1, 1)), Ratio((1, 1, 2, 2, 3, 3)), Ratio((1, 1, 2, 2, 3, 2, 1)), Ratio((1, 1, 2, 2, 3, 1, 2)), Ratio((1, 1, 2, 2, 3, 1, 1, 1)), Ratio((1, 1, 2, 2, 2, 4)), Ratio((1, 1, 2, 2, 2, 3, 1)), Ratio((1, 1, 2, 2, 2, 2, 2)), Ratio((1, 1, 2, 2, 2, 2, 1, 1)), Ratio((1, 1, 2, 2, 2, 1, 3)), Ratio((1, 1, 2, 2, 2, 1, 2, 1)), Ratio((1, 1, 2, 2, 2, 1, 1, 2)), Ratio((1, 1, 2, 2, 2, 1, 1, 1, 1)), Ratio((1, 1, 2, 2, 1, 5)), Ratio((1, 1, 2, 2, 1, 4, 1)), Ratio((1, 1, 2, 2, 1, 3, 2)), Ratio((1, 1, 2, 2, 1, 3, 1, 1)), Ratio((1, 1, 2, 2, 1, 2, 3)), Ratio((1, 1, 2, 2, 1, 2, 2, 1)), Ratio((1, 1, 2, 2, 1, 2, 1, 2)), Ratio((1, 1, 2, 2, 1, 2, 1, 1, 1)), Ratio((1, 1, 2, 2, 1, 1, 4)), Ratio((1, 1, 2, 2, 1, 1, 3, 1)), Ratio((1, 1, 2, 2, 1, 1, 2, 2)), Ratio((1, 1, 2, 2, 1, 1, 2, 1, 1)), Ratio((1, 1, 2, 2, 1, 1, 1, 3)), Ratio((1, 1, 2, 2, 1, 1, 1, 2, 1)), Ratio((1, 1, 2, 2, 1, 1, 1, 1, 2)), Ratio((1, 1, 2, 2, 1, 1, 1, 1, 1, 1)), Ratio((1, 1, 2, 1, 7)), Ratio((1, 1, 2, 1, 6, 1)), Ratio((1, 1, 2, 1, 5, 2)), Ratio((1, 1, 2, 1, 5, 1, 1)), Ratio((1, 1, 2, 1, 4, 3)), Ratio((1, 1, 2, 1, 4, 2, 1)), Ratio((1, 1, 2, 1, 4, 1, 2)), Ratio((1, 1, 2, 1, 4, 1, 1, 1)), Ratio((1, 1, 2, 1, 3, 4)), Ratio((1, 1, 2, 1, 3, 3, 1)), Ratio((1, 1, 2, 1, 3, 2, 2)), Ratio((1, 1, 2, 1, 3, 2, 1, 1)), Ratio((1, 1, 2, 1, 3, 1, 3)), Ratio((1, 1, 2, 1, 3, 1, 2, 1)), Ratio((1, 1, 2, 1, 3, 1, 1, 2)), Ratio((1, 1, 2, 1, 3, 1, 1, 1, 1)), Ratio((1, 1, 2, 1, 2, 5)), Ratio((1, 1, 2, 1, 2, 4, 1)), Ratio((1, 1, 2, 1, 2, 3, 2)), Ratio((1, 1, 2, 1, 2, 3, 1, 1)), Ratio((1, 1, 2, 1, 2, 2, 3)), Ratio((1, 1, 2, 1, 2, 2, 2, 1)), Ratio((1, 1, 2, 1, 2, 2, 1, 2)), Ratio((1, 1, 2, 1, 2, 2, 1, 1, 1)), Ratio((1, 1, 2, 1, 2, 1, 4)), Ratio((1, 1, 2, 1, 2, 1, 3, 1)), Ratio((1, 1, 2, 1, 2, 1, 2, 2)), Ratio((1, 1, 2, 1, 2, 1, 2, 1, 1)), Ratio((1, 1, 2, 1, 2, 1, 1, 3)), Ratio((1, 1, 2, 1, 2, 1, 1, 2, 1)), Ratio((1, 1, 2, 1, 2, 1, 1, 1, 2)), Ratio((1, 1, 2, 1, 2, 1, 1, 1, 1, 1)), Ratio((1, 1, 2, 1, 1, 6)), Ratio((1, 1, 2, 1, 1, 5, 1)), Ratio((1, 1, 2, 1, 1, 4, 2)), Ratio((1, 1, 2, 1, 1, 4, 1, 1)), Ratio((1, 1, 2, 1, 1, 3, 3)), Ratio((1, 1, 2, 1, 1, 3, 2, 1)), Ratio((1, 1, 2, 1, 1, 3, 1, 2)), Ratio((1, 1, 2, 1, 1, 3, 1, 1, 1)), Ratio((1, 1, 2, 1, 1, 2, 4)), Ratio((1, 1, 2, 1, 1, 2, 3, 1)), Ratio((1, 1, 2, 1, 1, 2, 2, 2)), Ratio((1, 1, 2, 1, 1, 2, 2, 1, 1)), Ratio((1, 1, 2, 1, 1, 2, 1, 3)), Ratio((1, 1, 2, 1, 1, 2, 1, 2, 1)), Ratio((1, 1, 2, 1, 1, 2, 1, 1, 2)), Ratio((1, 1, 2, 1, 1, 2, 1, 1, 1, 1)), Ratio((1, 1, 2, 1, 1, 1, 5)), Ratio((1, 1, 2, 1, 1, 1, 4, 1)), Ratio((1, 1, 2, 1, 1, 1, 3, 2)), Ratio((1, 1, 2, 1, 1, 1, 3, 1, 1)), Ratio((1, 1, 2, 1, 1, 1, 2, 3)), Ratio((1, 1, 2, 1, 1, 1, 2, 2, 1)), Ratio((1, 1, 2, 1, 1, 1, 2, 1, 2)), Ratio((1, 1, 2, 1, 1, 1, 2, 1, 1, 1)), Ratio((1, 1, 2, 1, 1, 1, 1, 4)), Ratio((1, 1, 2, 1, 1, 1, 1, 3, 1)), Ratio((1, 1, 2, 1, 1, 1, 1, 2, 2)), Ratio((1, 1, 2, 1, 1, 1, 1, 2, 1, 1)), Ratio((1, 1, 2, 1, 1, 1, 1, 1, 3)), Ratio((1, 1, 2, 1, 1, 1, 1, 1, 2, 1)), Ratio((1, 1, 2, 1, 1, 1, 1, 1, 1, 2)), Ratio((1, 1, 2, 1, 1, 1, 1, 1, 1, 1, 1)), Ratio((1, 1, 1, 9)), Ratio((1, 1, 1, 8, 1)), Ratio((1, 1, 1, 7, 2)), Ratio((1, 1, 1, 7, 1, 1)), Ratio((1, 1, 1, 6, 3)), Ratio((1, 1, 1, 6, 2, 1)), Ratio((1, 1, 1, 6, 1, 2)), Ratio((1, 1, 1, 6, 1, 1, 1)), Ratio((1, 1, 1, 5, 4)), Ratio((1, 1, 1, 5, 3, 1)), Ratio((1, 1, 1, 5, 2, 2)), Ratio((1, 1, 1, 5, 2, 1, 1)), Ratio((1, 1, 1, 5, 1, 3)), Ratio((1, 1, 1, 5, 1, 2, 1)), Ratio((1, 1, 1, 5, 1, 1, 2)), Ratio((1, 1, 1, 5, 1, 1, 1, 1)), Ratio((1, 1, 1, 4, 5)), Ratio((1, 1, 1, 4, 4, 1)), Ratio((1, 1, 1, 4, 3, 2)), Ratio((1, 1, 1, 4, 3, 1, 1)), Ratio((1, 1, 1, 4, 2, 3)), Ratio((1, 1, 1, 4, 2, 2, 1)), Ratio((1, 1, 1, 4, 2, 1, 2)), Ratio((1, 1, 1, 4, 2, 1, 1, 1)), Ratio((1, 1, 1, 4, 1, 4)), Ratio((1, 1, 1, 4, 1, 3, 1)), Ratio((1, 1, 1, 4, 1, 2, 2)), Ratio((1, 1, 1, 4, 1, 2, 1, 1)), Ratio((1, 1, 1, 4, 1, 1, 3)), Ratio((1, 1, 1, 4, 1, 1, 2, 1)), Ratio((1, 1, 1, 4, 1, 1, 1, 2)), Ratio((1, 1, 1, 4, 1, 1, 1, 1, 1)), Ratio((1, 1, 1, 3, 6)), Ratio((1, 1, 1, 3, 5, 1)), Ratio((1, 1, 1, 3, 4, 2)), Ratio((1, 1, 1, 3, 4, 1, 1)), Ratio((1, 1, 1, 3, 3, 3)), Ratio((1, 1, 1, 3, 3, 2, 1)), Ratio((1, 1, 1, 3, 3, 1, 2)), Ratio((1, 1, 1, 3, 3, 1, 1, 1)), Ratio((1, 1, 1, 3, 2, 4)), Ratio((1, 1, 1, 3, 2, 3, 1)), Ratio((1, 1, 1, 3, 2, 2, 2)), Ratio((1, 1, 1, 3, 2, 2, 1, 1)), Ratio((1, 1, 1, 3, 2, 1, 3)), Ratio((1, 1, 1, 3, 2, 1, 2, 1)), Ratio((1, 1, 1, 3, 2, 1, 1, 2)), Ratio((1, 1, 1, 3, 2, 1, 1, 1, 1)), Ratio((1, 1, 1, 3, 1, 5)), Ratio((1, 1, 1, 3, 1, 4, 1)), Ratio((1, 1, 1, 3, 1, 3, 2)), Ratio((1, 1, 1, 3, 1, 3, 1, 1)), Ratio((1, 1, 1, 3, 1, 2, 3)), Ratio((1, 1, 1, 3, 1, 2, 2, 1)), Ratio((1, 1, 1, 3, 1, 2, 1, 2)), Ratio((1, 1, 1, 3, 1, 2, 1, 1, 1)), Ratio((1, 1, 1, 3, 1, 1, 4)), Ratio((1, 1, 1, 3, 1, 1, 3, 1)), Ratio((1, 1, 1, 3, 1, 1, 2, 2)), Ratio((1, 1, 1, 3, 1, 1, 2, 1, 1)), Ratio((1, 1, 1, 3, 1, 1, 1, 3)), Ratio((1, 1, 1, 3, 1, 1, 1, 2, 1)), Ratio((1, 1, 1, 3, 1, 1, 1, 1, 2)), Ratio((1, 1, 1, 3, 1, 1, 1, 1, 1, 1)), Ratio((1, 1, 1, 2, 7)), Ratio((1, 1, 1, 2, 6, 1)), Ratio((1, 1, 1, 2, 5, 2)), Ratio((1, 1, 1, 2, 5, 1, 1)), Ratio((1, 1, 1, 2, 4, 3)), Ratio((1, 1, 1, 2, 4, 2, 1)), Ratio((1, 1, 1, 2, 4, 1, 2)), Ratio((1, 1, 1, 2, 4, 1, 1, 1)), Ratio((1, 1, 1, 2, 3, 4)), Ratio((1, 1, 1, 2, 3, 3, 1)), Ratio((1, 1, 1, 2, 3, 2, 2)), Ratio((1, 1, 1, 2, 3, 2, 1, 1)), Ratio((1, 1, 1, 2, 3, 1, 3)), Ratio((1, 1, 1, 2, 3, 1, 2, 1)), Ratio((1, 1, 1, 2, 3, 1, 1, 2)), Ratio((1, 1, 1, 2, 3, 1, 1, 1, 1)), Ratio((1, 1, 1, 2, 2, 5)), Ratio((1, 1, 1, 2, 2, 4, 1)), Ratio((1, 1, 1, 2, 2, 3, 2)), Ratio((1, 1, 1, 2, 2, 3, 1, 1)), Ratio((1, 1, 1, 2, 2, 2, 3)), Ratio((1, 1, 1, 2, 2, 2, 2, 1)), Ratio((1, 1, 1, 2, 2, 2, 1, 2)), Ratio((1, 1, 1, 2, 2, 2, 1, 1, 1)), Ratio((1, 1, 1, 2, 2, 1, 4)), Ratio((1, 1, 1, 2, 2, 1, 3, 1)), Ratio((1, 1, 1, 2, 2, 1, 2, 2)), Ratio((1, 1, 1, 2, 2, 1, 2, 1, 1)), Ratio((1, 1, 1, 2, 2, 1, 1, 3)), Ratio((1, 1, 1, 2, 2, 1, 1, 2, 1)), Ratio((1, 1, 1, 2, 2, 1, 1, 1, 2)), Ratio((1, 1, 1, 2, 2, 1, 1, 1, 1, 1)), Ratio((1, 1, 1, 2, 1, 6)), Ratio((1, 1, 1, 2, 1, 5, 1)), Ratio((1, 1, 1, 2, 1, 4, 2)), Ratio((1, 1, 1, 2, 1, 4, 1, 1)), Ratio((1, 1, 1, 2, 1, 3, 3)), Ratio((1, 1, 1, 2, 1, 3, 2, 1)), Ratio((1, 1, 1, 2, 1, 3, 1, 2)), Ratio((1, 1, 1, 2, 1, 3, 1, 1, 1)), Ratio((1, 1, 1, 2, 1, 2, 4)), Ratio((1, 1, 1, 2, 1, 2, 3, 1)), Ratio((1, 1, 1, 2, 1, 2, 2, 2)), Ratio((1, 1, 1, 2, 1, 2, 2, 1, 1)), Ratio((1, 1, 1, 2, 1, 2, 1, 3)), Ratio((1, 1, 1, 2, 1, 2, 1, 2, 1)), Ratio((1, 1, 1, 2, 1, 2, 1, 1, 2)), Ratio((1, 1, 1, 2, 1, 2, 1, 1, 1, 1)), Ratio((1, 1, 1, 2, 1, 1, 5)), Ratio((1, 1, 1, 2, 1, 1, 4, 1)), Ratio((1, 1, 1, 2, 1, 1, 3, 2)), Ratio((1, 1, 1, 2, 1, 1, 3, 1, 1)), Ratio((1, 1, 1, 2, 1, 1, 2, 3)), Ratio((1, 1, 1, 2, 1, 1, 2, 2, 1)), Ratio((1, 1, 1, 2, 1, 1, 2, 1, 2)), Ratio((1, 1, 1, 2, 1, 1, 2, 1, 1, 1)), Ratio((1, 1, 1, 2, 1, 1, 1, 4)), Ratio((1, 1, 1, 2, 1, 1, 1, 3, 1)), Ratio((1, 1, 1, 2, 1, 1, 1, 2, 2)), Ratio((1, 1, 1, 2, 1, 1, 1, 2, 1, 1)), Ratio((1, 1, 1, 2, 1, 1, 1, 1, 3)), Ratio((1, 1, 1, 2, 1, 1, 1, 1, 2, 1)), Ratio((1, 1, 1, 2, 1, 1, 1, 1, 1, 2)), Ratio((1, 1, 1, 2, 1, 1, 1, 1, 1, 1, 1)), Ratio((1, 1, 1, 1, 8)), Ratio((1, 1, 1, 1, 7, 1)), Ratio((1, 1, 1, 1, 6, 2)), Ratio((1, 1, 1, 1, 6, 1, 1)), Ratio((1, 1, 1, 1, 5, 3)), Ratio((1, 1, 1, 1, 5, 2, 1)), Ratio((1, 1, 1, 1, 5, 1, 2)), Ratio((1, 1, 1, 1, 5, 1, 1, 1)), Ratio((1, 1, 1, 1, 4, 4)), Ratio((1, 1, 1, 1, 4, 3, 1)), Ratio((1, 1, 1, 1, 4, 2, 2)), Ratio((1, 1, 1, 1, 4, 2, 1, 1)), Ratio((1, 1, 1, 1, 4, 1, 3)), Ratio((1, 1, 1, 1, 4, 1, 2, 1)), Ratio((1, 1, 1, 1, 4, 1, 1, 2)), Ratio((1, 1, 1, 1, 4, 1, 1, 1, 1)), Ratio((1, 1, 1, 1, 3, 5)), Ratio((1, 1, 1, 1, 3, 4, 1)), Ratio((1, 1, 1, 1, 3, 3, 2)), Ratio((1, 1, 1, 1, 3, 3, 1, 1)), Ratio((1, 1, 1, 1, 3, 2, 3)), Ratio((1, 1, 1, 1, 3, 2, 2, 1)), Ratio((1, 1, 1, 1, 3, 2, 1, 2)), Ratio((1, 1, 1, 1, 3, 2, 1, 1, 1)), Ratio((1, 1, 1, 1, 3, 1, 4)), Ratio((1, 1, 1, 1, 3, 1, 3, 1)), Ratio((1, 1, 1, 1, 3, 1, 2, 2)), Ratio((1, 1, 1, 1, 3, 1, 2, 1, 1)), Ratio((1, 1, 1, 1, 3, 1, 1, 3)), Ratio((1, 1, 1, 1, 3, 1, 1, 2, 1)), Ratio((1, 1, 1, 1, 3, 1, 1, 1, 2)), Ratio((1, 1, 1, 1, 3, 1, 1, 1, 1, 1)), Ratio((1, 1, 1, 1, 2, 6)), Ratio((1, 1, 1, 1, 2, 5, 1)), Ratio((1, 1, 1, 1, 2, 4, 2)), Ratio((1, 1, 1, 1, 2, 4, 1, 1)), Ratio((1, 1, 1, 1, 2, 3, 3)), Ratio((1, 1, 1, 1, 2, 3, 2, 1)), Ratio((1, 1, 1, 1, 2, 3, 1, 2)), Ratio((1, 1, 1, 1, 2, 3, 1, 1, 1)), Ratio((1, 1, 1, 1, 2, 2, 4)), Ratio((1, 1, 1, 1, 2, 2, 3, 1)), Ratio((1, 1, 1, 1, 2, 2, 2, 2)), Ratio((1, 1, 1, 1, 2, 2, 2, 1, 1)), Ratio((1, 1, 1, 1, 2, 2, 1, 3)), Ratio((1, 1, 1, 1, 2, 2, 1, 2, 1)), Ratio((1, 1, 1, 1, 2, 2, 1, 1, 2)), Ratio((1, 1, 1, 1, 2, 2, 1, 1, 1, 1)), Ratio((1, 1, 1, 1, 2, 1, 5)), Ratio((1, 1, 1, 1, 2, 1, 4, 1)), Ratio((1, 1, 1, 1, 2, 1, 3, 2)), Ratio((1, 1, 1, 1, 2, 1, 3, 1, 1)), Ratio((1, 1, 1, 1, 2, 1, 2, 3)), Ratio((1, 1, 1, 1, 2, 1, 2, 2, 1)), Ratio((1, 1, 1, 1, 2, 1, 2, 1, 2)), Ratio((1, 1, 1, 1, 2, 1, 2, 1, 1, 1)), Ratio((1, 1, 1, 1, 2, 1, 1, 4)), Ratio((1, 1, 1, 1, 2, 1, 1, 3, 1)), Ratio((1, 1, 1, 1, 2, 1, 1, 2, 2)), Ratio((1, 1, 1, 1, 2, 1, 1, 2, 1, 1)), Ratio((1, 1, 1, 1, 2, 1, 1, 1, 3)), Ratio((1, 1, 1, 1, 2, 1, 1, 1, 2, 1)), Ratio((1, 1, 1, 1, 2, 1, 1, 1, 1, 2)), Ratio((1, 1, 1, 1, 2, 1, 1, 1, 1, 1, 1)), Ratio((1, 1, 1, 1, 1, 7)), Ratio((1, 1, 1, 1, 1, 6, 1)), Ratio((1, 1, 1, 1, 1, 5, 2)), Ratio((1, 1, 1, 1, 1, 5, 1, 1)), Ratio((1, 1, 1, 1, 1, 4, 3)), Ratio((1, 1, 1, 1, 1, 4, 2, 1)), Ratio((1, 1, 1, 1, 1, 4, 1, 2)), Ratio((1, 1, 1, 1, 1, 4, 1, 1, 1)), Ratio((1, 1, 1, 1, 1, 3, 4)), Ratio((1, 1, 1, 1, 1, 3, 3, 1)), Ratio((1, 1, 1, 1, 1, 3, 2, 2)), Ratio((1, 1, 1, 1, 1, 3, 2, 1, 1)), Ratio((1, 1, 1, 1, 1, 3, 1, 3)), Ratio((1, 1, 1, 1, 1, 3, 1, 2, 1)), Ratio((1, 1, 1, 1, 1, 3, 1, 1, 2)), Ratio((1, 1, 1, 1, 1, 3, 1, 1, 1, 1)), Ratio((1, 1, 1, 1, 1, 2, 5)), Ratio((1, 1, 1, 1, 1, 2, 4, 1)), Ratio((1, 1, 1, 1, 1, 2, 3, 2)), Ratio((1, 1, 1, 1, 1, 2, 3, 1, 1)), Ratio((1, 1, 1, 1, 1, 2, 2, 3)), Ratio((1, 1, 1, 1, 1, 2, 2, 2, 1)), Ratio((1, 1, 1, 1, 1, 2, 2, 1, 2)), Ratio((1, 1, 1, 1, 1, 2, 2, 1, 1, 1)), Ratio((1, 1, 1, 1, 1, 2, 1, 4)), Ratio((1, 1, 1, 1, 1, 2, 1, 3, 1)), Ratio((1, 1, 1, 1, 1, 2, 1, 2, 2)), Ratio((1, 1, 1, 1, 1, 2, 1, 2, 1, 1)), Ratio((1, 1, 1, 1, 1, 2, 1, 1, 3)), Ratio((1, 1, 1, 1, 1, 2, 1, 1, 2, 1)), Ratio((1, 1, 1, 1, 1, 2, 1, 1, 1, 2)), Ratio((1, 1, 1, 1, 1, 2, 1, 1, 1, 1, 1)), Ratio((1, 1, 1, 1, 1, 1, 6)), Ratio((1, 1, 1, 1, 1, 1, 5, 1)), Ratio((1, 1, 1, 1, 1, 1, 4, 2)), Ratio((1, 1, 1, 1, 1, 1, 4, 1, 1)), Ratio((1, 1, 1, 1, 1, 1, 3, 3)), Ratio((1, 1, 1, 1, 1, 1, 3, 2, 1)), Ratio((1, 1, 1, 1, 1, 1, 3, 1, 2)), Ratio((1, 1, 1, 1, 1, 1, 3, 1, 1, 1)), Ratio((1, 1, 1, 1, 1, 1, 2, 4)), Ratio((1, 1, 1, 1, 1, 1, 2, 3, 1)), Ratio((1, 1, 1, 1, 1, 1, 2, 2, 2)), Ratio((1, 1, 1, 1, 1, 1, 2, 2, 1, 1)), Ratio((1, 1, 1, 1, 1, 1, 2, 1, 3)), Ratio((1, 1, 1, 1, 1, 1, 2, 1, 2, 1)), Ratio((1, 1, 1, 1, 1, 1, 2, 1, 1, 2)), Ratio((1, 1, 1, 1, 1, 1, 2, 1, 1, 1, 1)), Ratio((1, 1, 1, 1, 1, 1, 1, 5)), Ratio((1, 1, 1, 1, 1, 1, 1, 4, 1)), Ratio((1, 1, 1, 1, 1, 1, 1, 3, 2)), Ratio((1, 1, 1, 1, 1, 1, 1, 3, 1, 1)), Ratio((1, 1, 1, 1, 1, 1, 1, 2, 3)), Ratio((1, 1, 1, 1, 1, 1, 1, 2, 2, 1)), Ratio((1, 1, 1, 1, 1, 1, 1, 2, 1, 2)), Ratio((1, 1, 1, 1, 1, 1, 1, 2, 1, 1, 1)), Ratio((1, 1, 1, 1, 1, 1, 1, 1, 4)), Ratio((1, 1, 1, 1, 1, 1, 1, 1, 3, 1)), Ratio((1, 1, 1, 1, 1, 1, 1, 1, 2, 2)), Ratio((1, 1, 1, 1, 1, 1, 1, 1, 2, 1, 1)), Ratio((1, 1, 1, 1, 1, 1, 1, 1, 1, 3)), Ratio((1, 1, 1, 1, 1, 1, 1, 1, 1, 2, 1)), Ratio((1, 1, 1, 1, 1, 1, 1, 1, 1, 1, 2)), Ratio((1, 1, 1, 1, 1, 1, 1, 1, 1, 1, 1, 1))]\n"
     ]
    }
   ],
   "source": [
    "comps = []\n",
    "for composition in mathtools.yield_all_compositions_of_integer(12):\n",
    "    ratio = mathtools.Ratio(composition)\n",
    "    comps.append(ratio)"
   ]
  },
  {
   "cell_type": "code",
   "execution_count": null,
   "metadata": {
    "collapsed": true
   },
   "outputs": [],
   "source": []
  }
 ],
 "metadata": {
  "kernelspec": {
   "display_name": "Python 2",
   "language": "python",
   "name": "python2"
  },
  "language_info": {
   "codemirror_mode": {
    "name": "ipython",
    "version": 2
   },
   "file_extension": ".py",
   "mimetype": "text/x-python",
   "name": "python",
   "nbconvert_exporter": "python",
   "pygments_lexer": "ipython2",
   "version": "2.7.11"
  }
 },
 "nbformat": 4,
 "nbformat_minor": 0
}
