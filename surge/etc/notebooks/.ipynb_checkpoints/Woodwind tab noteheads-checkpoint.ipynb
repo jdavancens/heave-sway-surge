{
 "cells": [
  {
   "cell_type": "code",
   "execution_count": 1,
   "metadata": {
    "collapsed": true
   },
   "outputs": [],
   "source": [
    "from abjad import *\n",
    "%load_ext abjad.ext.ipython"
   ]
  },
  {
   "cell_type": "code",
   "execution_count": 2,
   "metadata": {
    "collapsed": false
   },
   "outputs": [
    {
     "data": {
      "image/png": "[encoded data removed]"
     },
     "metadata": {},
     "output_type": "display_data"
    }
   ],
   "source": [
    "chord = Chord(\"g' b'\", Duration(1,4))\n",
    "square = Markup.filled_box((-0.5,0.5),(-0.5,0.5),0)\n",
    "b = Markup(\"B\")\n",
    "flat = Markup.flat()\n",
    "text= Markup.concat([b,flat]).raise_(-0.5).fontsize(-4).whiteout()\n",
    "hspace = Markup.hspace(0.5)\n",
    "markup = Markup.concat([text, hspace, square])\n",
    "chord.note_heads[0].tweak.stencil = 'ly:text-interface::print'\n",
    "chord.note_heads[0].tweak.text = markup\n",
    "dot = Markup.filled_box((-0.2, 0.2), (-0.2, 0.2), 0)\n",
    "dot_in_box = dot.box().whiteout()\n",
    "chord.note_heads[1].tweak.stencil = 'ly:text-interface::print'\n",
    "chord.note_heads[1].tweak.text = dot_in_box\n",
    "staff = Staff([chord])\n",
    "override(staff).note_head.stem_attachment = schemetools.SchemePair(0.75, 0)\n",
    "override(staff).staff_symbol.staff_space = 1.5\n",
    "show(staff)"
   ]
  },
  {
   "cell_type": "code",
   "execution_count": 87,
   "metadata": {
    "collapsed": false
   },
   "outputs": [
    {
     "name": "stdout",
     "output_type": "stream",
     "text": [
      "\\markup {\n",
      "    \\postscript\n",
      "        #\"\n",
      "        0 0 1 0 180 arc\n",
      "        closepath\n",
      "        0 setgray\n",
      "        fill\n",
      "        \"\n",
      "    }\n"
     ]
    }
   ],
   "source": [
    "arc = markuptools.PostscriptOperator('arc', 0, 0, 1, 0, 180)\n",
    "postscript = markuptools.Postscript([arc])\n",
    "postscript = postscript.closepath()\n",
    "postscript = postscript.setgray(0)\n",
    "postscript = postscript.fill()\n",
    "filled_circle = postscript.as_markup()\n",
    "f(filled_circle)"
   ]
  },
  {
   "cell_type": "code",
   "execution_count": 91,
   "metadata": {
    "collapsed": false
   },
   "outputs": [
    {
     "name": "stdout",
     "output_type": "stream",
     "text": [
      "\\markup {\n",
      "    \\combine\n",
      "        \\postscript\n",
      "            #\"\n",
      "            0 0 1 0 180 arc\n",
      "            closepath\n",
      "            0 setgray\n",
      "            fill\n",
      "            \"\n",
      "        \\draw-circle\n",
      "            #1\n",
      "            #0.1\n",
      "            ##f\n",
      "    }\n"
     ]
    }
   ],
   "source": [
    "circle = markuptools.MarkupCommand('draw-circle', 1, 0.1, False)\n",
    "half_circle = markuptools.Markup.combine(filled_circle, circle)\n",
    "f(half_circle)"
   ]
  },
  {
   "cell_type": "code",
   "execution_count": 89,
   "metadata": {
    "collapsed": false
   },
   "outputs": [
    {
     "data": {
      "image/png": "[encoded data removed]"
     },
     "metadata": {},
     "output_type": "display_data"
    }
   ],
   "source": [
    "show(white_circle)"
   ]
  },
  {
   "cell_type": "code",
   "execution_count": null,
   "metadata": {
    "collapsed": true
   },
   "outputs": [],
   "source": []
  }
 ],
 "metadata": {
  "kernelspec": {
   "display_name": "Python 2",
   "language": "python",
   "name": "python2"
  },
  "language_info": {
   "codemirror_mode": {
    "name": "ipython",
    "version": 2
   },
   "file_extension": ".py",
   "mimetype": "text/x-python",
   "name": "python",
   "nbconvert_exporter": "python",
   "pygments_lexer": "ipython2",
   "version": "2.7.11"
  }
 },
 "nbformat": 4,
 "nbformat_minor": 0
}
