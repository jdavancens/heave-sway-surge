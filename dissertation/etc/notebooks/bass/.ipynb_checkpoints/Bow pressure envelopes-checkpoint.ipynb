{
 "cells": [
  {
   "cell_type": "code",
   "execution_count": 2,
   "metadata": {
    "collapsed": true
   },
   "outputs": [],
   "source": [
    "import numpy as np\n",
    "from dissertation import *\n",
    "import matplotlib.pyplot as plt\n",
    "%matplotlib inline\n",
    "res = 2000"
   ]
  },
  {
   "cell_type": "code",
   "execution_count": 13,
   "metadata": {
    "collapsed": false
   },
   "outputs": [
    {
     "data": {
      "text/plain": [
       "[<matplotlib.lines.Line2D at 0x10fc38950>]"
      ]
     },
     "execution_count": 13,
     "metadata": {},
     "output_type": "execute_result"
    },
    {
     "data": {
      "image/png": "[encoded data removed]",
      "text/plain": [
       "<matplotlib.figure.Figure at 0x10f8a74d0>"
      ]
     },
     "metadata": {},
     "output_type": "display_data"
    }
   ],
   "source": [
    "path_stage_3 = Path(\n",
    "    # 3-1\n",
    "    BezierCurve((0, 0), (5, 0)),\n",
    "    BezierCurve((5, 0), (7, 0.1), (9, 0.7)),\n",
    "    # 3-2\n",
    "    BezierCurve((9, 0), (20, 0)),\n",
    "    BezierCurve((20, 0.7), (21, 0.3), (22, 0.3)),\n",
    "    # 3-3\n",
    "    BezierCurve((22, 0), (32, 0)),\n",
    "    BezierCurve((32, 0.3), (33, 0.3), (34, 0.5)),\n",
    "    # 3-4\n",
    "    BezierCurve((34, 0), (45, 0)),\n",
    "    BezierCurve((45, 0.5), (46, (0.5)), (47, 0.7)),\n",
    ")\n",
    "# path_stage_3.set_interpolater(SineInterpolater(freq=8, amp=1))\n",
    "X = [x/float(res) for x in range(res)]\n",
    "Y = [path_stage_3(x) for x in X]\n",
    "fig, ax = plt.subplots(1, 1, figsize=(16, 4))\n",
    "ax.set_autoscale_on(False)\n",
    "plt.plot(X,Y, 'r.-')"
   ]
  },
  {
   "cell_type": "code",
   "execution_count": null,
   "metadata": {
    "collapsed": true
   },
   "outputs": [],
   "source": []
  }
 ],
 "metadata": {
  "kernelspec": {
   "display_name": "Python 2",
   "language": "python",
   "name": "python2"
  },
  "language_info": {
   "codemirror_mode": {
    "name": "ipython",
    "version": 2
   },
   "file_extension": ".py",
   "mimetype": "text/x-python",
   "name": "python",
   "nbconvert_exporter": "python",
   "pygments_lexer": "ipython2",
   "version": "2.7.11"
  }
 },
 "nbformat": 4,
 "nbformat_minor": 0
}
