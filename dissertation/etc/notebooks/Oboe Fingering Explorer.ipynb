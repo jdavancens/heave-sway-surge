{
 "cells": [
  {
   "cell_type": "markdown",
   "metadata": {},
   "source": [
    "## Import libraries and fingering maps"
   ]
  },
  {
   "cell_type": "code",
   "execution_count": 2,
   "metadata": {
    "collapsed": false
   },
   "outputs": [
    {
     "name": "stdout",
     "output_type": "stream",
     "text": [
      "/Users/josephdavancens/git/dissertation\n",
      "/Users/josephdavancens/git/dissertation/dissertation/materials/woodwindfingerings/oboe\n"
     ]
    },
    {
     "ename": "TypeError",
     "evalue": "__init__() got an unexpected keyword argument 'fingering'",
     "output_type": "error",
     "traceback": [
      "\u001b[0;31m---------------------------------------------------------------------------\u001b[0m",
      "\u001b[0;31mTypeError\u001b[0m                                 Traceback (most recent call last)",
      "\u001b[0;32m<ipython-input-2-75740079d42d>\u001b[0m in \u001b[0;36m<module>\u001b[0;34m()\u001b[0m\n\u001b[1;32m      4\u001b[0m \u001b[0;32mfrom\u001b[0m \u001b[0mdissertation\u001b[0m \u001b[0;32mimport\u001b[0m \u001b[0;34m*\u001b[0m\u001b[0;34m\u001b[0m\u001b[0m\n\u001b[1;32m      5\u001b[0m \u001b[0mget_ipython\u001b[0m\u001b[0;34m(\u001b[0m\u001b[0;34m)\u001b[0m\u001b[0;34m.\u001b[0m\u001b[0mmagic\u001b[0m\u001b[0;34m(\u001b[0m\u001b[0;34mu'cd /Users/josephdavancens/git/dissertation/dissertation/materials/woodwindfingerings/oboe'\u001b[0m\u001b[0;34m)\u001b[0m\u001b[0;34m\u001b[0m\u001b[0m\n\u001b[0;32m----> 6\u001b[0;31m \u001b[0;32mfrom\u001b[0m \u001b[0malternate_fingering_map\u001b[0m \u001b[0;32mimport\u001b[0m \u001b[0malternate_fingering_map\u001b[0m\u001b[0;34m\u001b[0m\u001b[0m\n\u001b[0m\u001b[1;32m      7\u001b[0m \u001b[0;32mfrom\u001b[0m \u001b[0mbasic_fingering_map\u001b[0m \u001b[0;32mimport\u001b[0m \u001b[0mbasic_fingering_map\u001b[0m\u001b[0;34m\u001b[0m\u001b[0m\n\u001b[1;32m      8\u001b[0m \u001b[0;32mfrom\u001b[0m \u001b[0mmultiphonic_fingering_map\u001b[0m \u001b[0;32mimport\u001b[0m \u001b[0mmultiphonic_fingering_map\u001b[0m\u001b[0;34m\u001b[0m\u001b[0m\n",
      "\u001b[0;32m/Users/josephdavancens/git/dissertation/dissertation/materials/woodwindfingerings/oboe/alternate_fingering_map.py\u001b[0m in \u001b[0;36m<module>\u001b[0;34m()\u001b[0m\n\u001b[1;32m     29\u001b[0m                 \u001b[0;34m'middle'\u001b[0m\u001b[0;34m:\u001b[0m\u001b[0;34m'down'\u001b[0m\u001b[0;34m,\u001b[0m\u001b[0;34m\u001b[0m\u001b[0m\n\u001b[1;32m     30\u001b[0m                 \u001b[0;34m'ring'\u001b[0m\u001b[0;34m:\u001b[0m\u001b[0;34m'down'\u001b[0m\u001b[0;34m,\u001b[0m\u001b[0;34m\u001b[0m\u001b[0m\n\u001b[0;32m---> 31\u001b[0;31m                 \u001b[0;34m'pinky'\u001b[0m\u001b[0;34m:\u001b[0m\u001b[0;34m'ees'\u001b[0m\u001b[0;34m,\u001b[0m\u001b[0;34m\u001b[0m\u001b[0m\n\u001b[0m\u001b[1;32m     32\u001b[0m             }\n\u001b[1;32m     33\u001b[0m         ),\n",
      "\u001b[0;31mTypeError\u001b[0m: __init__() got an unexpected keyword argument 'fingering'"
     ]
    }
   ],
   "source": [
    "from abjad import *\n",
    "%load_ext abjad.ext.ipython\n",
    "%cd /Users/josephdavancens/git/dissertation\n",
    "from dissertation import *\n",
    "%cd /Users/josephdavancens/git/dissertation/dissertation/materials/woodwindfingerings/oboe\n",
    "from alternate_fingering_map import alternate_fingering_map\n",
    "from basic_fingering_map import basic_fingering_map\n",
    "from multiphonic_fingering_map import multiphonic_fingering_map"
   ]
  },
  {
   "cell_type": "markdown",
   "metadata": {},
   "source": [
    "## Put fingering maps in a list sorted by lowest partial"
   ]
  },
  {
   "cell_type": "code",
   "execution_count": null,
   "metadata": {
    "collapsed": false
   },
   "outputs": [],
   "source": [
    "all_fingerings = list()"
   ]
  },
  {
   "cell_type": "code",
   "execution_count": null,
   "metadata": {
    "collapsed": false
   },
   "outputs": [],
   "source": [
    "for k, v in basic_fingering_map.items():\n",
    "    vector = [[k],v]\n",
    "    all_fingerings.append(vector)\n",
    "for k, v in alternate_fingering_map.items():\n",
    "    vector = [[k],v]\n",
    "    all_fingerings.append(vector)\n",
    "for k, v in multiphonic_fingering_map.items():\n",
    "    vector = [sorted(k),v]\n",
    "    all_fingerings.append(vector)    "
   ]
  },
  {
   "cell_type": "code",
   "execution_count": null,
   "metadata": {
    "collapsed": false
   },
   "outputs": [],
   "source": [
    "all_fingerings = sorted(all_fingerings, key=lambda f: f[0])\n",
    "all_combis = []\n",
    "for x in all_fingerings:\n",
    "    combi = actions.WoodwindFingeringCombination(\n",
    "        instrument=instrumenttools.Oboe(),\n",
    "        left=x[1][0],\n",
    "        right=x[1][1],\n",
    "        predicted_pitches=x[0]\n",
    "    )\n",
    "    all_combis.append(combi)"
   ]
  },
  {
   "cell_type": "markdown",
   "metadata": {},
   "source": [
    "## Show all fingerings that produce either A4, A5 or A6 partials"
   ]
  },
  {
   "cell_type": "code",
   "execution_count": null,
   "metadata": {
    "collapsed": false
   },
   "outputs": [],
   "source": [
    "a_partials = [x for x in all_combis if \\\n",
    "              pitchtools.NamedPitch(\"a'\") in x.predicted_pitches or \\\n",
    "              pitchtools.NamedPitch(\"a''\") in x.predicted_pitches or \\\n",
    "              pitchtools.NamedPitch(\"a'''\") in x.predicted_pitches]"
   ]
  },
  {
   "cell_type": "code",
   "execution_count": null,
   "metadata": {
    "collapsed": false
   },
   "outputs": [],
   "source": [
    "chords = []\n",
    "for fingering_combination in a_partials: \n",
    "    chord = fingering_combination.markup(size=0.67, graphical=False)\n",
    "    chords.append(chord)\n",
    "staff = Staff(chords)\n",
    "show(staff)"
   ]
  },
  {
   "cell_type": "markdown",
   "metadata": {},
   "source": [
    "# Filter by fingering"
   ]
  },
  {
   "cell_type": "markdown",
   "metadata": {},
   "source": [
    "## Left hand"
   ]
  },
  {
   "cell_type": "markdown",
   "metadata": {},
   "source": [
    "### LH=(None, down, down, None, None)"
   ]
  },
  {
   "cell_type": "code",
   "execution_count": null,
   "metadata": {
    "collapsed": false
   },
   "outputs": [],
   "source": [
    "f = actions.WoodwindFingering(instrument=instrumenttools.Oboe(),hand='left',\n",
    "    fingering={\n",
    "        'thumb':None,\n",
    "        'index':'down',\n",
    "        'middle':'down',\n",
    "        'ring':None,\n",
    "        'pinky':None\n",
    "    },\n",
    ")\n",
    "lh_fingering = [x for x in all_combis if f == x.left]\n",
    "chords = []\n",
    "for fingering_combination in lh_fingering: \n",
    "    chord = fingering_combination.markup(size=0.67, graphical=False)\n",
    "    chords.append(chord)\n",
    "staff = Staff(chords)\n",
    "show(staff)"
   ]
  },
  {
   "cell_type": "markdown",
   "metadata": {},
   "source": [
    "### LH=(I, None, down, down, None)"
   ]
  },
  {
   "cell_type": "code",
   "execution_count": null,
   "metadata": {
    "collapsed": false
   },
   "outputs": [],
   "source": [
    "f = actions.WoodwindFingering(instrument=instrumenttools.Oboe(), hand='left',\n",
    "    fingering={\n",
    "        'thumb':'I',\n",
    "        'index':None,\n",
    "        'middle':'down',\n",
    "        'ring':'down',\n",
    "        'pinky':None\n",
    "    },\n",
    ")\n",
    "lh_fingering = [x for x in all_combis if f == x.left]\n",
    "chords = []\n",
    "for fingering_combination in lh_fingering: \n",
    "    chord = fingering_combination.markup(size=0.67, graphical=False)\n",
    "    chords.append(chord)\n",
    "staff = Staff(chords)\n",
    "show(staff)"
   ]
  },
  {
   "cell_type": "markdown",
   "metadata": {},
   "source": [
    "## Right hand"
   ]
  },
  {
   "cell_type": "markdown",
   "metadata": {},
   "source": [
    "### RH=(None, down, down, None)"
   ]
  },
  {
   "cell_type": "code",
   "execution_count": null,
   "metadata": {
    "collapsed": true
   },
   "outputs": [],
   "source": [
    "f = actions.WoodwindFingering(instrument=instrumenttools.Oboe(), hand='right',\n",
    "    fingering={\n",
    "        'index':None,\n",
    "        'middle':'down',\n",
    "        'ring':'down',\n",
    "        'pinky':None,\n",
    "    },\n",
    ")\n",
    "rh_fingering = [x for x in all_combis if f == x.right]"
   ]
  },
  {
   "cell_type": "code",
   "execution_count": null,
   "metadata": {
    "collapsed": false
   },
   "outputs": [],
   "source": [
    "chords = []\n",
    "for fingering_combination in rh_fingering: \n",
    "    chord = fingering_combination.markup(size=0.67, graphical=False)\n",
    "    chords.append(chord)\n",
    "staff = Staff(chords)\n",
    "show(staff)"
   ]
  },
  {
   "cell_type": "markdown",
   "metadata": {
    "collapsed": true
   },
   "source": [
    "# Show combinations of LH and RH fingerings"
   ]
  },
  {
   "cell_type": "code",
   "execution_count": null,
   "metadata": {
    "collapsed": false
   },
   "outputs": [],
   "source": [
    "lh1 = actions.WoodwindFingering(instrument=instrumenttools.Oboe(), hand='left',\n",
    "    fingering={\n",
    "        'thumb':None,\n",
    "        'index':'down',\n",
    "        'middle':'down',\n",
    "        'ring':None,\n",
    "        'pinky':None\n",
    "    },\n",
    ")\n",
    "lh2 = actions.WoodwindFingering(instrument=instrumenttools.Oboe(), hand='left',\n",
    "    fingering={\n",
    "        'thumb':'I',\n",
    "        'index':None,\n",
    "        'middle':'down',\n",
    "        'ring':'down',\n",
    "        'pinky':None\n",
    "    },\n",
    ")\n",
    "rh1 = actions.WoodwindFingering(instrument=instrumenttools.Oboe(), hand='right',\n",
    "    fingering={\n",
    "        'index':'down',\n",
    "        'middle':'down',\n",
    "        'ring':'down',\n",
    "        'pinky':None,\n",
    "    },\n",
    ")\n",
    "rh2 = actions.WoodwindFingering(instrument=instrumenttools.Oboe(), hand='right',\n",
    "    fingering={\n",
    "        'index':None,\n",
    "        'middle':'down',\n",
    "        'ring':'down',\n",
    "        'pinky':None,\n",
    "    },\n",
    ")\n",
    "rh3 = actions.WoodwindFingering(instrument=instrumenttools.Oboe(), hand='right',\n",
    "    fingering={\n",
    "        'index':None,\n",
    "        'middle':None,\n",
    "        'ring':None,\n",
    "        'pinky':None\n",
    "    },\n",
    ")\n",
    "a = actions.WoodwindFingeringCombination(\n",
    "    instrument=instrumenttools.Oboe(),\n",
    "    left=lh1,\n",
    "    right=rh1,\n",
    "    predicted_pitches=None\n",
    ")"
   ]
  },
  {
   "cell_type": "code",
   "execution_count": null,
   "metadata": {
    "collapsed": false
   },
   "outputs": [],
   "source": [
    "lh = [lh1, lh2]\n",
    "rh = [rh1, rh2, rh3]\n",
    "combinations = []\n",
    "for f in lh:\n",
    "    for g in rh:\n",
    "        x = actions.WoodwindFingeringCombination(\n",
    "            instrument=instrumenttools.Oboe(),\n",
    "            left=f,\n",
    "            right=g,\n",
    "            predicted_pitches=None\n",
    "        )\n",
    "        combinations.append(x)\n",
    "for c in combinations:\n",
    "    show(c)"
   ]
  },
  {
   "cell_type": "code",
   "execution_count": null,
   "metadata": {
    "collapsed": false
   },
   "outputs": [],
   "source": []
  }
 ],
 "metadata": {
  "kernelspec": {
   "display_name": "Python 2",
   "language": "python",
   "name": "python2"
  },
  "language_info": {
   "codemirror_mode": {
    "name": "ipython",
    "version": 2
   },
   "file_extension": ".py",
   "mimetype": "text/x-python",
   "name": "python",
   "nbconvert_exporter": "python",
   "pygments_lexer": "ipython2",
   "version": "2.7.11"
  }
 },
 "nbformat": 4,
 "nbformat_minor": 0
}
