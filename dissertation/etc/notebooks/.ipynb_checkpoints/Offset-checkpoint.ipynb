{
 "cells": [
  {
   "cell_type": "code",
   "execution_count": 1,
   "metadata": {
    "collapsed": true
   },
   "outputs": [],
   "source": [
    "from abjad import *\n",
    "%load_ext abjad.ext.ipython"
   ]
  },
  {
   "cell_type": "code",
   "execution_count": 41,
   "metadata": {
    "collapsed": false
   },
   "outputs": [],
   "source": [
    "v = Voice(\"c'4 c'4 c'4 c'4 c'4\")\n",
    "tuplet = Tuplet(Multiplier(2, 3), \"c'8 d'8 ~ e'8\")\n",
    "v.append(tuplet)\n",
    "ts = inspect_(v).get_timespan()"
   ]
  },
  {
   "cell_type": "code",
   "execution_count": 42,
   "metadata": {
    "collapsed": false
   },
   "outputs": [],
   "source": [
    "ts.stop_offset\n",
    "dur = float(ts.stop_offset)"
   ]
  },
  {
   "cell_type": "code",
   "execution_count": 43,
   "metadata": {
    "collapsed": false
   },
   "outputs": [
    {
     "data": {
      "text/plain": [
       "0.25"
      ]
     },
     "execution_count": 43,
     "metadata": {},
     "output_type": "execute_result"
    }
   ],
   "source": [
    "float(Offset(1, 4) / Offset(1,1))"
   ]
  },
  {
   "cell_type": "code",
   "execution_count": 44,
   "metadata": {
    "collapsed": false
   },
   "outputs": [
    {
     "name": "stdout",
     "output_type": "stream",
     "text": [
      "(0.0, Duration(1, 4))\n",
      "()\n",
      "(0.16666666666666666, Duration(1, 4))\n",
      "()\n",
      "(0.3333333333333333, Duration(1, 4))\n",
      "()\n",
      "(0.5, Duration(1, 4))\n",
      "()\n",
      "(0.6666666666666666, Duration(1, 4))\n",
      "()\n",
      "(0.8333333333333334, Duration(1, 12))\n",
      "()\n",
      "(0.8888888888888888, Duration(1, 6))\n",
      "()\n"
     ]
    }
   ],
   "source": [
    "for logical_tie in iterate(v).by_logical_tie():\n",
    "    m = float(inspect_(logical_tie[0]).get_vertical_moment(v).offset)\n",
    "    ltd = logical_tie.get_duration()\n",
    "    print(m/dur, ltd)\n",
    "    print()"
   ]
  },
  {
   "cell_type": "code",
   "execution_count": null,
   "metadata": {
    "collapsed": true
   },
   "outputs": [],
   "source": []
  },
  {
   "cell_type": "code",
   "execution_count": null,
   "metadata": {
    "collapsed": true
   },
   "outputs": [],
   "source": []
  }
 ],
 "metadata": {
  "kernelspec": {
   "display_name": "Python 2",
   "language": "python",
   "name": "python2"
  },
  "language_info": {
   "codemirror_mode": {
    "name": "ipython",
    "version": 2
   },
   "file_extension": ".py",
   "mimetype": "text/x-python",
   "name": "python",
   "nbconvert_exporter": "python",
   "pygments_lexer": "ipython2",
   "version": "2.7.11"
  }
 },
 "nbformat": 4,
 "nbformat_minor": 0
}
