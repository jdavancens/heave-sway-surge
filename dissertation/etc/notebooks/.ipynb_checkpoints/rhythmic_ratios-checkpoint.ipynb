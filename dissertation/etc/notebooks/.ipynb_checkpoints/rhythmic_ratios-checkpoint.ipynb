{
 "cells": [
  {
   "cell_type": "code",
   "execution_count": 1,
   "metadata": {
    "collapsed": false
   },
   "outputs": [
    {
     "ename": "ImportError",
     "evalue": "No module named 'abjad'",
     "output_type": "error",
     "traceback": [
      "\u001b[0;31m---------------------------------------------------------------------------\u001b[0m",
      "\u001b[0;31mImportError\u001b[0m                               Traceback (most recent call last)",
      "\u001b[0;32m<ipython-input-1-2c1e5b5318ca>\u001b[0m in \u001b[0;36m<module>\u001b[0;34m()\u001b[0m\n\u001b[0;32m----> 1\u001b[0;31m \u001b[0;32mfrom\u001b[0m \u001b[0mabjad\u001b[0m \u001b[0;32mimport\u001b[0m \u001b[0;34m*\u001b[0m\u001b[0;34m\u001b[0m\u001b[0m\n\u001b[0m\u001b[1;32m      2\u001b[0m \u001b[0mget_ipython\u001b[0m\u001b[0;34m(\u001b[0m\u001b[0;34m)\u001b[0m\u001b[0;34m.\u001b[0m\u001b[0mmagic\u001b[0m\u001b[0;34m(\u001b[0m\u001b[0;34m'load_ext abjad.ext.ipython'\u001b[0m\u001b[0;34m)\u001b[0m\u001b[0;34m\u001b[0m\u001b[0m\n\u001b[1;32m      3\u001b[0m \u001b[0;32mimport\u001b[0m \u001b[0mrandom\u001b[0m\u001b[0;34m\u001b[0m\u001b[0m\n\u001b[1;32m      4\u001b[0m \u001b[0mload_sound_font\u001b[0m\u001b[0;34m(\u001b[0m\u001b[0;34m'/Users/josephdavancens/Dropbox/Music/Samples/drums and percussion/Lex Luger and Luger Smoked Out Drum Kits/Lex Luger Kit/Soundfonts (6)/1115_Bell_Melody_MI_(899KB).sf2'\u001b[0m\u001b[0;34m,\u001b[0m\u001b[0;34m'gm'\u001b[0m\u001b[0;34m)\u001b[0m\u001b[0;34m\u001b[0m\u001b[0m\n",
      "\u001b[0;31mImportError\u001b[0m: No module named 'abjad'"
     ]
    }
   ],
   "source": [
    "from abjad import *\n",
    "%load_ext abjad.ext.ipython\n",
    "import random\n",
    "load_sound_font('/Users/josephdavancens/Dropbox/Music/Samples/drums and percussion/Lex Luger and Luger Smoked Out Drum Kits/Lex Luger Kit/Soundfonts (6)/1115_Bell_Melody_MI_(899KB).sf2','gm')"
   ]
  },
  {
   "cell_type": "markdown",
   "metadata": {},
   "source": [
    "# Construct a 2D Matrix of Integer Ratios"
   ]
  },
  {
   "cell_type": "code",
   "execution_count": null,
   "metadata": {
    "collapsed": true
   },
   "outputs": [],
   "source": [
    "size = 9\n",
    "n_measures = 128\n",
    "ratios = [[[i,j] for j in range(1,size+1)] for i in range(1,size+1)]"
   ]
  },
  {
   "cell_type": "code",
   "execution_count": null,
   "metadata": {
    "collapsed": false
   },
   "outputs": [],
   "source": [
    "for row in ratios:\n",
    "    print(str(row))\n",
    "    print('')"
   ]
  },
  {
   "cell_type": "markdown",
   "metadata": {},
   "source": [
    "# Define a function that performs a random walk over the ratio-matrix"
   ]
  },
  {
   "cell_type": "code",
   "execution_count": null,
   "metadata": {
    "collapsed": false
   },
   "outputs": [],
   "source": [
    "def stumble(matrix_size, last):\n",
    "    step = (0,0)\n",
    "    while step == (0,0):\n",
    "        y_step = random.choice([-1,0,1])\n",
    "        if last[0] + y_step < 1 or last[0] + y_step >= size:\n",
    "            y_step *= -1\n",
    "        x_step = random.choice([-1,0,1])\n",
    "        if last[1] + x_step < 1 or last[1] + x_step >= size:\n",
    "            x_step *= -1\n",
    "        step = (y_step, x_step)\n",
    "    return [last[0] + step[0], last[1] + step[1]]"
   ]
  },
  {
   "cell_type": "markdown",
   "metadata": {},
   "source": [
    "# Do the walk"
   ]
  },
  {
   "cell_type": "code",
   "execution_count": null,
   "metadata": {
    "collapsed": false,
    "scrolled": false
   },
   "outputs": [],
   "source": [
    "last = [0,8]\n",
    "walk = [ratios[last[1]][last[0]]]\n",
    "indices = [last]\n",
    "for i in range(n_measures):\n",
    "    current = stumble(size, last)\n",
    "    ratio = ratios[current[1]][current[0]]\n",
    "    walk.append(ratio)\n",
    "    last = current\n",
    "walk = tuple(walk)\n",
    "print(walk)"
   ]
  },
  {
   "cell_type": "markdown",
   "metadata": {},
   "source": [
    "# Interpretation 1: as ratio between two timespans"
   ]
  },
  {
   "cell_type": "code",
   "execution_count": null,
   "metadata": {
    "collapsed": false
   },
   "outputs": [],
   "source": [
    "ts = (2,4)\n",
    "\n",
    "staff = Staff(context_name='RhythmicStaff')\n",
    "for ratio in walk:\n",
    "    tuplet = Tuplet.from_duration_and_ratio(ts, ratio)\n",
    "    markup = Markup(str(ratio[0])+':'+str(ratio[1]))\n",
    "    attach(markup, tuplet[0])\n",
    "    measure = Measure(ts,[tuplet])\n",
    "    staff.append(measure)"
   ]
  },
  {
   "cell_type": "code",
   "execution_count": null,
   "metadata": {
    "collapsed": false
   },
   "outputs": [],
   "source": [
    "show(staff)"
   ]
  },
  {
   "cell_type": "markdown",
   "metadata": {},
   "source": [
    "# Interpretation 2: polyrhythms"
   ]
  },
  {
   "cell_type": "code",
   "execution_count": null,
   "metadata": {
    "collapsed": false
   },
   "outputs": [],
   "source": [
    "staff1 = Staff(context_name='RhythmicStaff')\n",
    "staff2 = Staff(context_name='RhythmicStaff')\n",
    "for ratio in walk:\n",
    "    n1 = [1]*ratio[0]\n",
    "    n2 = [1]*ratio[1]\n",
    "    duration = Duration(2, 4)\n",
    "    tuplet1 = Tuplet.from_duration_and_ratio(duration, n1)\n",
    "    tuplet2 = Tuplet.from_duration_and_ratio(duration, n2)\n",
    "    markup = Markup(str(ratio[0])+':'+str(ratio[1]))\n",
    "    attach(markup, tuplet1[0])\n",
    "    measure1 = Measure(duration,[tuplet1])\n",
    "    measure2 = Measure(duration,[tuplet2])\n",
    "    staff1.append(measure1)\n",
    "    staff2.append(measure2)\n",
    "score = Score([staff1,staff2])"
   ]
  },
  {
   "cell_type": "code",
   "execution_count": null,
   "metadata": {
    "collapsed": false
   },
   "outputs": [],
   "source": [
    "show(score)"
   ]
  }
 ],
 "metadata": {
  "kernelspec": {
   "display_name": "Python 3",
   "language": "python",
   "name": "python3"
  },
  "language_info": {
   "codemirror_mode": {
    "name": "ipython",
    "version": 3
   },
   "file_extension": ".py",
   "mimetype": "text/x-python",
   "name": "python",
   "nbconvert_exporter": "python",
   "pygments_lexer": "ipython3",
   "version": "3.5.1"
  }
 },
 "nbformat": 4,
 "nbformat_minor": 0
}
