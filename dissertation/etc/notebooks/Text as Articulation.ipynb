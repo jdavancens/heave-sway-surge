{
 "cells": [
  {
   "cell_type": "code",
   "execution_count": 1,
   "metadata": {
    "collapsed": true
   },
   "outputs": [],
   "source": [
    "from abjad import *\n",
    "%load_ext abjad.ext.ipython"
   ]
  },
  {
   "cell_type": "code",
   "execution_count": 62,
   "metadata": {
    "collapsed": false
   },
   "outputs": [
    {
     "name": "stdout",
     "output_type": "stream",
     "text": [
      "\\new Staff {\n",
      "    \\once \\override TextScript #'extra-offset = #'(-2 . 4.5)\n",
      "    e''4\n",
      "        - \\markup {\n",
      "            \\whiteout\n",
      "                \\fontsize\n",
      "                    #-4\n",
      "                    \\raise\n",
      "                        #0.5\n",
      "                        \\concat\n",
      "                            {\n",
      "                                B\n",
      "                                \\flat\n",
      "                            }\n",
      "            }\n",
      "    \\once \\override TextScript #'extra-offset = #'(-2 . 1.5)\n",
      "    f'4\n",
      "        - \\markup {\n",
      "            \\whiteout\n",
      "                \\fontsize\n",
      "                    #-4\n",
      "                    \\raise\n",
      "                        #0.5\n",
      "                        \\concat\n",
      "                            {\n",
      "                                B\n",
      "                                \\flat\n",
      "                            }\n",
      "            }\n",
      "}\n"
     ]
    },
    {
     "data": {
      "image/png": "[encoded data removed]"
     },
     "metadata": {},
     "output_type": "display_data"
    }
   ],
   "source": [
    "n = Note(\"e''\")\n",
    "b = Markup('B')\n",
    "flat = Markup.flat()\n",
    "b_flat = Markup.concat([b, flat])\n",
    "b_flat = b_flat.raise_(0.5)\n",
    "b_flat = b_flat.fontsize(-4)\n",
    "b_flat = b_flat.whiteout()\n",
    "override(n).TextScript.extra_offset = schemetools.SchemePair(-2, 4.5)\n",
    "attach(b_flat, n)\n",
    "staff = Staff([n])\n",
    "n = Note(\"f'\")\n",
    "b = Markup('B')\n",
    "flat = Markup.flat()\n",
    "b_flat = Markup.concat([b, flat])\n",
    "b_flat = b_flat.raise_(0.5)\n",
    "b_flat = b_flat.fontsize(-4)\n",
    "b_flat = b_flat.whiteout()\n",
    "override(n).TextScript.extra_offset = schemetools.SchemePair(-2, 1.5)\n",
    "attach(b_flat, n)\n",
    "staff.append(n)\n",
    "f(staff)\n",
    "show(staff)"
   ]
  },
  {
   "cell_type": "code",
   "execution_count": null,
   "metadata": {
    "collapsed": true
   },
   "outputs": [],
   "source": [
    "n = Note(\"e''\")\n",
    "a = indicatortools.Articulation('Bb', direction=0)\n",
    "f(a)\n",
    "attach(a, n)\n",
    "staff = Staff([n])\n",
    "override(n).TextScript.side_axis = 0\n",
    "override(n).TextScript.X_offset = 0\n",
    "override(n).TextScript.Y_offset = 0\n",
    "#override(n).TextScript.extra_offset = schemetools.SchemePair(-3, 4.5)\n",
    "override(n).stem.stencil = False\n",
    "f(staff)\n",
    "show(n)"
   ]
  }
 ],
 "metadata": {
  "kernelspec": {
   "display_name": "Python 2",
   "language": "python",
   "name": "python2"
  },
  "language_info": {
   "codemirror_mode": {
    "name": "ipython",
    "version": 2
   },
   "file_extension": ".py",
   "mimetype": "text/x-python",
   "name": "python",
   "nbconvert_exporter": "python",
   "pygments_lexer": "ipython2",
   "version": "2.7.11"
  }
 },
 "nbformat": 4,
 "nbformat_minor": 0
}
