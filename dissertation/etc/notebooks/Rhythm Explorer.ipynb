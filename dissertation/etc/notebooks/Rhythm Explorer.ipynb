{
 "cells": [
  {
   "cell_type": "code",
   "execution_count": 2,
   "metadata": {
    "collapsed": false
   },
   "outputs": [
    {
     "name": "stdout",
     "output_type": "stream",
     "text": [
      "The abjad.ext.ipython extension is already loaded. To reload it, use:\n",
      "  %reload_ext abjad.ext.ipython\n",
      "/Users/josephdavancens/git/dissertation\n",
      "/Users/josephdavancens/git/dissertation/dissertation/materials/segment01\n"
     ]
    },
    {
     "ename": "ImportError",
     "evalue": "No module named segment01.time_signatures",
     "output_type": "error",
     "traceback": [
      "\u001b[0;31m---------------------------------------------------------------------------\u001b[0m",
      "\u001b[0;31mImportError\u001b[0m                               Traceback (most recent call last)",
      "\u001b[0;32m<ipython-input-2-68207f68948f>\u001b[0m in \u001b[0;36m<module>\u001b[0;34m()\u001b[0m\n\u001b[1;32m      4\u001b[0m \u001b[0;32mfrom\u001b[0m \u001b[0mdissertation\u001b[0m \u001b[0;32mimport\u001b[0m \u001b[0;34m*\u001b[0m\u001b[0;34m\u001b[0m\u001b[0m\n\u001b[1;32m      5\u001b[0m \u001b[0mget_ipython\u001b[0m\u001b[0;34m(\u001b[0m\u001b[0;34m)\u001b[0m\u001b[0;34m.\u001b[0m\u001b[0mmagic\u001b[0m\u001b[0;34m(\u001b[0m\u001b[0;34mu'cd /Users/josephdavancens/git/dissertation/dissertation/materials/segment01/'\u001b[0m\u001b[0;34m)\u001b[0m\u001b[0;34m\u001b[0m\u001b[0m\n\u001b[0;32m----> 6\u001b[0;31m \u001b[0;32mfrom\u001b[0m \u001b[0mtempo_map\u001b[0m \u001b[0;32mimport\u001b[0m \u001b[0mtempo_map\u001b[0m\u001b[0;34m\u001b[0m\u001b[0m\n\u001b[0m\u001b[1;32m      7\u001b[0m \u001b[0;32mfrom\u001b[0m \u001b[0mtime_signatures\u001b[0m \u001b[0;32mimport\u001b[0m \u001b[0mtime_signatures\u001b[0m\u001b[0;34m\u001b[0m\u001b[0m\n",
      "\u001b[0;32m/Users/josephdavancens/git/dissertation/dissertation/materials/segment01/tempo_map.py\u001b[0m in \u001b[0;36m<module>\u001b[0;34m()\u001b[0m\n\u001b[1;32m      6\u001b[0m \u001b[0;32mfrom\u001b[0m \u001b[0mabjad\u001b[0m\u001b[0;34m.\u001b[0m\u001b[0mtools\u001b[0m\u001b[0;34m.\u001b[0m\u001b[0mindicatortools\u001b[0m\u001b[0;34m.\u001b[0m\u001b[0mTempo\u001b[0m \u001b[0;32mimport\u001b[0m \u001b[0mTempo\u001b[0m\u001b[0;34m\u001b[0m\u001b[0m\n\u001b[1;32m      7\u001b[0m \u001b[0;32mfrom\u001b[0m \u001b[0mabjad\u001b[0m\u001b[0;34m.\u001b[0m\u001b[0mtools\u001b[0m\u001b[0;34m.\u001b[0m\u001b[0mdurationtools\u001b[0m\u001b[0;34m.\u001b[0m\u001b[0mDuration\u001b[0m \u001b[0;32mimport\u001b[0m \u001b[0mDuration\u001b[0m\u001b[0;34m\u001b[0m\u001b[0m\n\u001b[0;32m----> 8\u001b[0;31m \u001b[0;32mfrom\u001b[0m \u001b[0mdissertation\u001b[0m\u001b[0;34m.\u001b[0m\u001b[0mmaterials\u001b[0m\u001b[0;34m.\u001b[0m\u001b[0msegment01\u001b[0m\u001b[0;34m.\u001b[0m\u001b[0mtime_signatures\u001b[0m \u001b[0;32mimport\u001b[0m \u001b[0mtime_signatures\u001b[0m\u001b[0;34m\u001b[0m\u001b[0m\n\u001b[0m\u001b[1;32m      9\u001b[0m tempi = (\n\u001b[1;32m     10\u001b[0m     (\n",
      "\u001b[0;31mImportError\u001b[0m: No module named segment01.time_signatures"
     ]
    }
   ],
   "source": [
    "from abjad import *\n",
    "%load_ext abjad.ext.ipython\n",
    "%cd /Users/josephdavancens/git/dissertation\n",
    "from dissertation import *\n",
    "%cd /Users/josephdavancens/git/dissertation/dissertation/materials/segment01/\n",
    "from tempo_map import tempo_map\n",
    "from time_signatures import time_signatures"
   ]
  },
  {
   "cell_type": "code",
   "execution_count": 3,
   "metadata": {
    "collapsed": false
   },
   "outputs": [
    {
     "ename": "NameError",
     "evalue": "name 'tempo_map' is not defined",
     "output_type": "error",
     "traceback": [
      "\u001b[0;31m---------------------------------------------------------------------------\u001b[0m",
      "\u001b[0;31mNameError\u001b[0m                                 Traceback (most recent call last)",
      "\u001b[0;32m<ipython-input-3-ab70e0157078>\u001b[0m in \u001b[0;36m<module>\u001b[0;34m()\u001b[0m\n\u001b[0;32m----> 1\u001b[0;31m \u001b[0;32mprint\u001b[0m\u001b[0;34m(\u001b[0m\u001b[0mtempo_map\u001b[0m\u001b[0;34m[\u001b[0m\u001b[0;36m0\u001b[0m\u001b[0;34m]\u001b[0m\u001b[0;34m[\u001b[0m\u001b[0;36m1\u001b[0m\u001b[0;34m]\u001b[0m\u001b[0;34m)\u001b[0m\u001b[0;34m\u001b[0m\u001b[0m\n\u001b[0m\u001b[1;32m      2\u001b[0m \u001b[0;32mprint\u001b[0m\u001b[0;34m(\u001b[0m\u001b[0mlen\u001b[0m\u001b[0;34m(\u001b[0m\u001b[0mtime_signatures\u001b[0m\u001b[0;34m[\u001b[0m\u001b[0;36m0\u001b[0m\u001b[0;34m]\u001b[0m\u001b[0;34m[\u001b[0m\u001b[0;36m0\u001b[0m\u001b[0;34m]\u001b[0m\u001b[0;34m)\u001b[0m\u001b[0;34m)\u001b[0m\u001b[0;34m\u001b[0m\u001b[0m\n",
      "\u001b[0;31mNameError\u001b[0m: name 'tempo_map' is not defined"
     ]
    }
   ],
   "source": [
    "print(tempo_map[0][1])\n",
    "print(len(time_signatures[0][0]))"
   ]
  },
  {
   "cell_type": "code",
   "execution_count": 3,
   "metadata": {
    "collapsed": false
   },
   "outputs": [
    {
     "name": "stdout",
     "output_type": "stream",
     "text": [
      "(TimeSignature((3, 4)), TimeSignature((2, 4)), TimeSignature((5, 8)))\n",
      "(TimeSignature((3, 8)), TimeSignature((5, 8)))\n",
      "(TimeSignature((2, 4)), TimeSignature((2, 4)), TimeSignature((3, 8)), TimeSignature((5, 8)))\n",
      "(TimeSignature((2, 4)), TimeSignature((5, 8)), TimeSignature((3, 8)))\n",
      "(TimeSignature((5, 8)), TimeSignature((3, 8)), TimeSignature((2, 4)), TimeSignature((3, 8)))\n"
     ]
    }
   ],
   "source": [
    "stage_1 = time_signatures[0][0]\n",
    "groups = [3,2,4,3,4]\n",
    "for group in sequencetools.partition_sequence_by_counts(stage_1, groups):\n",
    "    print(group)"
   ]
  },
  {
   "cell_type": "markdown",
   "metadata": {},
   "source": [
    "# Embouchure rhythms with Incised Rhythm Maker"
   ]
  },
  {
   "cell_type": "code",
   "execution_count": 4,
   "metadata": {
    "collapsed": false
   },
   "outputs": [],
   "source": [
    "maker = rhythmmakertools.IncisedRhythmMaker(\n",
    "    incise_specifier=rhythmmakertools.InciseSpecifier(\n",
    "        prefix_talea=[0],\n",
    "        prefix_counts=[1],\n",
    "        suffix_talea=[-3],\n",
    "        suffix_counts=[1],\n",
    "        talea_denominator=8,\n",
    "        outer_divisions_only=True\n",
    "    ),\n",
    "    tie_specifier=rhythmmakertools.TieSpecifier(tie_across_divisions=True),\n",
    ")"
   ]
  },
  {
   "cell_type": "code",
   "execution_count": 5,
   "metadata": {
    "collapsed": false
   },
   "outputs": [],
   "source": [
    "music = []\n",
    "for group in sequencetools.partition_sequence_by_counts(stage_1, groups):\n",
    "    incision = maker(group)\n",
    "    music.extend(incision)"
   ]
  },
  {
   "cell_type": "code",
   "execution_count": 6,
   "metadata": {
    "collapsed": false
   },
   "outputs": [],
   "source": [
    "lpf = rhythmmakertools.make_lilypond_file(music, stage_1)"
   ]
  },
  {
   "cell_type": "code",
   "execution_count": 9,
   "metadata": {
    "collapsed": true
   },
   "outputs": [],
   "source": [
    "#show(lpf)"
   ]
  },
  {
   "cell_type": "markdown",
   "metadata": {
    "collapsed": true
   },
   "source": [
    "# Fingering rhythms with Tuplet Rhythm Maker"
   ]
  },
  {
   "cell_type": "code",
   "execution_count": 26,
   "metadata": {
    "collapsed": false
   },
   "outputs": [],
   "source": [
    "tuplet_spelling_specifier = rhythmmakertools.TupletSpellingSpecifier(\n",
    "    avoid_dots=True,\n",
    "    flatten_trivial_tuplets=True,\n",
    "    is_diminution=True,\n",
    "    simplify_tuplets=True,\n",
    ")\n",
    "maker = rhythmmakertools.TupletRhythmMaker(\n",
    "    tuplet_ratios=[(-1,3,2,1),(3,2),(1,3,1,2)],\n",
    "    tuplet_spelling_specifier=tuplet_spelling_specifier,\n",
    ")"
   ]
  },
  {
   "cell_type": "code",
   "execution_count": 27,
   "metadata": {
    "collapsed": false
   },
   "outputs": [],
   "source": [
    "music = maker(stage_1[0:3])"
   ]
  },
  {
   "cell_type": "code",
   "execution_count": 28,
   "metadata": {
    "collapsed": true
   },
   "outputs": [],
   "source": [
    "lpf = rhythmmakertools.make_lilypond_file(music, stage_1[0:3])"
   ]
  },
  {
   "cell_type": "code",
   "execution_count": 29,
   "metadata": {
    "collapsed": false
   },
   "outputs": [
    {
     "data": {
      "image/png": "[encoded data removed]"
     },
     "metadata": {},
     "output_type": "display_data"
    }
   ],
   "source": [
    "show(lpf)"
   ]
  },
  {
   "cell_type": "markdown",
   "metadata": {},
   "source": [
    "# Embouchure rhythms with Note Rhythm Maker"
   ]
  },
  {
   "cell_type": "code",
   "execution_count": null,
   "metadata": {
    "collapsed": true
   },
   "outputs": [],
   "source": []
  }
 ],
 "metadata": {
  "kernelspec": {
   "display_name": "Python 2",
   "language": "python",
   "name": "python2"
  },
  "language_info": {
   "codemirror_mode": {
    "name": "ipython",
    "version": 2
   },
   "file_extension": ".py",
   "mimetype": "text/x-python",
   "name": "python",
   "nbconvert_exporter": "python",
   "pygments_lexer": "ipython2",
   "version": "2.7.11"
  }
 },
 "nbformat": 4,
 "nbformat_minor": 0
}
